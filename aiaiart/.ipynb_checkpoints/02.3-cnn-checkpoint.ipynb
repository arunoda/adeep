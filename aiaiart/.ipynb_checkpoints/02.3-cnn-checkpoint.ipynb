{
 "cells": [
  {
   "cell_type": "markdown",
   "id": "ef84b782-0c4a-4f2e-9e8c-715e9ecdc812",
   "metadata": {},
   "source": [
    "# Let's Build a CNN\n",
    "\n",
    "Let's see whether we can build a CNN to clasify the MNIST dataset."
   ]
  },
  {
   "cell_type": "markdown",
   "id": "a011c979-1536-478f-b187-1fed9faeb393",
   "metadata": {},
   "source": [
    "## Loading the Dataset"
   ]
  },
  {
   "cell_type": "code",
   "execution_count": 1,
   "id": "37588826-bbf6-4bbb-b02f-1515bf6ed2df",
   "metadata": {},
   "outputs": [],
   "source": [
    "import torch\n",
    "import torch.nn as nn\n",
    "from matplotlib import pyplot as plt\n",
    "from torchvision import datasets, transforms\n",
    "from tqdm.notebook import tqdm"
   ]
  },
  {
   "cell_type": "code",
   "execution_count": 2,
   "id": "6395f143-c544-4dd9-a778-cbd017bbb175",
   "metadata": {},
   "outputs": [
    {
     "data": {
      "text/plain": [
       "(60000, 10000)"
      ]
     },
     "execution_count": 2,
     "metadata": {},
     "output_type": "execute_result"
    }
   ],
   "source": [
    "ds_train = datasets.MNIST('~/.data/MNIST', download=True, train=True, transform=transforms.ToTensor())\n",
    "ds_valid = datasets.MNIST('~/.data/MNIST', download=True, train=False, transform=transforms.ToTensor())\n",
    "len(ds_train), len(ds_valid)"
   ]
  },
  {
   "cell_type": "code",
   "execution_count": 3,
   "id": "42a9cbbb-db7e-44e8-934b-1a07d7aed190",
   "metadata": {},
   "outputs": [
    {
     "data": {
      "image/png": "[encoded data removed]",
      "text/plain": [
       "<Figure size 720x216 with 4 Axes>"
      ]
     },
     "metadata": {
      "needs_background": "light"
     },
     "output_type": "display_data"
    }
   ],
   "source": [
    "_, ax = plt.subplots(1, 4, figsize=(10, 3))\n",
    "for i in range(4):\n",
    "    image, label = ds_train[i]\n",
    "    ax[i].imshow(image.squeeze(0), cmap=\"gray\")\n",
    "    ax[i].set_title(f\"Label: {label}\")"
   ]
  },
  {
   "cell_type": "markdown",
   "id": "52c92f9f-9c3f-4f12-b412-45344b84ef5b",
   "metadata": {},
   "source": [
    "## Building the Model"
   ]
  },
  {
   "cell_type": "code",
   "execution_count": 4,
   "id": "aad7dee6-52d5-4e15-9a4b-b090920fb6fc",
   "metadata": {},
   "outputs": [
    {
     "data": {
      "text/plain": [
       "torch.Size([1, 1, 28, 28])"
      ]
     },
     "execution_count": 4,
     "metadata": {},
     "output_type": "execute_result"
    }
   ],
   "source": [
    "sample_images = ds_train[0][0].unsqueeze(0)\n",
    "sample_images.shape"
   ]
  },
  {
   "cell_type": "code",
   "execution_count": 5,
   "id": "4975e278-86d3-4ae6-97c4-5ed76d8d37fc",
   "metadata": {},
   "outputs": [
    {
     "data": {
      "text/plain": [
       "torch.Size([1, 10])"
      ]
     },
     "execution_count": 5,
     "metadata": {},
     "output_type": "execute_result"
    }
   ],
   "source": [
    "class MiniCNN(nn.Module):\n",
    "    def __init__(self):\n",
    "        super().__init__()\n",
    "        self.layers = nn.Sequential(\n",
    "            nn.Conv2d(1, 32, kernel_size=3),\n",
    "            nn.ReLU(),\n",
    "            nn.Conv2d(32, 64, kernel_size=3),\n",
    "            nn.ReLU(),\n",
    "            nn.MaxPool2d(kernel_size=2),\n",
    "            nn.Flatten(),\n",
    "            nn.Linear(9216, 128),\n",
    "            nn.ReLU(),\n",
    "            nn.Linear(128, 10)\n",
    "        )\n",
    "        \n",
    "    def forward(self, inputs):\n",
    "        return self.layers(inputs)\n",
    "\n",
    "\n",
    "_model = MiniCNN()\n",
    "_res = _model(sample_images)\n",
    "_res.shape"
   ]
  },
  {
   "cell_type": "code",
   "execution_count": 6,
   "id": "a1cb92b5-54b6-4853-83c6-47335823cda7",
   "metadata": {},
   "outputs": [
    {
     "data": {
      "text/plain": [
       "tensor([5, 5])"
      ]
     },
     "execution_count": 6,
     "metadata": {},
     "output_type": "execute_result"
    }
   ],
   "source": [
    "torch.argmax(_res.repeat(2, 1), dim=1)"
   ]
  },
  {
   "cell_type": "markdown",
   "id": "c57b456f-290d-42ea-878f-12932d5ab0f4",
   "metadata": {},
   "source": [
    "## Training"
   ]
  },
  {
   "cell_type": "code",
   "execution_count": 7,
   "id": "d3116dad-b955-412f-aa74-54ca215c8218",
   "metadata": {},
   "outputs": [],
   "source": [
    "device = \"cuda\""
   ]
  },
  {
   "cell_type": "code",
   "execution_count": 8,
   "id": "346ba312-5e8d-4cd5-8669-8ace1abd0d0d",
   "metadata": {},
   "outputs": [],
   "source": [
    "from torch.utils.data import DataLoader"
   ]
  },
  {
   "cell_type": "code",
   "execution_count": 9,
   "id": "b0aba068-a21c-42be-8039-1c47cbfc295d",
   "metadata": {},
   "outputs": [],
   "source": [
    "def calc_accuracy(yhat, labels):\n",
    "    yhat_labels = torch.argmax(yhat, dim=1)\n",
    "    count = (yhat_labels == labels).sum()\n",
    "    return count/len(yhat)"
   ]
  },
  {
   "cell_type": "code",
   "execution_count": 10,
   "id": "92e9a0bf-728c-4cc1-a73c-3045863c5e62",
   "metadata": {},
   "outputs": [],
   "source": []
  },
  {
   "cell_type": "code",
   "execution_count": 17,
   "id": "34ddecc4-b810-4c32-ab40-812b52404beb",
   "metadata": {},
   "outputs": [
    {
     "data": {
      "application/vnd.jupyter.widget-view+json": {
       "model_id": "15ac1eea779044d7bb87df1434e4ef89",
       "version_major": 2,
       "version_minor": 0
      },
      "text/plain": [
       "  0%|          | 0/3750 [00:00<?, ?it/s]"
      ]
     },
     "metadata": {},
     "output_type": "display_data"
    },
    {
     "name": "stdout",
     "output_type": "stream",
     "text": [
      "Epoch 0 - avg loss: 0.3536403179168701, avg accuracy: 0.895633339881897\n"
     ]
    },
    {
     "data": {
      "application/vnd.jupyter.widget-view+json": {
       "model_id": "f795d2d2f55549a687ac0e1cb447242a",
       "version_major": 2,
       "version_minor": 0
      },
      "text/plain": [
       "  0%|          | 0/3750 [00:00<?, ?it/s]"
      ]
     },
     "metadata": {},
     "output_type": "display_data"
    },
    {
     "name": "stdout",
     "output_type": "stream",
     "text": [
      "Epoch 1 - avg loss: 0.24457021057605743, avg accuracy: 0.9267083406448364\n"
     ]
    },
    {
     "data": {
      "application/vnd.jupyter.widget-view+json": {
       "model_id": "d227001592144d26b01aa5e75a12658d",
       "version_major": 2,
       "version_minor": 0
      },
      "text/plain": [
       "  0%|          | 0/3750 [00:00<?, ?it/s]"
      ]
     },
     "metadata": {},
     "output_type": "display_data"
    },
    {
     "name": "stdout",
     "output_type": "stream",
     "text": [
      "Epoch 2 - avg loss: 0.19501295685768127, avg accuracy: 0.9411610960960388\n"
     ]
    },
    {
     "data": {
      "text/plain": [
       "[<matplotlib.lines.Line2D at 0x7f0e548656a0>]"
      ]
     },
     "execution_count": 17,
     "metadata": {},
     "output_type": "execute_result"
    },
    {
     "data": {
      "image/png": "[encoded data removed]",
      "text/plain": [
       "<Figure size 1080x360 with 2 Axes>"
      ]
     },
     "metadata": {
      "needs_background": "light"
     },
     "output_type": "display_data"
    }
   ],
   "source": [
    "dl = DataLoader(ds_train, batch_size=16, shuffle=True)\n",
    "model = MiniCNN().to(device)\n",
    "optimizer = torch.optim.SGD(model.parameters(), lr=0.01)\n",
    "calc_loss = nn.CrossEntropyLoss()\n",
    "\n",
    "accuracy = []\n",
    "losses = []\n",
    "epoches = 3\n",
    "\n",
    "for epoch in range(epoches):\n",
    "    for images, labels in tqdm(dl):\n",
    "        images, labels = images.to(device), labels.to(device)\n",
    "        optimizer.zero_grad()\n",
    "        yhat = model(images)\n",
    "        loss = calc_loss(yhat, labels)\n",
    "        loss.backward()\n",
    "        optimizer.step()\n",
    "        \n",
    "        with torch.no_grad():\n",
    "            accuracy.append(calc_accuracy(yhat, labels).item())\n",
    "            losses.append(loss.item())\n",
    "            \n",
    "    print(f\"Epoch {epoch} - avg loss: {torch.tensor(losses).mean()}, avg accuracy: {torch.tensor(accuracy).mean()}\")\n",
    "            \n",
    "_, ax = plt.subplots(1, 2, figsize=(15, 5))\n",
    "ax[0].plot(losses)\n",
    "ax[1].plot(accuracy)"
   ]
  },
  {
   "cell_type": "markdown",
   "id": "af3571b0-26ef-43aa-9e82-b0b1712cfa7d",
   "metadata": {},
   "source": [
    "## Validating with the Validation Set"
   ]
  },
  {
   "cell_type": "code",
   "execution_count": 19,
   "id": "a024c612-217c-4108-923d-04e8ab3b3519",
   "metadata": {},
   "outputs": [
    {
     "data": {
      "application/vnd.jupyter.widget-view+json": {
       "model_id": "64a4dd6cd8e4459293004fb2cabe16e4",
       "version_major": 2,
       "version_minor": 0
      },
      "text/plain": [
       "  0%|          | 0/625 [00:00<?, ?it/s]"
      ]
     },
     "metadata": {},
     "output_type": "display_data"
    },
    {
     "name": "stdout",
     "output_type": "stream",
     "text": [
      "Accuracy: 0.9735999703407288\n"
     ]
    }
   ],
   "source": [
    "accuracy = []\n",
    "dl_valid = DataLoader(ds_valid, batch_size=16)\n",
    "\n",
    "for images, labels in tqdm(dl_valid):\n",
    "    with torch.no_grad():\n",
    "        images, labels = images.to(device), labels.to(device)\n",
    "        yhat = model(images)\n",
    "        accuracy.append(calc_accuracy(yhat, labels).item())\n",
    "        \n",
    "print(f\"Accuracy: {torch.tensor(accuracy).mean()}\")"
   ]
  },
  {
   "cell_type": "markdown",
   "id": "69278865-5391-4e70-bb61-1734ce200d16",
   "metadata": {},
   "source": [
    "**Yeah, it's a decent model with the amount of layers we have**"
   ]
  },
  {
   "cell_type": "markdown",
   "id": "6514edeb-b41c-4946-b648-9fca66c2d88e",
   "metadata": {},
   "source": [
    "## Inspecting the Model"
   ]
  },
  {
   "cell_type": "code",
   "execution_count": 22,
   "id": "4b91beb3-e38e-4302-a938-f14f17c4693c",
   "metadata": {},
   "outputs": [
    {
     "data": {
      "text/plain": [
       "MiniCNN(\n",
       "  (layers): Sequential(\n",
       "    (0): Conv2d(1, 32, kernel_size=(3, 3), stride=(1, 1))\n",
       "    (1): ReLU()\n",
       "    (2): Conv2d(32, 64, kernel_size=(3, 3), stride=(1, 1))\n",
       "    (3): ReLU()\n",
       "    (4): MaxPool2d(kernel_size=2, stride=2, padding=0, dilation=1, ceil_mode=False)\n",
       "    (5): Flatten(start_dim=1, end_dim=-1)\n",
       "    (6): Linear(in_features=9216, out_features=128, bias=True)\n",
       "    (7): ReLU()\n",
       "    (8): Linear(in_features=128, out_features=10, bias=True)\n",
       "  )\n",
       ")"
      ]
     },
     "execution_count": 22,
     "metadata": {},
     "output_type": "execute_result"
    }
   ],
   "source": [
    "model"
   ]
  },
  {
   "cell_type": "code",
   "execution_count": 39,
   "id": "9ce290de-3134-4017-a7fd-e594ba36f33b",
   "metadata": {},
   "outputs": [
    {
     "name": "stdout",
     "output_type": "stream",
     "text": [
      "torch.Size([1, 1, 28, 28])\n"
     ]
    },
    {
     "data": {
      "text/plain": [
       "<matplotlib.image.AxesImage at 0x7f0d13b0d5b0>"
      ]
     },
     "execution_count": 39,
     "metadata": {},
     "output_type": "execute_result"
    },
    {
     "data": {
      "image/png": "[encoded data removed]",
      "text/plain": [
       "<Figure size 432x288 with 1 Axes>"
      ]
     },
     "metadata": {
      "needs_background": "light"
     },
     "output_type": "display_data"
    }
   ],
   "source": [
    "print(sample_images.shape)\n",
    "plt.imshow(sample_images[0][0], cmap=\"gray\")"
   ]
  },
  {
   "cell_type": "markdown",
   "id": "0df43165-37c3-463c-9c0d-367b7c51a3ee",
   "metadata": {},
   "source": [
    "## Inspecting the First Conv2D layer"
   ]
  },
  {
   "cell_type": "code",
   "execution_count": 33,
   "id": "cfe9538f-7a1c-4b1b-9b2c-ef76318e2dc8",
   "metadata": {},
   "outputs": [
    {
     "data": {
      "text/plain": [
       "torch.Size([1, 32, 26, 26])"
      ]
     },
     "execution_count": 33,
     "metadata": {},
     "output_type": "execute_result"
    }
   ],
   "source": [
    "conv1_output = model.layers[0](sample_images.to(device)).detach().cpu()\n",
    "conv1_output.shape"
   ]
  },
  {
   "cell_type": "code",
   "execution_count": 68,
   "id": "8caf8a72-f404-4dc8-8f39-7f0a3234fab8",
   "metadata": {},
   "outputs": [
    {
     "data": {
      "image/png": "[encoded data removed]",
      "text/plain": [
       "<Figure size 1080x216 with 8 Axes>"
      ]
     },
     "metadata": {
      "needs_background": "light"
     },
     "output_type": "display_data"
    }
   ],
   "source": [
    "# let's try to render some of those\n",
    "_, ax = plt.subplots(1, 8, figsize=(15,3))\n",
    "for i in range(8):\n",
    "    ax[i].imshow(conv1_output[0][i], cmap=\"gray\")\n",
    "    ax[i].axis('off')"
   ]
  },
  {
   "cell_type": "code",
   "execution_count": 44,
   "id": "efe3b076-8190-4e94-a396-a67d3242e85e",
   "metadata": {},
   "outputs": [
    {
     "data": {
      "text/plain": [
       "torch.Size([32, 1, 3, 3])"
      ]
     },
     "execution_count": 44,
     "metadata": {},
     "output_type": "execute_result"
    }
   ],
   "source": [
    "# let try to inspect weights (AKA: filters)\n",
    "model.layers[0].weight.shape"
   ]
  },
  {
   "cell_type": "code",
   "execution_count": 69,
   "id": "2a6770c9-7742-45af-b304-5e588e852799",
   "metadata": {},
   "outputs": [
    {
     "data": {
      "image/png": "[encoded data removed]",
      "text/plain": [
       "<Figure size 1080x216 with 8 Axes>"
      ]
     },
     "metadata": {
      "needs_background": "light"
     },
     "output_type": "display_data"
    }
   ],
   "source": [
    "# let's try to render some of those finters as well\n",
    "_, ax = plt.subplots(1, 8, figsize=(15,3))\n",
    "for i in range(8):\n",
    "    ax[i].imshow(model.layers[0].weight.detach().cpu()[i][0], cmap=\"gray\")\n",
    "    ax[i].axis('off')"
   ]
  },
  {
   "cell_type": "markdown",
   "id": "791d0e10-9cb5-41b7-8113-1d07fbb4b752",
   "metadata": {},
   "source": [
    "## Inspecting the Second Conv2D layer"
   ]
  },
  {
   "cell_type": "code",
   "execution_count": 53,
   "id": "915874e1-b814-4b1a-b954-07122c0a3b27",
   "metadata": {},
   "outputs": [
    {
     "data": {
      "text/plain": [
       "Sequential(\n",
       "  (0): Conv2d(1, 32, kernel_size=(3, 3), stride=(1, 1))\n",
       "  (1): ReLU()\n",
       "  (2): Conv2d(32, 64, kernel_size=(3, 3), stride=(1, 1))\n",
       ")"
      ]
     },
     "execution_count": 53,
     "metadata": {},
     "output_type": "execute_result"
    }
   ],
   "source": [
    "conv2_layer = model.layers[0:3]\n",
    "conv2_layer"
   ]
  },
  {
   "cell_type": "code",
   "execution_count": 55,
   "id": "62a69359-4075-416b-8e6d-b763ff5be02b",
   "metadata": {},
   "outputs": [
    {
     "data": {
      "text/plain": [
       "torch.Size([1, 64, 24, 24])"
      ]
     },
     "execution_count": 55,
     "metadata": {},
     "output_type": "execute_result"
    }
   ],
   "source": [
    "conv2_output = conv2_layer(sample_images.to(device))\n",
    "conv2_output.shape"
   ]
  },
  {
   "cell_type": "code",
   "execution_count": 70,
   "id": "583d4348-ad5e-4fc9-8cf1-131cec540c05",
   "metadata": {},
   "outputs": [
    {
     "data": {
      "image/png": "[encoded data removed]",
      "text/plain": [
       "<Figure size 1080x216 with 8 Axes>"
      ]
     },
     "metadata": {
      "needs_background": "light"
     },
     "output_type": "display_data"
    }
   ],
   "source": [
    "# let's try to render some of those\n",
    "_, ax = plt.subplots(1, 8, figsize=(15,3))\n",
    "for i in range(8):\n",
    "    ax[i].imshow(conv2_output.detach().cpu()[0][i], cmap=\"gray\")\n",
    "    ax[i].axis('off')"
   ]
  },
  {
   "cell_type": "code",
   "execution_count": 71,
   "id": "ea8daa49-c1c8-48e0-8684-d01ca2cdd6b5",
   "metadata": {},
   "outputs": [
    {
     "data": {
      "image/png": "[encoded data removed]",
      "text/plain": [
       "<Figure size 1080x216 with 8 Axes>"
      ]
     },
     "metadata": {
      "needs_background": "light"
     },
     "output_type": "display_data"
    }
   ],
   "source": [
    "# let's try to render some of those finters as well\n",
    "_, ax = plt.subplots(1, 8, figsize=(15,3))\n",
    "for i in range(8):\n",
    "    ax[i].imshow(conv2_layer[-1].weight.detach().cpu()[i][0], cmap=\"gray\")\n",
    "    ax[i].axis('off')"
   ]
  },
  {
   "cell_type": "markdown",
   "id": "a4dfca45-3652-4135-a896-b042369bd4ef",
   "metadata": {},
   "source": [
    "## Inspecting the MaxPool Layer"
   ]
  },
  {
   "cell_type": "code",
   "execution_count": 64,
   "id": "1d21ad97-725e-43e5-8795-97e5ce464ac9",
   "metadata": {},
   "outputs": [
    {
     "data": {
      "text/plain": [
       "Sequential(\n",
       "  (0): Conv2d(1, 32, kernel_size=(3, 3), stride=(1, 1))\n",
       "  (1): ReLU()\n",
       "  (2): Conv2d(32, 64, kernel_size=(3, 3), stride=(1, 1))\n",
       "  (3): ReLU()\n",
       "  (4): MaxPool2d(kernel_size=2, stride=2, padding=0, dilation=1, ceil_mode=False)\n",
       ")"
      ]
     },
     "execution_count": 64,
     "metadata": {},
     "output_type": "execute_result"
    }
   ],
   "source": [
    "maxpool_layer = model.layers[0:5]\n",
    "maxpool_layer"
   ]
  },
  {
   "cell_type": "code",
   "execution_count": 66,
   "id": "6558229c-2f3d-4ff1-9f82-9a950c5bceda",
   "metadata": {},
   "outputs": [
    {
     "data": {
      "text/plain": [
       "torch.Size([1, 64, 12, 12])"
      ]
     },
     "execution_count": 66,
     "metadata": {},
     "output_type": "execute_result"
    }
   ],
   "source": [
    "maxpool_outputs = maxpool_layer(sample_images.to(device))\n",
    "maxpool_outputs.shape"
   ]
  },
  {
   "cell_type": "code",
   "execution_count": 72,
   "id": "bcbec06c-f4f0-4e35-88e4-313e80c5d9d5",
   "metadata": {},
   "outputs": [
    {
     "data": {
      "image/png": "[encoded data removed]",
      "text/plain": [
       "<Figure size 1080x216 with 8 Axes>"
      ]
     },
     "metadata": {
      "needs_background": "light"
     },
     "output_type": "display_data"
    }
   ],
   "source": [
    "# let's try to render some of those\n",
    "_, ax = plt.subplots(1, 8, figsize=(15,3))\n",
    "for i in range(8):\n",
    "    ax[i].imshow(maxpool_outputs.detach().cpu()[0][i], cmap=\"gray\")\n",
    "    ax[i].axis('off')"
   ]
  },
  {
   "cell_type": "code",
   "execution_count": null,
   "id": "389efb15-364d-4028-baf7-f0bb573fde42",
   "metadata": {},
   "outputs": [],
   "source": []
  }
 ],
 "metadata": {
  "kernelspec": {
   "display_name": "Python 3 (ipykernel)",
   "language": "python",
   "name": "python3"
  },
  "language_info": {
   "codemirror_mode": {
    "name": "ipython",
    "version": 3
   },
   "file_extension": ".py",
   "mimetype": "text/x-python",
   "name": "python",
   "nbconvert_exporter": "python",
   "pygments_lexer": "ipython3",
   "version": "3.8.12"
  }
 },
 "nbformat": 4,
 "nbformat_minor": 5
}
