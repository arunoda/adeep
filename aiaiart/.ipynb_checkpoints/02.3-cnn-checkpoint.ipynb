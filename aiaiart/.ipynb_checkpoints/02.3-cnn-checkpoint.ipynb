{
 "cells": [
  {
   "cell_type": "markdown",
   "id": "ef84b782-0c4a-4f2e-9e8c-715e9ecdc812",
   "metadata": {},
   "source": [
    "# Let's Build a CNN\n",
    "\n",
    "Let's see whether we can build a CNN to clasify the MNIST dataset."
   ]
  },
  {
   "cell_type": "markdown",
   "id": "a011c979-1536-478f-b187-1fed9faeb393",
   "metadata": {},
   "source": [
    "## Loading the Dataset"
   ]
  },
  {
   "cell_type": "code",
   "execution_count": 42,
   "id": "37588826-bbf6-4bbb-b02f-1515bf6ed2df",
   "metadata": {},
   "outputs": [],
   "source": [
    "import torch\n",
    "import torch.nn as nn\n",
    "from matplotlib import pyplot as plt\n",
    "from torchvision import datasets, transforms\n",
    "from tqdm.notebook import tqdm"
   ]
  },
  {
   "cell_type": "code",
   "execution_count": 20,
   "id": "6395f143-c544-4dd9-a778-cbd017bbb175",
   "metadata": {},
   "outputs": [
    {
     "data": {
      "text/plain": [
       "(60000, 10000)"
      ]
     },
     "execution_count": 20,
     "metadata": {},
     "output_type": "execute_result"
    }
   ],
   "source": [
    "ds_train = datasets.MNIST('~/.data/MNIST', download=True, train=True, transform=transforms.ToTensor())\n",
    "ds_valid = datasets.MNIST('~/.data/MNIST', download=True, train=False, transform=transforms.ToTensor())\n",
    "len(ds_train), len(ds_valid)"
   ]
  },
  {
   "cell_type": "code",
   "execution_count": 24,
   "id": "42a9cbbb-db7e-44e8-934b-1a07d7aed190",
   "metadata": {},
   "outputs": [
    {
     "data": {
      "image/png": "[encoded data removed]",
      "text/plain": [
       "<Figure size 720x216 with 4 Axes>"
      ]
     },
     "metadata": {
      "needs_background": "light"
     },
     "output_type": "display_data"
    }
   ],
   "source": [
    "_, ax = plt.subplots(1, 4, figsize=(10, 3))\n",
    "for i in range(4):\n",
    "    image, label = ds_train[i]\n",
    "    ax[i].imshow(image.squeeze(0), cmap=\"gray\")\n",
    "    ax[i].set_title(f\"Label: {label}\")"
   ]
  },
  {
   "cell_type": "markdown",
   "id": "52c92f9f-9c3f-4f12-b412-45344b84ef5b",
   "metadata": {},
   "source": [
    "## Building the Model"
   ]
  },
  {
   "cell_type": "code",
   "execution_count": 33,
   "id": "aad7dee6-52d5-4e15-9a4b-b090920fb6fc",
   "metadata": {},
   "outputs": [
    {
     "data": {
      "text/plain": [
       "torch.Size([1, 1, 28, 28])"
      ]
     },
     "execution_count": 33,
     "metadata": {},
     "output_type": "execute_result"
    }
   ],
   "source": [
    "sample_images = ds_train[0][0].unsqueeze(0)\n",
    "sample_images.shape"
   ]
  },
  {
   "cell_type": "code",
   "execution_count": 131,
   "id": "4975e278-86d3-4ae6-97c4-5ed76d8d37fc",
   "metadata": {},
   "outputs": [
    {
     "data": {
      "text/plain": [
       "torch.Size([1, 10])"
      ]
     },
     "execution_count": 131,
     "metadata": {},
     "output_type": "execute_result"
    }
   ],
   "source": [
    "class MiniCNN(nn.Module):\n",
    "    def __init__(self):\n",
    "        super().__init__()\n",
    "        self.layers = nn.Sequential(\n",
    "            nn.Conv2d(1, 32, kernel_size=3),\n",
    "            nn.ReLU(),\n",
    "            nn.Conv2d(32, 64, kernel_size=3),\n",
    "            nn.ReLU(),\n",
    "            nn.MaxPool2d(kernel_size=2),\n",
    "            nn.Flatten(),\n",
    "            nn.Linear(9216, 128),\n",
    "            nn.ReLU(),\n",
    "            nn.Linear(128, 10)\n",
    "        )\n",
    "        \n",
    "    def forward(self, inputs):\n",
    "        return self.layers(inputs)\n",
    "\n",
    "\n",
    "_model = MiniCNN()\n",
    "_res = _model(sample_images)\n",
    "_res.shape"
   ]
  },
  {
   "cell_type": "code",
   "execution_count": 123,
   "id": "a1cb92b5-54b6-4853-83c6-47335823cda7",
   "metadata": {},
   "outputs": [
    {
     "data": {
      "text/plain": [
       "tensor([4, 4])"
      ]
     },
     "execution_count": 123,
     "metadata": {},
     "output_type": "execute_result"
    }
   ],
   "source": [
    "torch.argmax(_res.repeat(2, 1), dim=1)"
   ]
  },
  {
   "cell_type": "markdown",
   "id": "c57b456f-290d-42ea-878f-12932d5ab0f4",
   "metadata": {},
   "source": [
    "## Training"
   ]
  },
  {
   "cell_type": "code",
   "execution_count": 58,
   "id": "d3116dad-b955-412f-aa74-54ca215c8218",
   "metadata": {},
   "outputs": [],
   "source": [
    "device = \"cuda\""
   ]
  },
  {
   "cell_type": "code",
   "execution_count": 43,
   "id": "346ba312-5e8d-4cd5-8669-8ace1abd0d0d",
   "metadata": {},
   "outputs": [],
   "source": [
    "from torch.utils.data import DataLoader"
   ]
  },
  {
   "cell_type": "code",
   "execution_count": 153,
   "id": "b0aba068-a21c-42be-8039-1c47cbfc295d",
   "metadata": {},
   "outputs": [],
   "source": [
    "def calc_accuracy(yhat, labels):\n",
    "    yhat_labels = torch.argmax(yhat, dim=1)\n",
    "    count = (yhat_labels == labels).sum()\n",
    "    return count/len(yhat)"
   ]
  },
  {
   "cell_type": "code",
   "execution_count": 125,
   "id": "92e9a0bf-728c-4cc1-a73c-3045863c5e62",
   "metadata": {},
   "outputs": [],
   "source": [
    "dl = DataLoader(ds_train, batch_size=16, shuffle=True)\n",
    "calc_loss = nn.CrossEntropyLoss()"
   ]
  },
  {
   "cell_type": "code",
   "execution_count": 157,
   "id": "34ddecc4-b810-4c32-ab40-812b52404beb",
   "metadata": {},
   "outputs": [
    {
     "name": "stdout",
     "output_type": "stream",
     "text": [
      "Epoch 0\n"
     ]
    },
    {
     "data": {
      "application/vnd.jupyter.widget-view+json": {
       "model_id": "d599b59116da4a3f98d641119a856413",
       "version_major": 2,
       "version_minor": 0
      },
      "text/plain": [
       "  0%|          | 0/3750 [00:00<?, ?it/s]"
      ]
     },
     "metadata": {},
     "output_type": "display_data"
    },
    {
     "name": "stdout",
     "output_type": "stream",
     "text": [
      "Epoch 1\n"
     ]
    },
    {
     "data": {
      "application/vnd.jupyter.widget-view+json": {
       "model_id": "110f98ea84e340a096d58f131da87be9",
       "version_major": 2,
       "version_minor": 0
      },
      "text/plain": [
       "  0%|          | 0/3750 [00:00<?, ?it/s]"
      ]
     },
     "metadata": {},
     "output_type": "display_data"
    },
    {
     "name": "stdout",
     "output_type": "stream",
     "text": [
      "Epoch 2\n"
     ]
    },
    {
     "data": {
      "application/vnd.jupyter.widget-view+json": {
       "model_id": "896d26bd597a4a038a2ed9d483ce7ea1",
       "version_major": 2,
       "version_minor": 0
      },
      "text/plain": [
       "  0%|          | 0/3750 [00:00<?, ?it/s]"
      ]
     },
     "metadata": {},
     "output_type": "display_data"
    },
    {
     "data": {
      "text/plain": [
       "[<matplotlib.lines.Line2D at 0x7f7ee8c8f7f0>]"
      ]
     },
     "execution_count": 157,
     "metadata": {},
     "output_type": "execute_result"
    },
    {
     "data": {
      "image/png": "[encoded data removed]",
      "text/plain": [
       "<Figure size 1080x360 with 2 Axes>"
      ]
     },
     "metadata": {
      "needs_background": "light"
     },
     "output_type": "display_data"
    }
   ],
   "source": [
    "dl = DataLoader(ds_train, batch_size=16, shuffle=True)\n",
    "model = MiniCNN().to(device)\n",
    "optimizer = torch.optim.SGD(model.parameters(), lr=0.01)\n",
    "\n",
    "accuracy = []\n",
    "losses = []\n",
    "epoches = 3\n",
    "\n",
    "for epoch in range(epoches):\n",
    "    print(f'Epoch {epoch}')\n",
    "    for images, labels in tqdm(dl):\n",
    "        images, labels = images.to(device), labels.to(device)\n",
    "        optimizer.zero_grad()\n",
    "        yhat = model(images)\n",
    "        loss = calc_loss(yhat, labels)\n",
    "        loss.backward()\n",
    "        optimizer.step()\n",
    "        \n",
    "        with torch.no_grad():\n",
    "            accuracy.append(calc_accuracy(yhat, labels).item())\n",
    "            losses.append(loss.item())\n",
    "            \n",
    "_, ax = plt.subplots(1, 2, figsize=(15, 5))\n",
    "ax[0].plot(losses)\n",
    "ax[1].plot(accuracy)"
   ]
  },
  {
   "cell_type": "code",
   "execution_count": null,
   "id": "85f9ecbb-700d-4041-9191-cf54eb857f12",
   "metadata": {},
   "outputs": [],
   "source": []
  }
 ],
 "metadata": {
  "kernelspec": {
   "display_name": "Python 3 (ipykernel)",
   "language": "python",
   "name": "python3"
  },
  "language_info": {
   "codemirror_mode": {
    "name": "ipython",
    "version": 3
   },
   "file_extension": ".py",
   "mimetype": "text/x-python",
   "name": "python",
   "nbconvert_exporter": "python",
   "pygments_lexer": "ipython3",
   "version": "3.8.12"
  }
 },
 "nbformat": 4,
 "nbformat_minor": 5
}
