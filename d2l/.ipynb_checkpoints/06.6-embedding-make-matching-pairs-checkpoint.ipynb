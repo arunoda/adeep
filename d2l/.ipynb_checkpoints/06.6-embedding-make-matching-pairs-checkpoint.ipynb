{
 "cells": [
  {
   "cell_type": "markdown",
   "id": "f4627c89-960a-45a6-aefc-941f5d2e6f2a",
   "metadata": {},
   "source": [
    "# Make Matching Pairs with Embeddings"
   ]
  },
  {
   "cell_type": "code",
   "execution_count": 5,
   "id": "eda1abc9-8c08-4b41-ae15-c1cbd511552f",
   "metadata": {},
   "outputs": [],
   "source": [
    "import pickle\n",
    "import torch\n",
    "from pathlib import Path\n",
    "from lib.glove import GloveEmbeddings"
   ]
  },
  {
   "cell_type": "code",
   "execution_count": 4,
   "id": "afbb40aa-53ff-45ff-b885-c103a60bea1f",
   "metadata": {},
   "outputs": [],
   "source": [
    "glove_pkl_path = Path.home()/\"data\"/\"glove.pkl\"\n",
    "g = pickle.load(open(glove_pkl_path, \"rb\"))"
   ]
  },
  {
   "cell_type": "markdown",
   "id": "2fc67c7c-8de6-4211-8e15-56c644bf95e7",
   "metadata": {},
   "source": [
    "## Core Idea\n",
    "\n",
    "Here, we do a matching pair like this:\n",
    "\n",
    "* france, paris\n",
    "\n",
    "Then if we ask for a matching similar work for \"italy\", it should output \"rome\" or similar."
   ]
  },
  {
   "cell_type": "code",
   "execution_count": 56,
   "id": "3700b7a9-e154-4b4e-a84e-55324e21a990",
   "metadata": {},
   "outputs": [
    {
     "data": {
      "text/plain": [
       "(torch.Size([1, 50]),\n",
       " tensor([[ 0.0376, -1.5225, -0.0436,  0.9482, -0.0748,  1.2664, -0.0514, -0.2955,\n",
       "           0.3791, -0.0058,  0.8065, -0.5466, -0.0591,  0.2315,  0.1583, -0.2131,\n",
       "           0.5206,  0.1262, -0.0181, -0.5960, -0.5613, -0.3547, -0.1362,  0.5711,\n",
       "           0.0073, -0.0623,  0.5180, -0.0079,  0.0105,  0.3035,  0.8375,  0.5943,\n",
       "           0.1780,  0.8234,  0.0449, -0.0925, -0.7842,  0.4940, -0.3009, -1.2704,\n",
       "          -0.0706,  0.1819,  0.7480, -0.9892,  0.1189,  0.3937,  0.3016,  0.2313,\n",
       "           0.5588, -0.0074]]))"
      ]
     },
     "execution_count": 56,
     "metadata": {},
     "output_type": "execute_result"
    }
   ],
   "source": [
    "w1 = \"italy\"\n",
    "w2 = \"rome\"\n",
    "w3 = \"france\"\n",
    "\n",
    "# let's find the direction\n",
    "dir_1 = g.make(w1) - g.make(w2)\n",
    "dir_1.shape, dir_1"
   ]
  },
  {
   "cell_type": "code",
   "execution_count": 57,
   "id": "70a1fa9a-5c18-4fdc-b848-b3ac24e8e337",
   "metadata": {},
   "outputs": [
    {
     "data": {
      "text/plain": [
       "torch.Size([400001, 50])"
      ]
     },
     "execution_count": 57,
     "metadata": {},
     "output_type": "execute_result"
    }
   ],
   "source": [
    "# let's find the direction of w3 with all other embeddings\n",
    "dir_2 = g.make(w3) - g.embs\n",
    "dir_2.shape"
   ]
  },
  {
   "cell_type": "code",
   "execution_count": 59,
   "id": "12df9be3-2869-4bd1-a211-c483fccd1a39",
   "metadata": {},
   "outputs": [
    {
     "data": {
      "text/plain": [
       "tensor([0.3063, 0.2554, 0.3136,  ..., 0.2409, 0.3693, 0.3693])"
      ]
     },
     "execution_count": 59,
     "metadata": {},
     "output_type": "execute_result"
    }
   ],
   "source": [
    "# let's get similarities\n",
    "similarities = torch.cosine_similarity(dir_1, dir_2)\n",
    "similarities"
   ]
  },
  {
   "cell_type": "code",
   "execution_count": 60,
   "id": "a88372ec-4f9b-4e9e-9246-c968e6aec722",
   "metadata": {},
   "outputs": [
    {
     "data": {
      "text/plain": [
       "'paris'"
      ]
     },
     "execution_count": 60,
     "metadata": {},
     "output_type": "execute_result"
    }
   ],
   "source": [
    "# let do a argmax & find the word\n",
    "g.words[torch.argmax(similarities)]"
   ]
  },
  {
   "cell_type": "markdown",
   "id": "bc70df94-4f96-4ab9-b1f9-a115ed2a6544",
   "metadata": {},
   "source": [
    "**That's exactly we are looking for**\n",
    "\n",
    "Let's make a function for this"
   ]
  },
  {
   "cell_type": "code",
   "execution_count": 61,
   "id": "6a31dcc0-367d-4c3d-8fc4-64ce306e3257",
   "metadata": {},
   "outputs": [],
   "source": [
    "def find_matching(w1, w2, w3):\n",
    "    dir_1 = g.make(w1) - g.make(w2)\n",
    "    dir_2 = g.make(w3) - g.embs\n",
    "    \n",
    "    similarities = torch.cosine_similarity(dir_1, dir_2)\n",
    "    max_index = torch.argmax(similarities)\n",
    "    \n",
    "    return g.words[max_index]"
   ]
  },
  {
   "cell_type": "code",
   "execution_count": 62,
   "id": "65670d58-1dcb-4e8a-9a90-e90e53bf213d",
   "metadata": {},
   "outputs": [
    {
     "data": {
      "text/plain": [
       "'italy'"
      ]
     },
     "execution_count": 62,
     "metadata": {},
     "output_type": "execute_result"
    }
   ],
   "source": [
    "find_matching(\"paris\", \"france\", \"rome\")"
   ]
  },
  {
   "cell_type": "code",
   "execution_count": 64,
   "id": "1109a226-7cbf-489d-a5c2-a96cead5efad",
   "metadata": {},
   "outputs": [
    {
     "data": {
      "text/plain": [
       "'pakistan'"
      ]
     },
     "execution_count": 64,
     "metadata": {},
     "output_type": "execute_result"
    }
   ],
   "source": [
    "find_matching(\"paris\", \"france\", \"delhi\")"
   ]
  },
  {
   "cell_type": "code",
   "execution_count": 67,
   "id": "2a7fd325-425c-4daf-9d19-8a29182f3d57",
   "metadata": {},
   "outputs": [
    {
     "data": {
      "text/plain": [
       "'moscow'"
      ]
     },
     "execution_count": 67,
     "metadata": {},
     "output_type": "execute_result"
    }
   ],
   "source": [
    "find_matching(\"italy\", \"rome\", \"russia\")"
   ]
  },
  {
   "cell_type": "code",
   "execution_count": 69,
   "id": "c62615c6-9051-4254-8891-2390bdb0698c",
   "metadata": {},
   "outputs": [
    {
     "data": {
      "text/plain": [
       "'woman'"
      ]
     },
     "execution_count": 69,
     "metadata": {},
     "output_type": "execute_result"
    }
   ],
   "source": [
    "find_matching(\"king\", \"man\", \"queen\")"
   ]
  },
  {
   "cell_type": "code",
   "execution_count": 74,
   "id": "1339d8a5-22d8-48f6-986e-f993446f5f7f",
   "metadata": {},
   "outputs": [
    {
     "data": {
      "text/plain": [
       "'engineer'"
      ]
     },
     "execution_count": 74,
     "metadata": {},
     "output_type": "execute_result"
    }
   ],
   "source": [
    "find_matching(\"man\", \"engineer\", \"woman\")"
   ]
  },
  {
   "cell_type": "code",
   "execution_count": 75,
   "id": "c33de7fd-fb76-484d-b21e-fb036b8ee2b9",
   "metadata": {},
   "outputs": [
    {
     "data": {
      "text/plain": [
       "'king'"
      ]
     },
     "execution_count": 75,
     "metadata": {},
     "output_type": "execute_result"
    }
   ],
   "source": [
    "find_matching(\"man\", \"king\", \"woman\")"
   ]
  },
  {
   "cell_type": "code",
   "execution_count": 92,
   "id": "7718510b-5e92-43b6-9056-795d6e4563a2",
   "metadata": {},
   "outputs": [
    {
     "data": {
      "text/plain": [
       "'rayos'"
      ]
     },
     "execution_count": 92,
     "metadata": {},
     "output_type": "execute_result"
    }
   ],
   "source": [
    "find_matching(\"india\", \"ruppees\", \"usa\")"
   ]
  },
  {
   "cell_type": "markdown",
   "id": "384735f0-67b5-413b-b52f-bf8f0af24eb6",
   "metadata": {},
   "source": [
    "See. There are some matching values here & there :)\n",
    "\n",
    "**But it's a good one.**"
   ]
  },
  {
   "cell_type": "code",
   "execution_count": null,
   "id": "18b8e76a-37e7-490d-8af0-408be2cd1b61",
   "metadata": {},
   "outputs": [],
   "source": []
  }
 ],
 "metadata": {
  "kernelspec": {
   "display_name": "Python 3",
   "language": "python",
   "name": "python3"
  },
  "language_info": {
   "codemirror_mode": {
    "name": "ipython",
    "version": 3
   },
   "file_extension": ".py",
   "mimetype": "text/x-python",
   "name": "python",
   "nbconvert_exporter": "python",
   "pygments_lexer": "ipython3",
   "version": "3.8.12"
  }
 },
 "nbformat": 4,
 "nbformat_minor": 5
}
