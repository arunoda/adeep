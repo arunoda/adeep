{
 "cells": [
  {
   "cell_type": "markdown",
   "id": "b26ef532-7582-4486-ab3b-953a618ec11c",
   "metadata": {},
   "source": [
    "# Using Self Attention\n",
    "\n",
    "Here we are going to use a simple dataset to train for a sentiment model using Self Attention."
   ]
  },
  {
   "cell_type": "code",
   "execution_count": 1,
   "id": "213edc49-12d5-43c6-b93c-f3b377d6dfff",
   "metadata": {},
   "outputs": [],
   "source": [
    "# !pip install datasets"
   ]
  },
  {
   "cell_type": "markdown",
   "id": "6bcb7c13-a55b-4b9d-b425-a14ef0ba1f58",
   "metadata": {},
   "source": [
    "## Importing the Dataset"
   ]
  },
  {
   "cell_type": "code",
   "execution_count": 2,
   "id": "d3af1f60-e11f-4757-8eb5-ffc8fe29d127",
   "metadata": {},
   "outputs": [],
   "source": [
    "from datasets import load_dataset_builder, load_dataset, get_dataset_split_names"
   ]
  },
  {
   "cell_type": "code",
   "execution_count": 3,
   "id": "7579ca3c-3907-4221-99da-339c6bb7ac80",
   "metadata": {},
   "outputs": [],
   "source": [
    "ds_name = \"sentiment140\""
   ]
  },
  {
   "cell_type": "code",
   "execution_count": 4,
   "id": "650a3cda-b011-4fa8-ab58-9f7af8094c37",
   "metadata": {},
   "outputs": [],
   "source": [
    "tdata_builder = load_dataset_builder(ds_name)"
   ]
  },
  {
   "cell_type": "code",
   "execution_count": 5,
   "id": "ff2dcf6f-c30d-4e3e-96c7-e42b2092bbea",
   "metadata": {},
   "outputs": [
    {
     "data": {
      "text/plain": [
       "'Sentiment140 consists of Twitter messages with emoticons, which are used as noisy labels for\\nsentiment classification. For more detailed information please refer to the paper.\\n'"
      ]
     },
     "execution_count": 5,
     "metadata": {},
     "output_type": "execute_result"
    }
   ],
   "source": [
    "tdata_builder.info.description"
   ]
  },
  {
   "cell_type": "code",
   "execution_count": 6,
   "id": "90e23133-1ee8-4ec1-8acb-21c6257c9ba0",
   "metadata": {},
   "outputs": [
    {
     "data": {
      "text/plain": [
       "{'text': Value(dtype='string', id=None),\n",
       " 'date': Value(dtype='string', id=None),\n",
       " 'user': Value(dtype='string', id=None),\n",
       " 'sentiment': Value(dtype='int32', id=None),\n",
       " 'query': Value(dtype='string', id=None)}"
      ]
     },
     "execution_count": 6,
     "metadata": {},
     "output_type": "execute_result"
    }
   ],
   "source": [
    "tdata_builder.info.features"
   ]
  },
  {
   "cell_type": "code",
   "execution_count": 7,
   "id": "d1e4f12d-600a-4162-a22c-906ccb876cf2",
   "metadata": {},
   "outputs": [
    {
     "data": {
      "text/plain": [
       "['train', 'test']"
      ]
     },
     "execution_count": 7,
     "metadata": {},
     "output_type": "execute_result"
    }
   ],
   "source": [
    "get_dataset_split_names(ds_name)"
   ]
  },
  {
   "cell_type": "code",
   "execution_count": 8,
   "id": "9de9990b-5bd0-47e3-bae0-9e53556867ff",
   "metadata": {},
   "outputs": [
    {
     "name": "stderr",
     "output_type": "stream",
     "text": [
      "Found cached dataset sentiment140 (/home/.cache/huggingface/datasets/sentiment140/sentiment140/1.0.0/f81c014152931b776735658d8ae493b181927de002e706c4d5244ecb26376997)\n"
     ]
    }
   ],
   "source": [
    "source_dataset = load_dataset(\"sentiment140\", split=\"train\").with_format(\"torch\")"
   ]
  },
  {
   "cell_type": "code",
   "execution_count": 9,
   "id": "f5cc407d-9806-4f2b-87b7-4bd069f50373",
   "metadata": {},
   "outputs": [
    {
     "data": {
      "text/plain": [
       "Dataset({\n",
       "    features: ['text', 'date', 'user', 'sentiment', 'query'],\n",
       "    num_rows: 1600000\n",
       "})"
      ]
     },
     "execution_count": 9,
     "metadata": {},
     "output_type": "execute_result"
    }
   ],
   "source": [
    "source_dataset"
   ]
  },
  {
   "cell_type": "code",
   "execution_count": 10,
   "id": "0212d285-726d-470b-9690-14f5f7862d49",
   "metadata": {},
   "outputs": [
    {
     "data": {
      "text/plain": [
       "{'text': \"@lauraJaynebaker @robertcjenkin I'm fine, I've just got so many medicines to take   Trying to convince my parents I'm ok to go back to Ed!\",\n",
       " 'date': 'Sun Apr 19 04:14:40 PDT 2009',\n",
       " 'user': 'Gabi_Jones',\n",
       " 'sentiment': tensor(0),\n",
       " 'query': 'NO_QUERY'}"
      ]
     },
     "execution_count": 10,
     "metadata": {},
     "output_type": "execute_result"
    }
   ],
   "source": [
    "source_dataset[22313]"
   ]
  },
  {
   "cell_type": "code",
   "execution_count": 11,
   "id": "8d1a1762-dcc4-4e8c-8ecb-e3ddb5d7363b",
   "metadata": {},
   "outputs": [],
   "source": [
    "## Load the Word Embeddings\n",
    "import pickle\n",
    "import torch\n",
    "import torch.nn as nn\n",
    "from pathlib import Path\n",
    "from lib.glove import GloveEmbeddings"
   ]
  },
  {
   "cell_type": "code",
   "execution_count": 12,
   "id": "d9292d3e-d87b-4f28-98a8-3136c50a19f0",
   "metadata": {},
   "outputs": [],
   "source": [
    "glove_pkl_path = Path.home()/\"data\"/\"glove.pkl\"\n",
    "glove = pickle.load(open(glove_pkl_path, \"rb\"))"
   ]
  },
  {
   "cell_type": "code",
   "execution_count": 13,
   "id": "c0e5f294-a3b5-4639-96a9-0c36ddabe2b7",
   "metadata": {},
   "outputs": [
    {
     "data": {
      "text/plain": [
       "torch.Size([24, 50])"
      ]
     },
     "execution_count": 13,
     "metadata": {},
     "output_type": "execute_result"
    }
   ],
   "source": [
    "glove.make(source_dataset[22313]['text']).shape"
   ]
  },
  {
   "cell_type": "code",
   "execution_count": 14,
   "id": "c160368f-f531-4e6d-b70f-a655193b25dc",
   "metadata": {},
   "outputs": [],
   "source": [
    "class TwitterDataset(torch.utils.data.Dataset):\n",
    "    def __init__(self, source):\n",
    "        super().__init__()\n",
    "        self.source = source\n",
    "        \n",
    "    def __len__(self):\n",
    "        return len(self.source)\n",
    "    \n",
    "    def __getitem__(self, index):\n",
    "        raw_item = self.source[index]\n",
    "        item = glove.make(raw_item['text'])[0:240, :]\n",
    "        zeros = torch.zeros(240, 50)\n",
    "        zeros[0:len(item)] = item\n",
    "        \n",
    "        return zeros, raw_item['sentiment']"
   ]
  },
  {
   "cell_type": "code",
   "execution_count": 15,
   "id": "d088527b-177d-41e5-9375-186b17af88e3",
   "metadata": {},
   "outputs": [],
   "source": [
    "train_dataset = TwitterDataset(source_dataset)"
   ]
  },
  {
   "cell_type": "code",
   "execution_count": 16,
   "id": "7fd16862-e0d7-4b1a-874a-0d06a3f8a5ff",
   "metadata": {},
   "outputs": [
    {
     "data": {
      "text/plain": [
       "torch.Size([3, 240, 50])"
      ]
     },
     "execution_count": 16,
     "metadata": {},
     "output_type": "execute_result"
    }
   ],
   "source": [
    "test_inputs = next(iter(torch.utils.data.DataLoader(train_dataset, batch_size=3, shuffle=True)))[0]\n",
    "test_inputs.shape"
   ]
  },
  {
   "cell_type": "markdown",
   "id": "3002337a-bda3-46ee-9ab0-96fdb250cbb3",
   "metadata": {},
   "source": [
    "## Training with a Liner Model (Baseline)"
   ]
  },
  {
   "cell_type": "code",
   "execution_count": 17,
   "id": "b77ab4d0-ab52-4422-9d41-06e998fec0d6",
   "metadata": {},
   "outputs": [
    {
     "data": {
      "text/plain": [
       "torch.Size([3, 5])"
      ]
     },
     "execution_count": 17,
     "metadata": {},
     "output_type": "execute_result"
    }
   ],
   "source": [
    "class BaseLineModel(nn.Module):\n",
    "    def __init__(self):\n",
    "        super().__init__()\n",
    "        self.net = nn.Sequential(\n",
    "            nn.Linear(50, 5),\n",
    "            nn.ReLU()\n",
    "        )\n",
    "        \n",
    "    def forward(self, inputs):\n",
    "        result = self.net(inputs)\n",
    "        result = torch.mean(result, dim=1)\n",
    "        return result\n",
    "    \n",
    "_m = BaseLineModel()\n",
    "_m(test_inputs).shape"
   ]
  },
  {
   "cell_type": "code",
   "execution_count": null,
   "id": "dd25373f-14e2-4026-b3d8-9baff98bdc78",
   "metadata": {},
   "outputs": [],
   "source": []
  }
 ],
 "metadata": {
  "kernelspec": {
   "display_name": "Python 3",
   "language": "python",
   "name": "python3"
  },
  "language_info": {
   "codemirror_mode": {
    "name": "ipython",
    "version": 3
   },
   "file_extension": ".py",
   "mimetype": "text/x-python",
   "name": "python",
   "nbconvert_exporter": "python",
   "pygments_lexer": "ipython3",
   "version": "3.8.12"
  }
 },
 "nbformat": 4,
 "nbformat_minor": 5
}
