{
 "cells": [
  {
   "cell_type": "markdown",
   "id": "676124e8-0880-4bd9-89b8-abb2b41a0e2f",
   "metadata": {},
   "source": [
    "# Language Model RNN\n",
    "\n",
    "Here's an RNN for a Language model. Here's how it looks like:\n",
    "\n",
    "![](https://i.imgur.com/dowTmun.png)"
   ]
  },
  {
   "cell_type": "code",
   "execution_count": 6,
   "id": "5ca75298-6d95-4ba7-8366-0a4a2fbbfeaf",
   "metadata": {},
   "outputs": [],
   "source": [
    "import torch\n",
    "import torch.nn as nn\n",
    "import torch.nn.functional as F"
   ]
  },
  {
   "cell_type": "code",
   "execution_count": 118,
   "id": "e952e55d-bd2f-4594-a51d-80c52c4ce45b",
   "metadata": {},
   "outputs": [],
   "source": [
    "class LRNN(nn.Module):\n",
    "    def __init__(self, n_tokens, n_hidden, n_out):\n",
    "        super().__init__()\n",
    "        self.n_tokens = n_tokens\n",
    "        self.n_hidden = n_hidden\n",
    "        self.n_out = n_out\n",
    "        \n",
    "        self.f_hidden = nn.Linear(n_tokens + n_hidden, n_hidden)\n",
    "        self.f_out = nn.Linear(n_hidden, n_out)\n",
    "        \n",
    "    def forward(self, token_oh, hidden):\n",
    "        combined = torch.cat([token_oh, hidden], dim=1)\n",
    "        hidden = torch.tanh(self.f_hidden(combined))\n",
    "        output = torch.sigmoid(self.f_out(hidden))\n",
    "        output_probs = F.softmax(output, dim=1)\n",
    "        return output, hidden        \n",
    "        \n",
    "    def train(self, time_batch):\n",
    "        bs, timesteps, n_tokens = time_batch.shape\n",
    "        hidden = torch.zeros(bs, self.n_hidden)\n",
    "        output_list = []\n",
    "        \n",
    "        for t in range(timesteps):\n",
    "            # here batch contains a list of one hot encoded tokens for a different set of inputs\n",
    "            batch = time_batch[:, t]\n",
    "            output, hidden = self.forward(batch, hidden)\n",
    "            output_list.append(output)\n",
    "            \n",
    "        return torch.stack(output_list, dim=1)"
   ]
  },
  {
   "cell_type": "markdown",
   "id": "bf92162c-cbcd-4a6f-aa68-6fb57b8e5838",
   "metadata": {},
   "source": [
    "## Training"
   ]
  },
  {
   "cell_type": "code",
   "execution_count": 84,
   "id": "bad357bc-f977-4331-abef-44e97c31f1ff",
   "metadata": {},
   "outputs": [
    {
     "data": {
      "text/plain": [
       "(torch.Size([2, 3, 10]),\n",
       " tensor([[[0, 0, 1, 0, 0, 0, 0, 0, 0, 0],\n",
       "          [0, 0, 0, 0, 0, 0, 0, 0, 0, 1],\n",
       "          [0, 0, 0, 0, 0, 0, 0, 0, 1, 0]],\n",
       " \n",
       "         [[0, 0, 0, 0, 0, 0, 0, 0, 1, 0],\n",
       "          [0, 1, 0, 0, 0, 0, 0, 0, 0, 0],\n",
       "          [0, 0, 0, 1, 0, 0, 0, 0, 0, 0]]]))"
      ]
     },
     "execution_count": 84,
     "metadata": {},
     "output_type": "execute_result"
    }
   ],
   "source": [
    "bs = 2\n",
    "n_tokens = 10\n",
    "timesteps = 3\n",
    "\n",
    "input = torch.LongTensor([\n",
    "    [2, 9, 8],\n",
    "    [8, 1, 3]\n",
    "])\n",
    "input_oh = F.one_hot(input, n_tokens)\n",
    "input_oh.shape, input_oh"
   ]
  },
  {
   "cell_type": "code",
   "execution_count": 120,
   "id": "bd9ce20f-d6e5-4e01-857c-28f184e45268",
   "metadata": {},
   "outputs": [
    {
     "data": {
      "text/plain": [
       "(torch.Size([2, 3, 10]),\n",
       " tensor([[[0.5198, 0.4802, 0.5218, 0.5099, 0.4718, 0.4808, 0.4879, 0.4925,\n",
       "           0.5169, 0.4976],\n",
       "          [0.5246, 0.4889, 0.5243, 0.5291, 0.4700, 0.4948, 0.4815, 0.4900,\n",
       "           0.5004, 0.4934],\n",
       "          [0.5024, 0.4978, 0.5222, 0.5280, 0.4828, 0.4865, 0.4862, 0.5014,\n",
       "           0.5203, 0.5022]],\n",
       " \n",
       "         [[0.5128, 0.4846, 0.5103, 0.5295, 0.4741, 0.4971, 0.5039, 0.5007,\n",
       "           0.5196, 0.5013],\n",
       "          [0.5157, 0.4956, 0.5093, 0.5242, 0.4840, 0.4953, 0.4880, 0.4881,\n",
       "           0.5128, 0.5070],\n",
       "          [0.5033, 0.4789, 0.5332, 0.5337, 0.4735, 0.4959, 0.4882, 0.4983,\n",
       "           0.5208, 0.4955]]], grad_fn=<StackBackward0>))"
      ]
     },
     "execution_count": 120,
     "metadata": {},
     "output_type": "execute_result"
    }
   ],
   "source": [
    "model = LRNN(n_tokens=n_tokens, n_hidden=100, n_out=n_tokens)\n",
    "output_oh = model.train(input_oh)\n",
    "output_oh.shape, output_oh"
   ]
  },
  {
   "cell_type": "code",
   "execution_count": 121,
   "id": "4273692e-c07c-4026-96de-1886c7453288",
   "metadata": {},
   "outputs": [
    {
     "data": {
      "text/plain": [
       "torch.Size([2, 3])"
      ]
     },
     "execution_count": 121,
     "metadata": {},
     "output_type": "execute_result"
    }
   ],
   "source": [
    "output = torch.argmax(output_oh, dim=2)\n",
    "output.shape"
   ]
  },
  {
   "cell_type": "markdown",
   "id": "c0f46fc7-684d-4aa8-9926-e4110bc1fc6e",
   "metadata": {},
   "source": [
    "## Predicting / Generating"
   ]
  },
  {
   "cell_type": "code",
   "execution_count": 124,
   "id": "633ca555-3870-487f-8d49-6ec34a2de494",
   "metadata": {},
   "outputs": [
    {
     "data": {
      "text/plain": [
       "tensor([0, 1])"
      ]
     },
     "execution_count": 124,
     "metadata": {},
     "output_type": "execute_result"
    }
   ],
   "source": [
    "F.one_hot(torch.tensor(1))"
   ]
  },
  {
   "cell_type": "code",
   "execution_count": 130,
   "id": "a258065e-2348-46c2-82e7-d836a0334dce",
   "metadata": {},
   "outputs": [
    {
     "data": {
      "text/plain": [
       "tensor([2, 2, 8, 2, 2, 2, 2, 2, 2, 2, 2])"
      ]
     },
     "execution_count": 130,
     "metadata": {},
     "output_type": "execute_result"
    }
   ],
   "source": [
    "def generate(start_word, timesteps=10):\n",
    "    hidden = torch.zeros(1, model.n_hidden)\n",
    "    output = F.one_hot(torch.tensor(start_word), model.n_tokens).reshape(1, -1)\n",
    "    output_words = [start_word]\n",
    "    \n",
    "    for t in range(timesteps):\n",
    "        output, hidden = model(output, hidden)\n",
    "        output_words.append(torch.argmax(output, dim=1).item())\n",
    "        \n",
    "    return torch.tensor(output_words)\n",
    "\n",
    "generate(2)"
   ]
  },
  {
   "cell_type": "code",
   "execution_count": null,
   "id": "0b05998e-0807-451f-8ac1-ce09d19f3fe5",
   "metadata": {},
   "outputs": [],
   "source": []
  }
 ],
 "metadata": {
  "kernelspec": {
   "display_name": "Python 3",
   "language": "python",
   "name": "python3"
  },
  "language_info": {
   "codemirror_mode": {
    "name": "ipython",
    "version": 3
   },
   "file_extension": ".py",
   "mimetype": "text/x-python",
   "name": "python",
   "nbconvert_exporter": "python",
   "pygments_lexer": "ipython3",
   "version": "3.8.12"
  }
 },
 "nbformat": 4,
 "nbformat_minor": 5
}
