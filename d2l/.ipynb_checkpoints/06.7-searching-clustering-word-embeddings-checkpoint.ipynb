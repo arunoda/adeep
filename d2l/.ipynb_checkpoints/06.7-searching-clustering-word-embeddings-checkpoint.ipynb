{
 "cells": [
  {
   "attachments": {},
   "cell_type": "markdown",
   "metadata": {},
   "source": [
    "# Searching & Clustering Word Embeddings\n",
    "\n",
    "We can use the cosine-similarity to find similar word embeddings. But, if we have a large amount of data, this could be complicated. For those, we need some other methods.\n",
    "\n",
    "Here are someways to explore:\n",
    "\n",
    "* [Searching Similar Embeddings via KNN, Faiss & Annoy](https://medium.com/mlearning-ai/embedding-similarity-search-25c6911240af)\n",
    "* [Clustering High Dimentional Data using KMeans, PCA & T-SNE](https://towardsdatascience.com/explaining-k-means-clustering-5298dc47bad6)"
   ]
  },
  {
   "cell_type": "markdown",
   "metadata": {},
   "source": []
  }
 ],
 "metadata": {
  "kernelspec": {
   "display_name": "Python 3.10.7 64-bit",
   "language": "python",
   "name": "python3"
  },
  "language_info": {
   "name": "python",
   "version": "3.10.7"
  },
  "orig_nbformat": 4,
  "vscode": {
   "interpreter": {
    "hash": "369f2c481f4da34e4445cda3fffd2e751bd1c4d706f27375911949ba6bb62e1c"
   }
  }
 },
 "nbformat": 4,
 "nbformat_minor": 2
}
