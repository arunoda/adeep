{
 "cells": [
  {
   "cell_type": "markdown",
   "id": "8fabb955-ec86-4cf3-bef5-0a53ffa5ea2e",
   "metadata": {},
   "source": [
    "# Dataset for a Language Model\n",
    "\n",
    "The core goal of a language model is to predict next best word. So, here's how we can prepare a dataset for that.\n",
    "\n",
    "Let's imagine this is our text\n",
    "\n",
    "```\n",
    "We usually eat ice-cream in a sunny day\n",
    "```\n",
    "\n",
    "So, let's assumue our language model as `F`. Then it should give us values like this:\n",
    "\n",
    "```\n",
    "F(We) => usually\n",
    "F(We usually) => eat\n",
    "F(We usually eat) => ice-cream\n",
    "F(We usually eat ice-cream) => in\n",
    "F(We usually eat ice-cream in) => a\n",
    "F(We usually eat ice-cream in a) => sunny\n",
    "F(We usually eat ice-cream in a) => day\n",
    "```\n",
    "\n",
    "So, we need to prepare a data set like this:\n",
    "\n",
    "* Input: `[We usually eat]`\n",
    "* Output: `[usually eat ice-cream]`\n",
    "\n",
    "Instead of words, now we have numbers."
   ]
  },
  {
   "cell_type": "markdown",
   "id": "1874aaec-4201-46cc-9f85-55aa23bb26f5",
   "metadata": {},
   "source": [
    "## Tokenizer"
   ]
  },
  {
   "cell_type": "code",
   "execution_count": 1,
   "id": "a2ccbeda-1e2b-461c-8dc8-99ea4d10bef9",
   "metadata": {},
   "outputs": [
    {
     "name": "stdout",
     "output_type": "stream",
     "text": [
      "\u001b[33mWARNING: Running pip as the 'root' user can result in broken permissions and conflicting behaviour with the system package manager. It is recommended to use a virtual environment instead: https://pip.pypa.io/warnings/venv\u001b[0m\u001b[33m\n",
      "\u001b[0m"
     ]
    }
   ],
   "source": [
    "!pip install -q d2l==1.0.0-alpha1.post0"
   ]
  },
  {
   "cell_type": "code",
   "execution_count": 2,
   "id": "3c03520f-6e22-4a72-a7ef-640536c1d00d",
   "metadata": {},
   "outputs": [],
   "source": [
    "import torch\n",
    "from d2l import torch as d2l\n",
    "import re\n",
    "from matplotlib import pyplot as plt\n",
    "import numpy as np"
   ]
  },
  {
   "cell_type": "code",
   "execution_count": 3,
   "id": "79850b64-f681-4a7c-80d2-8c1b802487cc",
   "metadata": {},
   "outputs": [],
   "source": [
    "class TimeMachine(d2l.DataModule): #@save\n",
    "    def _download(self):\n",
    "        fname = d2l.download(d2l.DATA_URL + 'timemachine.txt', self.root,\n",
    "                             '090b5e7e70c295757f55df93cb0a180b9691891a')\n",
    "        with open(fname) as f:\n",
    "            return f.read()\n",
    "\n",
    "data = TimeMachine()\n",
    "raw_text = data._download()"
   ]
  },
  {
   "cell_type": "code",
   "execution_count": 70,
   "id": "9b5497c9-f042-458a-adae-c7b5cc319203",
   "metadata": {},
   "outputs": [],
   "source": [
    "class Vocab:\n",
    "    def __init__(self):\n",
    "        self.tokens = []\n",
    "        self.token_to_id = {}\n",
    "        self.token_freq = {}\n",
    "        \n",
    "        self._process_word(\"<unk>\")\n",
    "        \n",
    "    def to_id(self, word):\n",
    "        if word in self.token_to_id:\n",
    "            return self.token_to_id[word]\n",
    "        else:\n",
    "            return self.token_to_id[\"<unk>\"]\n",
    "        \n",
    "    def to_token(self, id):\n",
    "        if id < len(self.tokens):\n",
    "            return self.tokens[id]\n",
    "        else:\n",
    "            return self.tokens[0]\n",
    "    \n",
    "    def _process_word(self, word):\n",
    "        idx = 0\n",
    "        if word in self.token_to_id:\n",
    "            idx = self.token_to_id[word]\n",
    "            self.token_freq[idx] += 1;\n",
    "        else:\n",
    "            self.tokens.append(word)\n",
    "            idx = len(self.tokens) - 1\n",
    "            self.token_to_id[word] = idx\n",
    "            self.token_freq[idx] = 1\n",
    "            \n",
    "        return idx\n",
    "            \n",
    "    def tokenize(self, text):\n",
    "        cleaned = re.sub('[^A-Za-z]+', ' ', text).lower().strip()\n",
    "        return cleaned.split(\" \")\n",
    "        \n",
    "    def build(self, text):\n",
    "        corpus = [self._process_word(word) for word in self.tokenize(text)]\n",
    "        self.token_freq = dict(sorted(self.token_freq.items(), key=lambda item: item[1], reverse=True))\n",
    "        return corpus\n",
    "    \n",
    "    \n",
    "vocab = Vocab()\n",
    "corpus = vocab.build(raw_text)"
   ]
  },
  {
   "cell_type": "markdown",
   "id": "a897f362-f792-437e-8ffa-8e95d182199a",
   "metadata": {},
   "source": [
    "## Dataset"
   ]
  },
  {
   "cell_type": "code",
   "execution_count": 65,
   "id": "e2f696e5-a73f-4efd-9073-8ccaff34a01c",
   "metadata": {},
   "outputs": [
    {
     "data": {
      "text/plain": [
       "(32764,\n",
       " (tensor([3.0000e+01, 2.2000e+01, 4.5710e+03, 2.3250e+03, 4.1500e+02, 1.2390e+03,\n",
       "          1.1800e+02, 4.4000e+01, 1.0000e+00, 2.8760e+03]),\n",
       "  tensor([2.2000e+01, 4.5710e+03, 2.3250e+03, 4.1500e+02, 1.2390e+03, 1.1800e+02,\n",
       "          4.4000e+01, 1.0000e+00, 2.8760e+03, 1.8000e+01])))"
      ]
     },
     "execution_count": 65,
     "metadata": {},
     "output_type": "execute_result"
    }
   ],
   "source": [
    "class LanguageDataset(torch.utils.data.Dataset):\n",
    "    def __init__(self, corpus, segment_len):\n",
    "        self.corpus = corpus\n",
    "        self.segment_len = segment_len\n",
    "        self.total_segments = len(corpus) - segment_len - 1\n",
    "    \n",
    "        self.input_list = []\n",
    "        self.output_list = []\n",
    "        for i in range(self.total_segments):\n",
    "            self.input_list.append(corpus[i: i + segment_len])\n",
    "            self.output_list.append(corpus[i + 1: i + 1 + segment_len])\n",
    "        \n",
    "    def __len__(self):\n",
    "        return self.total_segments\n",
    "    \n",
    "    def __getitem__(self, i):\n",
    "        return (torch.FloatTensor(self.input_list[i]), torch.FloatTensor(self.output_list[i]))\n",
    "            \n",
    "    \n",
    "dataset = LanguageDataset(corpus, 10)\n",
    "len(dataset), dataset[-1]"
   ]
  },
  {
   "cell_type": "code",
   "execution_count": 69,
   "id": "5c7b34f2-107a-40b5-9262-0bc716c9e490",
   "metadata": {},
   "outputs": [
    {
     "data": {
      "text/plain": [
       "[tensor([[8.0000e+00, 4.1200e+02, 3.9280e+03, 1.6000e+01, 4.2020e+03, 4.5240e+03,\n",
       "          1.0000e+00, 4.5250e+03, 1.1400e+02, 1.0400e+02],\n",
       "         [1.9840e+03, 3.0000e+01, 4.4000e+01, 2.6710e+03, 8.0000e+00, 1.0390e+03,\n",
       "          3.3000e+02, 2.6720e+03, 3.3300e+02, 3.0000e+01],\n",
       "         [3.7870e+03, 4.4000e+01, 2.2800e+03, 3.2580e+03, 8.0000e+00, 9.2700e+02,\n",
       "          2.5700e+02, 1.2840e+03, 2.9980e+03, 1.6890e+03],\n",
       "         [8.3000e+01, 8.4000e+01, 8.5000e+01, 8.6000e+01, 6.2000e+01, 3.0000e+01,\n",
       "          8.7000e+01, 8.8000e+01, 2.6000e+01, 8.9000e+01]]),\n",
       " tensor([[4.1200e+02, 3.9280e+03, 1.6000e+01, 4.2020e+03, 4.5240e+03, 1.0000e+00,\n",
       "          4.5250e+03, 1.1400e+02, 1.0400e+02, 8.0000e+00],\n",
       "         [3.0000e+01, 4.4000e+01, 2.6710e+03, 8.0000e+00, 1.0390e+03, 3.3000e+02,\n",
       "          2.6720e+03, 3.3300e+02, 3.0000e+01, 6.4000e+01],\n",
       "         [4.4000e+01, 2.2800e+03, 3.2580e+03, 8.0000e+00, 9.2700e+02, 2.5700e+02,\n",
       "          1.2840e+03, 2.9980e+03, 1.6890e+03, 3.7880e+03],\n",
       "         [8.4000e+01, 8.5000e+01, 8.6000e+01, 6.2000e+01, 3.0000e+01, 8.7000e+01,\n",
       "          8.8000e+01, 2.6000e+01, 8.9000e+01, 9.0000e+01]])]"
      ]
     },
     "execution_count": 69,
     "metadata": {},
     "output_type": "execute_result"
    }
   ],
   "source": [
    "batch = next(iter(torch.utils.data.DataLoader(dataset, batch_size=4, shuffle=True)))\n",
    "batch"
   ]
  },
  {
   "cell_type": "code",
   "execution_count": null,
   "id": "af7acc9c-2cff-4da2-a01b-c06f7e598d0b",
   "metadata": {},
   "outputs": [],
   "source": []
  }
 ],
 "metadata": {
  "kernelspec": {
   "display_name": "Python 3",
   "language": "python",
   "name": "python3"
  },
  "language_info": {
   "codemirror_mode": {
    "name": "ipython",
    "version": 3
   },
   "file_extension": ".py",
   "mimetype": "text/x-python",
   "name": "python",
   "nbconvert_exporter": "python",
   "pygments_lexer": "ipython3",
   "version": "3.8.12"
  }
 },
 "nbformat": 4,
 "nbformat_minor": 5
}
