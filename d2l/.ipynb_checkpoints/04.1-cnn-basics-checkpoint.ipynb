{
 "cells": [
  {
   "cell_type": "markdown",
   "id": "ba0db55a-4996-4d7a-8334-35e879bf07c0",
   "metadata": {},
   "source": [
    "# CNN Basics"
   ]
  },
  {
   "cell_type": "code",
   "execution_count": 1,
   "id": "ca1fbad0-d036-407e-8f94-52e697c64926",
   "metadata": {},
   "outputs": [],
   "source": [
    "import torch\n",
    "import torch.nn.functional as F\n",
    "from torchvision import datasets, transforms\n",
    "from tqdm.notebook import tqdm\n",
    "from matplotlib import pyplot as plt"
   ]
  },
  {
   "cell_type": "code",
   "execution_count": 2,
   "id": "f0408190-db0a-4b28-a86d-590ba4dcf5df",
   "metadata": {},
   "outputs": [],
   "source": [
    "!rm -rf ./imitools && git clone https://github.com/GDi4K/imitools.git\n",
    "import imitools as I"
   ]
  },
  {
   "cell_type": "markdown",
   "id": "8dad00a9-ddbc-4f04-83c1-16a898b46b00",
   "metadata": {},
   "source": [
    "## Basic Example"
   ]
  },
  {
   "cell_type": "code",
   "execution_count": 12,
   "id": "ab7ab915-beca-4e94-844a-a0892b742e07",
   "metadata": {},
   "outputs": [
    {
     "data": {
      "text/plain": [
       "tensor([[1., 1., 0., 0., 0., 0., 1., 1.],\n",
       "        [1., 1., 0., 0., 0., 0., 1., 1.],\n",
       "        [1., 1., 0., 0., 0., 0., 1., 1.],\n",
       "        [1., 1., 0., 0., 0., 0., 1., 1.],\n",
       "        [1., 1., 0., 0., 0., 0., 1., 1.],\n",
       "        [1., 1., 0., 0., 0., 0., 1., 1.],\n",
       "        [1., 1., 0., 0., 0., 0., 1., 1.],\n",
       "        [1., 1., 0., 0., 0., 0., 1., 1.]])"
      ]
     },
     "execution_count": 12,
     "metadata": {},
     "output_type": "execute_result"
    }
   ],
   "source": [
    "image = torch.ones(8, 8)\n",
    "image[:, 2:6] = 0\n",
    "image"
   ]
  },
  {
   "cell_type": "code",
   "execution_count": 38,
   "id": "1d6c23ad-0381-453e-b398-604f048c2ee0",
   "metadata": {},
   "outputs": [],
   "source": [
    "# This a kernal to detect horizontal edges.\n",
    "kernal = torch.FloatTensor([[1, -1]])"
   ]
  },
  {
   "cell_type": "code",
   "execution_count": 69,
   "id": "d2a4f47a-4af3-4fff-8d9c-94a06cb698f6",
   "metadata": {},
   "outputs": [],
   "source": [
    "def run_conv(X, K):\n",
    "    kw, kh = K.shape\n",
    "    xw, xh = X.shape\n",
    "    yw = xw - (kw - 1)\n",
    "    yh = xh - (kh - 1)\n",
    "    \n",
    "    Y = torch.zeros(yw, yh)\n",
    "    for u in range(yw):\n",
    "        for v in range(yh):\n",
    "            selection = X[u:u+kw, v:v+kh]\n",
    "            Y[u, v] = (selection*K).sum()\n",
    "    return Y"
   ]
  },
  {
   "cell_type": "code",
   "execution_count": 46,
   "id": "d0f6269d-91dc-42c7-a91b-c53249983c34",
   "metadata": {},
   "outputs": [
    {
     "data": {
      "text/plain": [
       "tensor([[ 0.,  1.,  0.,  0.,  0., -1.,  0.],\n",
       "        [ 0.,  1.,  0.,  0.,  0., -1.,  0.],\n",
       "        [ 0.,  1.,  0.,  0.,  0., -1.,  0.],\n",
       "        [ 0.,  1.,  0.,  0.,  0., -1.,  0.],\n",
       "        [ 0.,  1.,  0.,  0.,  0., -1.,  0.],\n",
       "        [ 0.,  1.,  0.,  0.,  0., -1.,  0.],\n",
       "        [ 0.,  1.,  0.,  0.,  0., -1.,  0.],\n",
       "        [ 0.,  1.,  0.,  0.,  0., -1.,  0.]])"
      ]
     },
     "execution_count": 46,
     "metadata": {},
     "output_type": "execute_result"
    }
   ],
   "source": [
    "# It detects horizontal edges.\n",
    "## 1 for white -> black, -1 for black -> white\n",
    "run_conv(image, torch.FloatTensor([[1, -1]]))"
   ]
  },
  {
   "cell_type": "code",
   "execution_count": 45,
   "id": "28351981-46e9-40f3-836e-1f47ec51f6c3",
   "metadata": {},
   "outputs": [
    {
     "data": {
      "text/plain": [
       "tensor([[0., 0., 0., 0., 0., 0., 0.],\n",
       "        [0., 0., 0., 0., 0., 0., 0.],\n",
       "        [0., 0., 0., 0., 0., 0., 0.],\n",
       "        [0., 0., 0., 0., 0., 0., 0.],\n",
       "        [0., 0., 0., 0., 0., 0., 0.],\n",
       "        [0., 0., 0., 0., 0., 0., 0.],\n",
       "        [0., 0., 0., 0., 0., 0., 0.],\n",
       "        [0., 0., 0., 0., 0., 0., 0.]])"
      ]
     },
     "execution_count": 45,
     "metadata": {},
     "output_type": "execute_result"
    }
   ],
   "source": [
    "# It cannot detect vertical edges\n",
    "run_conv(image.T, torch.FloatTensor([[1, -1]]))"
   ]
  },
  {
   "cell_type": "code",
   "execution_count": 70,
   "id": "3077aa4f-439b-4525-a5bc-bb60e855f1ba",
   "metadata": {},
   "outputs": [
    {
     "data": {
      "text/plain": [
       "tensor([[ 0.,  0.,  0.,  0.,  0.,  0.,  0.,  0.],\n",
       "        [ 1.,  1.,  1.,  1.,  1.,  1.,  1.,  1.],\n",
       "        [ 0.,  0.,  0.,  0.,  0.,  0.,  0.,  0.],\n",
       "        [ 0.,  0.,  0.,  0.,  0.,  0.,  0.,  0.],\n",
       "        [ 0.,  0.,  0.,  0.,  0.,  0.,  0.,  0.],\n",
       "        [-1., -1., -1., -1., -1., -1., -1., -1.],\n",
       "        [ 0.,  0.,  0.,  0.,  0.,  0.,  0.,  0.]])"
      ]
     },
     "execution_count": 70,
     "metadata": {},
     "output_type": "execute_result"
    }
   ],
   "source": [
    "# It cannot detect vertical edges, if we chnage the kernal\n",
    "run_conv(image.T, torch.FloatTensor([\n",
    "    [1],\n",
    "    [-1]\n",
    "]))"
   ]
  },
  {
   "cell_type": "markdown",
   "id": "95b6378c-c807-4441-adec-42d56de2560b",
   "metadata": {},
   "source": [
    "## Training a Kernal\n",
    "\n",
    "We can try to find a kernal by training a bit."
   ]
  },
  {
   "cell_type": "code",
   "execution_count": 78,
   "id": "7f228684-271a-4fae-958a-b503bd7863b0",
   "metadata": {},
   "outputs": [
    {
     "data": {
      "text/plain": [
       "(tensor([[1., 1., 0., 0., 0., 0., 1., 1.],\n",
       "         [1., 1., 0., 0., 0., 0., 1., 1.],\n",
       "         [1., 1., 0., 0., 0., 0., 1., 1.],\n",
       "         [1., 1., 0., 0., 0., 0., 1., 1.],\n",
       "         [1., 1., 0., 0., 0., 0., 1., 1.],\n",
       "         [1., 1., 0., 0., 0., 0., 1., 1.],\n",
       "         [1., 1., 0., 0., 0., 0., 1., 1.],\n",
       "         [1., 1., 0., 0., 0., 0., 1., 1.]]),\n",
       " tensor([[ 0.,  1.,  0.,  0.,  0., -1.,  0.],\n",
       "         [ 0.,  1.,  0.,  0.,  0., -1.,  0.],\n",
       "         [ 0.,  1.,  0.,  0.,  0., -1.,  0.],\n",
       "         [ 0.,  1.,  0.,  0.,  0., -1.,  0.],\n",
       "         [ 0.,  1.,  0.,  0.,  0., -1.,  0.],\n",
       "         [ 0.,  1.,  0.,  0.,  0., -1.,  0.],\n",
       "         [ 0.,  1.,  0.,  0.,  0., -1.,  0.],\n",
       "         [ 0.,  1.,  0.,  0.,  0., -1.,  0.]]))"
      ]
     },
     "execution_count": 78,
     "metadata": {},
     "output_type": "execute_result"
    }
   ],
   "source": [
    "X = image\n",
    "Y = run_conv(image, torch.FloatTensor([[1, -1]]))\n",
    "X, Y"
   ]
  },
  {
   "cell_type": "markdown",
   "id": "5ab83a78-48cd-4dbe-bf9d-80a5845c452e",
   "metadata": {},
   "source": [
    "Here, we are trying for find the kernal to detect these edges via SGD."
   ]
  },
  {
   "cell_type": "code",
   "execution_count": 91,
   "id": "debf7e57-3f05-47f1-b306-74b93d34ae62",
   "metadata": {},
   "outputs": [
    {
     "name": "stdout",
     "output_type": "stream",
     "text": [
      "initial K: tensor([[0.7470, 0.1434]], requires_grad=True)\n",
      "tensor([[ 0.9615, -0.9615]], requires_grad=True)\n"
     ]
    },
    {
     "data": {
      "image/png": "[encoded data removed]",
      "text/plain": [
       "<Figure size 432x288 with 1 Axes>"
      ]
     },
     "metadata": {
      "needs_background": "light"
     },
     "output_type": "display_data"
    }
   ],
   "source": [
    "K = torch.rand(1, 2)\n",
    "K.requires_grad_()\n",
    "print(\"initial K:\", K)\n",
    "\n",
    "# the loop\n",
    "losses = []\n",
    "for i in range(100):\n",
    "    if K.grad is not None:\n",
    "        K.grad.zero_()\n",
    "        \n",
    "    yhat = run_conv(X, K)\n",
    "    loss = ((Y - yhat)**2).mean()\n",
    "    loss.backward()\n",
    "    losses.append(loss.item())\n",
    "    \n",
    "    with torch.no_grad():\n",
    "        K -= K.grad * 0.1\n",
    "        \n",
    "plt.plot(losses)\n",
    "print(K)"
   ]
  },
  {
   "cell_type": "code",
   "execution_count": 93,
   "id": "7abae525-f8b1-4cc5-b39e-f0ca2890b3ad",
   "metadata": {},
   "outputs": [
    {
     "name": "stdout",
     "output_type": "stream",
     "text": [
      "tensor([[ 0.,  1.,  0.,  0.,  0., -1.,  0.],\n",
      "        [ 0.,  1.,  0.,  0.,  0., -1.,  0.],\n",
      "        [ 0.,  1.,  0.,  0.,  0., -1.,  0.],\n",
      "        [ 0.,  1.,  0.,  0.,  0., -1.,  0.],\n",
      "        [ 0.,  1.,  0.,  0.,  0., -1.,  0.],\n",
      "        [ 0.,  1.,  0.,  0.,  0., -1.,  0.],\n",
      "        [ 0.,  1.,  0.,  0.,  0., -1.,  0.],\n",
      "        [ 0.,  1.,  0.,  0.,  0., -1.,  0.]])\n"
     ]
    }
   ],
   "source": [
    "with torch.no_grad():\n",
    "    print(run_conv(image, K).round())"
   ]
  },
  {
   "cell_type": "code",
   "execution_count": null,
   "id": "5d8824be-8f5a-4061-889c-f1af0589a027",
   "metadata": {},
   "outputs": [],
   "source": []
  }
 ],
 "metadata": {
  "kernelspec": {
   "display_name": "Python 3 (ipykernel)",
   "language": "python",
   "name": "python3"
  },
  "language_info": {
   "codemirror_mode": {
    "name": "ipython",
    "version": 3
   },
   "file_extension": ".py",
   "mimetype": "text/x-python",
   "name": "python",
   "nbconvert_exporter": "python",
   "pygments_lexer": "ipython3",
   "version": "3.8.12"
  }
 },
 "nbformat": 4,
 "nbformat_minor": 5
}
