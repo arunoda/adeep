{
 "cells": [
  {
   "cell_type": "markdown",
   "id": "3897b799-a40c-4067-af6c-2b984a3f72ac",
   "metadata": {},
   "source": [
    "# Sequence Modeling with Linear Regression\n",
    "\n",
    "Yep. This may not work.\n",
    "But let's see how it works."
   ]
  },
  {
   "cell_type": "code",
   "execution_count": 1,
   "id": "9e9f888d-c394-4951-8e4e-80525aba9e3d",
   "metadata": {},
   "outputs": [],
   "source": [
    "import torch\n",
    "import torch.nn as nn\n",
    "from matplotlib import pyplot as plt\n",
    "from tqdm.notebook import tqdm"
   ]
  },
  {
   "cell_type": "markdown",
   "id": "78364d88-8a97-424d-8f68-53a148d46b09",
   "metadata": {},
   "source": [
    "## Dataset\n",
    "\n",
    "We are going to create some 1000 timepoints of stock price data."
   ]
  },
  {
   "cell_type": "code",
   "execution_count": 2,
   "id": "66d27019-0272-45ba-8927-d3ccf1941e86",
   "metadata": {},
   "outputs": [
    {
     "data": {
      "text/plain": [
       "[<matplotlib.lines.Line2D at 0x7f18a9e3b280>]"
      ]
     },
     "execution_count": 2,
     "metadata": {},
     "output_type": "execute_result"
    },
    {
     "data": {
      "image/png": "[encoded data removed]",
      "text/plain": [
       "<Figure size 432x288 with 1 Axes>"
      ]
     },
     "metadata": {
      "needs_background": "light"
     },
     "output_type": "display_data"
    }
   ],
   "source": [
    "timesteps = 1000\n",
    "X = torch.arange(0, timesteps).float()\n",
    "Y = torch.sin(X * 6.28/1000) + torch.randn_like(X) * 0.1\n",
    "plt.plot(X, Y)"
   ]
  },
  {
   "cell_type": "markdown",
   "id": "14edacc5-13e8-462b-baaf-1cea41d7060b",
   "metadata": {},
   "source": [
    "## Data Prep\n",
    "\n",
    "Since this is a linear regression, we need a set of features & a value.\n",
    "Here's such one sample looks like.\n",
    "\n",
    "```\n",
    "features: [y0, y1, y2, y3]\n",
    "value: y4\n",
    "```\n",
    "\n",
    "So, basically we give them last 4 values & it will predict the current value.\n",
    "\n",
    "Let's create a dataset like that."
   ]
  },
  {
   "cell_type": "code",
   "execution_count": 3,
   "id": "742b0522-12ba-44d9-9e76-cca8111fe630",
   "metadata": {},
   "outputs": [],
   "source": [
    "class StockDataset(torch.utils.data.Dataset):\n",
    "    def __init__(self, n_features=4):\n",
    "        self.n_features = 4\n",
    "        self.n_samples = timesteps - n_features\n",
    "        \n",
    "        self.features_list = [Y[i: i + n_features] for i in range(self.n_samples)]\n",
    "        self.labels = Y[n_features:].reshape(-1, 1)\n",
    "        \n",
    "    def __len__(self):\n",
    "        return self.n_samples\n",
    "    \n",
    "    def __getitem__(self, i):\n",
    "        return (self.features_list[i], self.labels[i], i+self.n_features)"
   ]
  },
  {
   "cell_type": "code",
   "execution_count": 4,
   "id": "8e603dda-cefa-4038-b71c-19841112c089",
   "metadata": {},
   "outputs": [
    {
     "data": {
      "text/plain": [
       "(torch.Size([32, 4]), torch.Size([32, 1]))"
      ]
     },
     "execution_count": 4,
     "metadata": {},
     "output_type": "execute_result"
    }
   ],
   "source": [
    "dataset = StockDataset()\n",
    "sample_data = next(iter(torch.utils.data.DataLoader(dataset, batch_size=32)))\n",
    "sample_data[0].shape, sample_data[1].shape"
   ]
  },
  {
   "cell_type": "markdown",
   "id": "69d6c647-1255-4c10-90f1-10edcff24b22",
   "metadata": {},
   "source": [
    "## The Model"
   ]
  },
  {
   "cell_type": "code",
   "execution_count": 5,
   "id": "a95d8371-b81e-4150-adb0-f7fdeb16786e",
   "metadata": {},
   "outputs": [
    {
     "data": {
      "text/plain": [
       "torch.Size([32, 10])"
      ]
     },
     "execution_count": 5,
     "metadata": {},
     "output_type": "execute_result"
    }
   ],
   "source": [
    "class StockModel(nn.Module):\n",
    "    def __init__(self, n_features=4):\n",
    "        super().__init__()\n",
    "        self.n_features = n_features\n",
    "        self.net = nn.Linear(in_features=n_features, out_features=10)\n",
    "        self.net.weight.data.normal_(0, 0.01)\n",
    "        \n",
    "    def forward(self, inputs):\n",
    "        return self.net(inputs)\n",
    "    \n",
    "_model = StockModel()\n",
    "_model(sample_data[0]).shape"
   ]
  },
  {
   "cell_type": "markdown",
   "id": "dcd71eea-15ee-4f15-bc16-ac700d367312",
   "metadata": {},
   "source": [
    "## Training Loop"
   ]
  },
  {
   "cell_type": "code",
   "execution_count": 6,
   "id": "08341d04-417e-43ce-89aa-e086a237b2eb",
   "metadata": {},
   "outputs": [
    {
     "data": {
      "application/json": {
       "ascii": false,
       "bar_format": null,
       "colour": null,
       "elapsed": 0.020222902297973633,
       "initial": 0,
       "n": 0,
       "ncols": null,
       "nrows": null,
       "postfix": null,
       "prefix": "",
       "rate": null,
       "total": 10,
       "unit": "it",
       "unit_divisor": 1000,
       "unit_scale": false
      },
      "application/vnd.jupyter.widget-view+json": {
       "model_id": "ff19026bd72049c99fd68a72e9e2c7c7",
       "version_major": 2,
       "version_minor": 0
      },
      "text/plain": [
       "  0%|          | 0/10 [00:00<?, ?it/s]"
      ]
     },
     "metadata": {},
     "output_type": "display_data"
    },
    {
     "name": "stderr",
     "output_type": "stream",
     "text": [
      "/opt/conda/lib/python3.8/site-packages/torch/nn/modules/loss.py:536: UserWarning: Using a target size (torch.Size([8, 10])) that is different to the input size (torch.Size([8, 1])). This will likely lead to incorrect results due to broadcasting. Please ensure they have the same size.\n",
      "  return F.mse_loss(input, target, reduction=self.reduction)\n",
      "/opt/conda/lib/python3.8/site-packages/torch/nn/modules/loss.py:536: UserWarning: Using a target size (torch.Size([4, 10])) that is different to the input size (torch.Size([4, 1])). This will likely lead to incorrect results due to broadcasting. Please ensure they have the same size.\n",
      "  return F.mse_loss(input, target, reduction=self.reduction)\n"
     ]
    },
    {
     "data": {
      "text/plain": [
       "[<matplotlib.lines.Line2D at 0x7f18a9cccdf0>]"
      ]
     },
     "execution_count": 6,
     "metadata": {},
     "output_type": "execute_result"
    },
    {
     "data": {
      "image/png": "[encoded data removed]",
      "text/plain": [
       "<Figure size 432x288 with 1 Axes>"
      ]
     },
     "metadata": {
      "needs_background": "light"
     },
     "output_type": "display_data"
    }
   ],
   "source": [
    "n_epoch = 10\n",
    "lr = 0.01\n",
    "\n",
    "dataloader = torch.utils.data.DataLoader(dataset, batch_size=8)\n",
    "model = StockModel()\n",
    "optimizer = torch.optim.SGD(model.parameters(), lr=lr)\n",
    "calc_loss = nn.MSELoss()\n",
    "\n",
    "loss_list = []\n",
    "\n",
    "for epoch in tqdm(range(n_epoch)):\n",
    "    for batch in dataloader:\n",
    "        optimizer.zero_grad()\n",
    "        \n",
    "        x, y = batch[0], batch[1]        \n",
    "        yhat = model(x)\n",
    "        loss = calc_loss(y, yhat)\n",
    "        \n",
    "        with torch.no_grad():\n",
    "            loss.backward()\n",
    "            loss_list.append(loss.item())\n",
    "            optimizer.step()\n",
    "        \n",
    "plt.plot(loss_list)"
   ]
  },
  {
   "cell_type": "markdown",
   "id": "dcd3469c-2d3b-4db1-89b1-68f7bf6450ea",
   "metadata": {},
   "source": [
    "## Next Value Prediction"
   ]
  },
  {
   "cell_type": "code",
   "execution_count": 7,
   "id": "f18f5b95-8cd8-4044-bffd-b05618664237",
   "metadata": {},
   "outputs": [
    {
     "data": {
      "text/plain": [
       "[<matplotlib.lines.Line2D at 0x7f18a9c5d0a0>]"
      ]
     },
     "execution_count": 7,
     "metadata": {},
     "output_type": "execute_result"
    },
    {
     "data": {
      "image/png": "[encoded data removed]",
      "text/plain": [
       "<Figure size 432x288 with 1 Axes>"
      ]
     },
     "metadata": {
      "needs_background": "light"
     },
     "output_type": "display_data"
    }
   ],
   "source": [
    "pred_x = []\n",
    "pred_y = []\n",
    "for item in dataset:\n",
    "    pred_x.append(item[2])\n",
    "    with torch.no_grad():\n",
    "        pred_y.append(model(item[0])[0].item())\n",
    "    \n",
    "plt.plot(X, Y, c=\"gray\")\n",
    "plt.plot(pred_x, pred_y, c=\"red\")"
   ]
  },
  {
   "cell_type": "markdown",
   "id": "e1407930-2f28-497f-b8f8-0ce35b1b6c5d",
   "metadata": {},
   "source": [
    "**Yep. It does a good job at predicting the next value**"
   ]
  },
  {
   "cell_type": "code",
   "execution_count": null,
   "id": "0d0b313a-cf8d-476d-9fa6-a11cebecfe54",
   "metadata": {},
   "outputs": [],
   "source": []
  }
 ],
 "metadata": {
  "kernelspec": {
   "display_name": "Python 3",
   "language": "python",
   "name": "python3"
  },
  "language_info": {
   "codemirror_mode": {
    "name": "ipython",
    "version": 3
   },
   "file_extension": ".py",
   "mimetype": "text/x-python",
   "name": "python",
   "nbconvert_exporter": "python",
   "pygments_lexer": "ipython3",
   "version": "3.8.12"
  }
 },
 "nbformat": 4,
 "nbformat_minor": 5
}
