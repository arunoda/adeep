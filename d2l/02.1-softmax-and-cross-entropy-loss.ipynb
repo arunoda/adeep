{
 "cells": [
  {
   "cell_type": "code",
   "execution_count": 1,
   "id": "2d007a6a-d3d6-459b-b2ab-909cbc7da733",
   "metadata": {},
   "outputs": [],
   "source": [
    "import torch\n",
    "import torch.nn.functional as F"
   ]
  },
  {
   "cell_type": "markdown",
   "id": "13d9e92e-ab8e-4d41-89ea-52e445556034",
   "metadata": {},
   "source": [
    "## Softmax"
   ]
  },
  {
   "cell_type": "code",
   "execution_count": 2,
   "id": "5107e071-ddf5-4c77-9912-fa80e7fa15f0",
   "metadata": {},
   "outputs": [
    {
     "data": {
      "text/plain": [
       "tensor([0.2119, 0.5761, 0.2119])"
      ]
     },
     "execution_count": 2,
     "metadata": {},
     "output_type": "execute_result"
    }
   ],
   "source": [
    "data = torch.FloatTensor([1, 2, 1])\n",
    "F.softmax(data, dim=-1)"
   ]
  },
  {
   "cell_type": "code",
   "execution_count": 3,
   "id": "9d4ef568-b618-45fd-b826-f1ff5df4608c",
   "metadata": {},
   "outputs": [
    {
     "data": {
      "text/plain": [
       "tensor([[0.2119, 0.5761, 0.2119],\n",
       "        [0.0900, 0.2447, 0.6652]])"
      ]
     },
     "execution_count": 3,
     "metadata": {},
     "output_type": "execute_result"
    }
   ],
   "source": [
    "data = torch.FloatTensor([\n",
    "    [1, 2, 1],\n",
    "    [2, 3, 4]\n",
    "])\n",
    "F.softmax(data, dim=-1)"
   ]
  },
  {
   "cell_type": "code",
   "execution_count": 4,
   "id": "c2cc968e-45e3-4dad-92d4-d503ae968a52",
   "metadata": {},
   "outputs": [
    {
     "data": {
      "text/plain": [
       "tensor([0.2119, 0.5761, 0.2119])"
      ]
     },
     "execution_count": 4,
     "metadata": {},
     "output_type": "execute_result"
    }
   ],
   "source": [
    "# let implement a softmax function\n",
    "def calc_softmax(data, dim=-1):\n",
    "    e_data = torch.exp(data)\n",
    "    return e_data / torch.sum(e_data, dim=dim, keepdim=True)\n",
    "\n",
    "data = torch.FloatTensor([1, 2, 1])\n",
    "calc_softmax(data)"
   ]
  },
  {
   "cell_type": "code",
   "execution_count": 5,
   "id": "8d2f1e1e-8999-47bc-9b3f-e992be0ef4b9",
   "metadata": {},
   "outputs": [
    {
     "data": {
      "text/plain": [
       "tensor([[0.2119, 0.5761, 0.2119],\n",
       "        [0.0900, 0.2447, 0.6652]])"
      ]
     },
     "execution_count": 5,
     "metadata": {},
     "output_type": "execute_result"
    }
   ],
   "source": [
    "data = torch.FloatTensor([\n",
    "    [1, 2, 1],\n",
    "    [2, 3, 4]\n",
    "])\n",
    "calc_softmax(data)"
   ]
  },
  {
   "cell_type": "markdown",
   "id": "c9ccf25d-473f-4214-84f4-ea12ced99464",
   "metadata": {},
   "source": [
    "## Cross Entropy Loss"
   ]
  },
  {
   "cell_type": "code",
   "execution_count": 6,
   "id": "19d8d857-1842-4c64-bc84-683542684018",
   "metadata": {},
   "outputs": [
    {
     "data": {
      "text/plain": [
       "tensor([[0.2068, 0.4164, 0.3768],\n",
       "        [0.3115, 0.3443, 0.3443],\n",
       "        [0.4718, 0.2120, 0.3162]])"
      ]
     },
     "execution_count": 6,
     "metadata": {},
     "output_type": "execute_result"
    }
   ],
   "source": [
    "Y = torch.tensor([1, 0, 2])\n",
    "yhat = torch.FloatTensor([\n",
    "    [0.1, 0.8, 0.7],\n",
    "    [0.4, 0.5, 0.5],\n",
    "    [0.9, 0.1, 0.5]\n",
    "])\n",
    "yhat = calc_softmax(yhat)\n",
    "yhat"
   ]
  },
  {
   "cell_type": "code",
   "execution_count": 7,
   "id": "6594a52e-9188-4a3d-891d-86d6c949c882",
   "metadata": {},
   "outputs": [
    {
     "data": {
      "text/plain": [
       "tensor([[0, 1, 0],\n",
       "        [1, 0, 0],\n",
       "        [0, 0, 1]])"
      ]
     },
     "execution_count": 7,
     "metadata": {},
     "output_type": "execute_result"
    }
   ],
   "source": [
    "y_one_hot = F.one_hot(Y, 3)\n",
    "y_one_hot"
   ]
  },
  {
   "cell_type": "code",
   "execution_count": 8,
   "id": "8388e356-817d-40c6-adc2-11acd6ef017c",
   "metadata": {},
   "outputs": [],
   "source": [
    "# provided value\n",
    "def cross_entropy(y_hat, y):\n",
    "    return - torch.log(y_hat[range(len(y_hat)), y]).mean()"
   ]
  },
  {
   "cell_type": "code",
   "execution_count": 9,
   "id": "fde70374-7d5a-42e2-8707-eb6ee60e8258",
   "metadata": {},
   "outputs": [
    {
     "data": {
      "text/plain": [
       "tensor(1.0646)"
      ]
     },
     "execution_count": 9,
     "metadata": {},
     "output_type": "execute_result"
    }
   ],
   "source": [
    "cross_entropy(yhat, Y)"
   ]
  },
  {
   "cell_type": "markdown",
   "id": "737a5d4e-fc83-45df-a164-5b9a40b550b9",
   "metadata": {},
   "source": [
    "**Cross Entropy Implementation in Simpler Terms**\n",
    "\n",
    "Based on what's available on [D2L.ai](https://d2l.ai/chapter_linear-classification/softmax-regression.html#log-likelihood)\n",
    "\n",
    "![](https://i.imgur.com/ivCsEX6.png)"
   ]
  },
  {
   "cell_type": "code",
   "execution_count": 10,
   "id": "83e38a95-eb7f-4b60-ac0d-ef13d997eafd",
   "metadata": {},
   "outputs": [
    {
     "data": {
      "text/plain": [
       "tensor([[0.2068, 0.4164, 0.3768],\n",
       "        [0.3115, 0.3443, 0.3443],\n",
       "        [0.4718, 0.2120, 0.3162]])"
      ]
     },
     "execution_count": 10,
     "metadata": {},
     "output_type": "execute_result"
    }
   ],
   "source": [
    "yhat"
   ]
  },
  {
   "cell_type": "code",
   "execution_count": 11,
   "id": "82890283-f0de-4819-8d20-c46471ea8a97",
   "metadata": {},
   "outputs": [
    {
     "data": {
      "text/plain": [
       "tensor([[-1.5761, -0.8761, -0.9761],\n",
       "        [-1.1664, -1.0664, -1.0664],\n",
       "        [-0.7513, -1.5513, -1.1513]])"
      ]
     },
     "execution_count": 11,
     "metadata": {},
     "output_type": "execute_result"
    }
   ],
   "source": [
    "torch.log(yhat)"
   ]
  },
  {
   "cell_type": "code",
   "execution_count": 12,
   "id": "3a4ce2f6-48d4-4a7b-bf18-370803bf6518",
   "metadata": {},
   "outputs": [
    {
     "data": {
      "text/plain": [
       "tensor([[-0.0000, -0.8761, -0.0000],\n",
       "        [-1.1664, -0.0000, -0.0000],\n",
       "        [-0.0000, -0.0000, -1.1513]])"
      ]
     },
     "execution_count": 12,
     "metadata": {},
     "output_type": "execute_result"
    }
   ],
   "source": [
    "torch.log(yhat) * y_one_hot"
   ]
  },
  {
   "cell_type": "code",
   "execution_count": 13,
   "id": "f1a03448-374d-47ca-b954-1f551a1322fc",
   "metadata": {},
   "outputs": [
    {
     "data": {
      "text/plain": [
       "tensor([-0.8761, -1.1664, -1.1513])"
      ]
     },
     "execution_count": 13,
     "metadata": {},
     "output_type": "execute_result"
    }
   ],
   "source": [
    "(torch.log(yhat) * y_one_hot).sum(-1)"
   ]
  },
  {
   "cell_type": "code",
   "execution_count": 14,
   "id": "972241bd-ca01-497b-b04b-af39ca9122c7",
   "metadata": {},
   "outputs": [
    {
     "data": {
      "text/plain": [
       "tensor(1.0646)"
      ]
     },
     "execution_count": 14,
     "metadata": {},
     "output_type": "execute_result"
    }
   ],
   "source": [
    "(torch.log(yhat) * y_one_hot).sum(-1).mean() * -1"
   ]
  },
  {
   "cell_type": "code",
   "execution_count": 15,
   "id": "1a6339d9-b4cf-4f4c-9aa0-66c691d3a83f",
   "metadata": {},
   "outputs": [],
   "source": [
    "def calc_cross_entropy(yhat, targets):\n",
    "    return (torch.log(yhat) * targets).sum(-1).mean() * -1"
   ]
  },
  {
   "cell_type": "code",
   "execution_count": 16,
   "id": "198c0107-b64f-42e7-a253-8cccd5afceba",
   "metadata": {},
   "outputs": [
    {
     "data": {
      "text/plain": [
       "tensor(1.0646)"
      ]
     },
     "execution_count": 16,
     "metadata": {},
     "output_type": "execute_result"
    }
   ],
   "source": [
    "calc_cross_entropy(yhat, y_one_hot)"
   ]
  },
  {
   "cell_type": "code",
   "execution_count": null,
   "id": "3d95772c-342d-49fd-8521-fa52843470f2",
   "metadata": {},
   "outputs": [],
   "source": []
  }
 ],
 "metadata": {
  "kernelspec": {
   "display_name": "Python 3 (ipykernel)",
   "language": "python",
   "name": "python3"
  },
  "language_info": {
   "codemirror_mode": {
    "name": "ipython",
    "version": 3
   },
   "file_extension": ".py",
   "mimetype": "text/x-python",
   "name": "python",
   "nbconvert_exporter": "python",
   "pygments_lexer": "ipython3",
   "version": "3.8.12"
  }
 },
 "nbformat": 4,
 "nbformat_minor": 5
}
