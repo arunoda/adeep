{
 "cells": [
  {
   "cell_type": "code",
   "execution_count": 3,
   "id": "2d007a6a-d3d6-459b-b2ab-909cbc7da733",
   "metadata": {},
   "outputs": [],
   "source": [
    "import torch\n",
    "import torch.nn.functional as F"
   ]
  },
  {
   "cell_type": "markdown",
   "id": "13d9e92e-ab8e-4d41-89ea-52e445556034",
   "metadata": {},
   "source": [
    "## Softmax"
   ]
  },
  {
   "cell_type": "code",
   "execution_count": 20,
   "id": "5107e071-ddf5-4c77-9912-fa80e7fa15f0",
   "metadata": {},
   "outputs": [
    {
     "data": {
      "text/plain": [
       "tensor([0.2119, 0.5761, 0.2119])"
      ]
     },
     "execution_count": 20,
     "metadata": {},
     "output_type": "execute_result"
    }
   ],
   "source": [
    "data = torch.FloatTensor([1, 2, 1])\n",
    "F.softmax(data, dim=-1)"
   ]
  },
  {
   "cell_type": "code",
   "execution_count": 21,
   "id": "9d4ef568-b618-45fd-b826-f1ff5df4608c",
   "metadata": {},
   "outputs": [
    {
     "data": {
      "text/plain": [
       "tensor([[0.2119, 0.5761, 0.2119],\n",
       "        [0.0900, 0.2447, 0.6652]])"
      ]
     },
     "execution_count": 21,
     "metadata": {},
     "output_type": "execute_result"
    }
   ],
   "source": [
    "data = torch.FloatTensor([\n",
    "    [1, 2, 1],\n",
    "    [2, 3, 4]\n",
    "])\n",
    "F.softmax(data, dim=-1)"
   ]
  },
  {
   "cell_type": "code",
   "execution_count": 38,
   "id": "c2cc968e-45e3-4dad-92d4-d503ae968a52",
   "metadata": {},
   "outputs": [
    {
     "data": {
      "text/plain": [
       "tensor([0.2119, 0.5761, 0.2119])"
      ]
     },
     "execution_count": 38,
     "metadata": {},
     "output_type": "execute_result"
    }
   ],
   "source": [
    "# let implement a softmax function\n",
    "def calc_softmax(data, dim=-1):\n",
    "    e_data = torch.exp(data)\n",
    "    return e_data / torch.sum(e_data, dim=dim, keepdim=True)\n",
    "\n",
    "data = torch.FloatTensor([1, 2, 1])\n",
    "calc_softmax(data)"
   ]
  },
  {
   "cell_type": "code",
   "execution_count": 39,
   "id": "8d2f1e1e-8999-47bc-9b3f-e992be0ef4b9",
   "metadata": {},
   "outputs": [
    {
     "data": {
      "text/plain": [
       "tensor([[0.2119, 0.5761, 0.2119],\n",
       "        [0.0900, 0.2447, 0.6652]])"
      ]
     },
     "execution_count": 39,
     "metadata": {},
     "output_type": "execute_result"
    }
   ],
   "source": [
    "data = torch.FloatTensor([\n",
    "    [1, 2, 1],\n",
    "    [2, 3, 4]\n",
    "])\n",
    "calc_softmax(data)"
   ]
  },
  {
   "cell_type": "code",
   "execution_count": null,
   "id": "0267848a-250d-44c3-bb19-b2eb949ed9bd",
   "metadata": {},
   "outputs": [],
   "source": []
  }
 ],
 "metadata": {
  "kernelspec": {
   "display_name": "Python 3 (ipykernel)",
   "language": "python",
   "name": "python3"
  },
  "language_info": {
   "codemirror_mode": {
    "name": "ipython",
    "version": 3
   },
   "file_extension": ".py",
   "mimetype": "text/x-python",
   "name": "python",
   "nbconvert_exporter": "python",
   "pygments_lexer": "ipython3",
   "version": "3.8.12"
  }
 },
 "nbformat": 4,
 "nbformat_minor": 5
}
