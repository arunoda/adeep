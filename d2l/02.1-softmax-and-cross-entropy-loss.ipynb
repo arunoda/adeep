{
 "cells": [
  {
   "cell_type": "code",
   "execution_count": 1,
   "id": "2d007a6a-d3d6-459b-b2ab-909cbc7da733",
   "metadata": {},
   "outputs": [],
   "source": [
    "import torch\n",
    "import torch.nn.functional as F"
   ]
  },
  {
   "cell_type": "markdown",
   "id": "13d9e92e-ab8e-4d41-89ea-52e445556034",
   "metadata": {},
   "source": [
    "## Softmax\n",
    "\n",
    "With softmax we are trying to set the sum of all the classes equals to 1.0\n",
    "\n",
    "![](https://i.imgur.com/TfRJAtc.png)"
   ]
  },
  {
   "cell_type": "code",
   "execution_count": 2,
   "id": "5107e071-ddf5-4c77-9912-fa80e7fa15f0",
   "metadata": {},
   "outputs": [
    {
     "data": {
      "text/plain": [
       "tensor([0.2119, 0.5761, 0.2119])"
      ]
     },
     "execution_count": 2,
     "metadata": {},
     "output_type": "execute_result"
    }
   ],
   "source": [
    "data = torch.FloatTensor([1, 2, 1])\n",
    "F.softmax(data, dim=-1)"
   ]
  },
  {
   "cell_type": "code",
   "execution_count": 3,
   "id": "9d4ef568-b618-45fd-b826-f1ff5df4608c",
   "metadata": {},
   "outputs": [
    {
     "data": {
      "text/plain": [
       "tensor([[0.2119, 0.5761, 0.2119],\n",
       "        [0.0900, 0.2447, 0.6652]])"
      ]
     },
     "execution_count": 3,
     "metadata": {},
     "output_type": "execute_result"
    }
   ],
   "source": [
    "data = torch.FloatTensor([\n",
    "    [1, 2, 1],\n",
    "    [2, 3, 4]\n",
    "])\n",
    "F.softmax(data, dim=-1)"
   ]
  },
  {
   "cell_type": "code",
   "execution_count": 4,
   "id": "c2cc968e-45e3-4dad-92d4-d503ae968a52",
   "metadata": {},
   "outputs": [
    {
     "data": {
      "text/plain": [
       "tensor([0.2119, 0.5761, 0.2119])"
      ]
     },
     "execution_count": 4,
     "metadata": {},
     "output_type": "execute_result"
    }
   ],
   "source": [
    "# let implement a softmax function\n",
    "def calc_softmax(data, dim=-1):\n",
    "    e_data = torch.exp(data)\n",
    "    return e_data / torch.sum(e_data, dim=dim, keepdim=True)\n",
    "\n",
    "data = torch.FloatTensor([1, 2, 1])\n",
    "calc_softmax(data)"
   ]
  },
  {
   "cell_type": "code",
   "execution_count": 5,
   "id": "8d2f1e1e-8999-47bc-9b3f-e992be0ef4b9",
   "metadata": {},
   "outputs": [
    {
     "data": {
      "text/plain": [
       "tensor([[0.2119, 0.5761, 0.2119],\n",
       "        [0.0900, 0.2447, 0.6652]])"
      ]
     },
     "execution_count": 5,
     "metadata": {},
     "output_type": "execute_result"
    }
   ],
   "source": [
    "data = torch.FloatTensor([\n",
    "    [1, 2, 1],\n",
    "    [2, 3, 4]\n",
    "])\n",
    "calc_softmax(data)"
   ]
  },
  {
   "cell_type": "markdown",
   "id": "c9ccf25d-473f-4214-84f4-ea12ced99464",
   "metadata": {},
   "source": [
    "## Cross Entropy Loss\n",
    "\n",
    "Here's how we define this.\n",
    "\n",
    "![](https://i.imgur.com/244C1AF.png)\n",
    "\n",
    "here `y` is the one-hot-encoded version of the labels & other is the yhat which are the predictions. Usually, we need to use softmax before passing them to here."
   ]
  },
  {
   "cell_type": "code",
   "execution_count": 6,
   "id": "19d8d857-1842-4c64-bc84-683542684018",
   "metadata": {},
   "outputs": [
    {
     "data": {
      "text/plain": [
       "tensor([[0.1000, 0.8000, 0.7000],\n",
       "        [0.4000, 0.5000, 0.5000],\n",
       "        [0.9000, 0.1000, 0.5000]])"
      ]
     },
     "execution_count": 6,
     "metadata": {},
     "output_type": "execute_result"
    }
   ],
   "source": [
    "Y = torch.tensor([1, 0, 2])\n",
    "yhat = torch.FloatTensor([\n",
    "    [0.1, 0.8, 0.7],\n",
    "    [0.4, 0.5, 0.5],\n",
    "    [0.9, 0.1, 0.5]\n",
    "])\n",
    "yhat"
   ]
  },
  {
   "cell_type": "code",
   "execution_count": 7,
   "id": "6594a52e-9188-4a3d-891d-86d6c949c882",
   "metadata": {},
   "outputs": [
    {
     "data": {
      "text/plain": [
       "tensor([[0, 1, 0],\n",
       "        [1, 0, 0],\n",
       "        [0, 0, 1]])"
      ]
     },
     "execution_count": 7,
     "metadata": {},
     "output_type": "execute_result"
    }
   ],
   "source": [
    "y_one_hot = F.one_hot(Y, 3)\n",
    "y_one_hot"
   ]
  },
  {
   "cell_type": "code",
   "execution_count": 8,
   "id": "c4fa4a66-f84c-444b-8d6b-62a7da20bfc0",
   "metadata": {},
   "outputs": [
    {
     "data": {
      "text/plain": [
       "tensor(1.0646)"
      ]
     },
     "execution_count": 8,
     "metadata": {},
     "output_type": "execute_result"
    }
   ],
   "source": [
    "F.cross_entropy(yhat, Y)"
   ]
  },
  {
   "cell_type": "markdown",
   "id": "737a5d4e-fc83-45df-a164-5b9a40b550b9",
   "metadata": {},
   "source": [
    "**Cross Entropy Implementation in Simpler Terms**\n",
    "\n",
    "Based on what's available on [D2L.ai](https://d2l.ai/chapter_linear-classification/softmax-regression.html#log-likelihood)\n",
    "\n",
    "![](https://i.imgur.com/ivCsEX6.png)"
   ]
  },
  {
   "cell_type": "code",
   "execution_count": 9,
   "id": "83e38a95-eb7f-4b60-ac0d-ef13d997eafd",
   "metadata": {},
   "outputs": [
    {
     "data": {
      "text/plain": [
       "tensor([[0.1000, 0.8000, 0.7000],\n",
       "        [0.4000, 0.5000, 0.5000],\n",
       "        [0.9000, 0.1000, 0.5000]])"
      ]
     },
     "execution_count": 9,
     "metadata": {},
     "output_type": "execute_result"
    }
   ],
   "source": [
    "yhat"
   ]
  },
  {
   "cell_type": "code",
   "execution_count": 10,
   "id": "35bfa1c8-a73d-4e84-ba11-13f70fe83ed4",
   "metadata": {},
   "outputs": [
    {
     "data": {
      "text/plain": [
       "tensor([[0.2068, 0.4164, 0.3768],\n",
       "        [0.3115, 0.3443, 0.3443],\n",
       "        [0.4718, 0.2120, 0.3162]])"
      ]
     },
     "execution_count": 10,
     "metadata": {},
     "output_type": "execute_result"
    }
   ],
   "source": [
    "yhat_s = calc_softmax(yhat)\n",
    "yhat_s"
   ]
  },
  {
   "cell_type": "code",
   "execution_count": 11,
   "id": "82890283-f0de-4819-8d20-c46471ea8a97",
   "metadata": {},
   "outputs": [
    {
     "data": {
      "text/plain": [
       "tensor([[-1.5761, -0.8761, -0.9761],\n",
       "        [-1.1664, -1.0664, -1.0664],\n",
       "        [-0.7513, -1.5513, -1.1513]])"
      ]
     },
     "execution_count": 11,
     "metadata": {},
     "output_type": "execute_result"
    }
   ],
   "source": [
    "torch.log(yhat_s)"
   ]
  },
  {
   "cell_type": "code",
   "execution_count": 12,
   "id": "3a4ce2f6-48d4-4a7b-bf18-370803bf6518",
   "metadata": {},
   "outputs": [
    {
     "data": {
      "text/plain": [
       "tensor([[-0.0000, -0.8761, -0.0000],\n",
       "        [-1.1664, -0.0000, -0.0000],\n",
       "        [-0.0000, -0.0000, -1.1513]])"
      ]
     },
     "execution_count": 12,
     "metadata": {},
     "output_type": "execute_result"
    }
   ],
   "source": [
    "torch.log(yhat_s) * y_one_hot"
   ]
  },
  {
   "cell_type": "code",
   "execution_count": 13,
   "id": "f1a03448-374d-47ca-b954-1f551a1322fc",
   "metadata": {},
   "outputs": [
    {
     "data": {
      "text/plain": [
       "tensor([-0.8761, -1.1664, -1.1513])"
      ]
     },
     "execution_count": 13,
     "metadata": {},
     "output_type": "execute_result"
    }
   ],
   "source": [
    "(torch.log(yhat_s) * y_one_hot).sum(-1)"
   ]
  },
  {
   "cell_type": "code",
   "execution_count": 14,
   "id": "972241bd-ca01-497b-b04b-af39ca9122c7",
   "metadata": {},
   "outputs": [
    {
     "data": {
      "text/plain": [
       "tensor(1.0646)"
      ]
     },
     "execution_count": 14,
     "metadata": {},
     "output_type": "execute_result"
    }
   ],
   "source": [
    "(torch.log(yhat_s) * y_one_hot).sum(-1).mean() * -1"
   ]
  },
  {
   "cell_type": "code",
   "execution_count": 15,
   "id": "1a6339d9-b4cf-4f4c-9aa0-66c691d3a83f",
   "metadata": {},
   "outputs": [
    {
     "data": {
      "text/plain": [
       "tensor(1.0646)"
      ]
     },
     "execution_count": 15,
     "metadata": {},
     "output_type": "execute_result"
    }
   ],
   "source": [
    "def calc_cross_entropy(yhat, targets):\n",
    "    yhat_s = calc_softmax(yhat)\n",
    "    return (torch.log(yhat_s) * targets).sum(-1).mean() * -1\n",
    "\n",
    "calc_cross_entropy(yhat, y_one_hot)"
   ]
  },
  {
   "cell_type": "markdown",
   "id": "15dd9750-98ce-4f54-98a8-29e2eb288607",
   "metadata": {},
   "source": [
    "## Binary Cross Entropy Loss\n",
    "\n",
    "We can use this when there's only two categories or classes.\n",
    "\n",
    "![](https://i.imgur.com/4ZyPKzs.png)"
   ]
  },
  {
   "cell_type": "code",
   "execution_count": 16,
   "id": "ec386c22-fa42-4674-897e-10d62c96aa2c",
   "metadata": {},
   "outputs": [
    {
     "data": {
      "text/plain": [
       "tensor(0.)"
      ]
     },
     "execution_count": 16,
     "metadata": {},
     "output_type": "execute_result"
    }
   ],
   "source": [
    "yhat_b = torch.FloatTensor([0, 1])\n",
    "target_b = torch.FloatTensor([0, 1])\n",
    "F.binary_cross_entropy(yhat_b, target_b, reduction=\"mean\")"
   ]
  },
  {
   "cell_type": "markdown",
   "id": "98890615-ba73-4560-b3ba-9b5b02f91db0",
   "metadata": {},
   "source": [
    "If the values are the same, the loss in 0."
   ]
  },
  {
   "cell_type": "code",
   "execution_count": 17,
   "id": "b5af0f58-835c-4339-a3fc-9f056684738b",
   "metadata": {},
   "outputs": [
    {
     "data": {
      "text/plain": [
       "tensor(100.)"
      ]
     },
     "execution_count": 17,
     "metadata": {},
     "output_type": "execute_result"
    }
   ],
   "source": [
    "yhat_b = torch.FloatTensor([1.0, 0])\n",
    "target_b = torch.FloatTensor([0, 1])\n",
    "F.binary_cross_entropy(yhat_b, target_b, reduction=\"mean\")"
   ]
  },
  {
   "cell_type": "markdown",
   "id": "76dcca22-1898-44dd-a26c-9b4a17b4d28c",
   "metadata": {},
   "source": [
    "Otherwise the loss in 100."
   ]
  },
  {
   "cell_type": "code",
   "execution_count": 18,
   "id": "61571215-50d3-4dc0-850e-87634bf52805",
   "metadata": {},
   "outputs": [
    {
     "data": {
      "text/plain": [
       "tensor(0.1166)"
      ]
     },
     "execution_count": 18,
     "metadata": {},
     "output_type": "execute_result"
    }
   ],
   "source": [
    "yhat_b = torch.FloatTensor([0.2, 0.99])\n",
    "target_b = torch.FloatTensor([0, 1])\n",
    "F.binary_cross_entropy(yhat_b, target_b, reduction=\"mean\")"
   ]
  },
  {
   "cell_type": "markdown",
   "id": "f271c364-b9e1-4c30-9ec7-d8be0b54b4d9",
   "metadata": {},
   "source": [
    "In between values results in something in between."
   ]
  },
  {
   "cell_type": "markdown",
   "id": "72c7e2fd-4b72-422a-b0c0-1509f97b955d",
   "metadata": {},
   "source": [
    "### Let's Implemen this Our Selves.\n",
    "\n",
    "\n",
    "**Making Safe Log**\n",
    "\n",
    "ln(0) is -inf.\n",
    "That's not helpful in our case.\n",
    "\n",
    "So, here's how we define a safe log function which sets the maximum value to somewhere around -500.\n",
    "\n",
    "Basically that's similar to giving something like log(0.000000001)"
   ]
  },
  {
   "cell_type": "code",
   "execution_count": 19,
   "id": "1fac8f2d-1538-4bf1-adb2-63f9750969ea",
   "metadata": {},
   "outputs": [],
   "source": [
    "def safe_log(k):\n",
    "    return torch.maximum(torch.log(k), torch.tensor(-500))"
   ]
  },
  {
   "cell_type": "code",
   "execution_count": 20,
   "id": "651542de-a912-439e-9276-6ecab3d26c34",
   "metadata": {},
   "outputs": [],
   "source": [
    "def calc_binary_cross_entropy(yhat, targets):    \n",
    "    loss =  safe_log(yhat) * (targets) + safe_log(1.0 - yhat) * (1.0 - targets) \n",
    "    return loss.mean() * -1"
   ]
  },
  {
   "cell_type": "code",
   "execution_count": 21,
   "id": "bbb4c3ac-dc34-43e1-8cc5-3f3e172f3445",
   "metadata": {},
   "outputs": [
    {
     "data": {
      "text/plain": [
       "tensor(-0.)"
      ]
     },
     "execution_count": 21,
     "metadata": {},
     "output_type": "execute_result"
    }
   ],
   "source": [
    "yhat_b = torch.FloatTensor([0, 1])\n",
    "target_b = torch.FloatTensor([0, 1])\n",
    "calc_binary_cross_entropy(yhat_b, target_b)"
   ]
  },
  {
   "cell_type": "code",
   "execution_count": 22,
   "id": "2aafc15a-b9c8-482d-9254-b07f734fb7d6",
   "metadata": {},
   "outputs": [
    {
     "data": {
      "text/plain": [
       "tensor(500.)"
      ]
     },
     "execution_count": 22,
     "metadata": {},
     "output_type": "execute_result"
    }
   ],
   "source": [
    "yhat_b = torch.FloatTensor([1.0, 0])\n",
    "target_b = torch.FloatTensor([0, 1])\n",
    "calc_binary_cross_entropy(yhat_b, target_b)"
   ]
  },
  {
   "cell_type": "code",
   "execution_count": 23,
   "id": "41c2161a-b63e-4d8c-b9c4-58a5f9128030",
   "metadata": {},
   "outputs": [
    {
     "data": {
      "text/plain": [
       "tensor(0.1166)"
      ]
     },
     "execution_count": 23,
     "metadata": {},
     "output_type": "execute_result"
    }
   ],
   "source": [
    "yhat_b = torch.FloatTensor([0.2, 0.99])\n",
    "target_b = torch.FloatTensor([0, 1])\n",
    "calc_binary_cross_entropy(yhat_b, target_b)"
   ]
  },
  {
   "cell_type": "markdown",
   "id": "213654ca-605b-4c56-b895-0e238c81b76f",
   "metadata": {},
   "source": [
    "Here we got 500 instead of 100 in the Pytorch's version. That's because of the -500 value we choose for the safe log."
   ]
  },
  {
   "cell_type": "code",
   "execution_count": null,
   "id": "0edf0942-e08f-40b3-9afb-13d531548922",
   "metadata": {},
   "outputs": [],
   "source": []
  }
 ],
 "metadata": {
  "kernelspec": {
   "display_name": "Python 3 (ipykernel)",
   "language": "python",
   "name": "python3"
  },
  "language_info": {
   "codemirror_mode": {
    "name": "ipython",
    "version": 3
   },
   "file_extension": ".py",
   "mimetype": "text/x-python",
   "name": "python",
   "nbconvert_exporter": "python",
   "pygments_lexer": "ipython3",
   "version": "3.8.12"
  }
 },
 "nbformat": 4,
 "nbformat_minor": 5
}
