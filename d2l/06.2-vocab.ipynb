{
 "cells": [
  {
   "cell_type": "markdown",
   "id": "8fabb955-ec86-4cf3-bef5-0a53ffa5ea2e",
   "metadata": {},
   "source": [
    "# Vocab / Tokenizer\n",
    "\n",
    "Building a Vocab & bring in some sample data"
   ]
  },
  {
   "cell_type": "code",
   "execution_count": 1,
   "id": "a2ccbeda-1e2b-461c-8dc8-99ea4d10bef9",
   "metadata": {},
   "outputs": [
    {
     "name": "stdout",
     "output_type": "stream",
     "text": [
      "\u001b[33mWARNING: Running pip as the 'root' user can result in broken permissions and conflicting behaviour with the system package manager. It is recommended to use a virtual environment instead: https://pip.pypa.io/warnings/venv\u001b[0m\u001b[33m\n",
      "\u001b[0m"
     ]
    }
   ],
   "source": [
    "!pip install -q d2l==1.0.0-alpha1.post0"
   ]
  },
  {
   "cell_type": "code",
   "execution_count": 2,
   "id": "3c03520f-6e22-4a72-a7ef-640536c1d00d",
   "metadata": {},
   "outputs": [],
   "source": [
    "import torch\n",
    "from d2l import torch as d2l\n",
    "import re\n",
    "from matplotlib import pyplot as plt\n",
    "import numpy as np"
   ]
  },
  {
   "cell_type": "code",
   "execution_count": 3,
   "id": "79850b64-f681-4a7c-80d2-8c1b802487cc",
   "metadata": {},
   "outputs": [
    {
     "data": {
      "text/plain": [
       "'The Time Machine, by H. G. Wel'"
      ]
     },
     "execution_count": 3,
     "metadata": {},
     "output_type": "execute_result"
    }
   ],
   "source": [
    "class TimeMachine(d2l.DataModule): #@save\n",
    "    def _download(self):\n",
    "        fname = d2l.download(d2l.DATA_URL + 'timemachine.txt', self.root,\n",
    "                             '090b5e7e70c295757f55df93cb0a180b9691891a')\n",
    "        with open(fname) as f:\n",
    "            return f.read()\n",
    "\n",
    "data = TimeMachine()\n",
    "raw_text = data._download()\n",
    "raw_text[0:30]"
   ]
  },
  {
   "cell_type": "code",
   "execution_count": 4,
   "id": "59c446a2-91ac-4648-8fba-81440aa0ced8",
   "metadata": {},
   "outputs": [
    {
     "data": {
      "text/plain": [
       "{'sss': 20}"
      ]
     },
     "execution_count": 4,
     "metadata": {},
     "output_type": "execute_result"
    }
   ],
   "source": [
    "aa = {}\n",
    "aa[\"sss\"] = 20\n",
    "aa"
   ]
  },
  {
   "cell_type": "code",
   "execution_count": 17,
   "id": "9b5497c9-f042-458a-adae-c7b5cc319203",
   "metadata": {},
   "outputs": [
    {
     "data": {
      "text/plain": [
       "32775"
      ]
     },
     "execution_count": 17,
     "metadata": {},
     "output_type": "execute_result"
    }
   ],
   "source": [
    "class Vocab:\n",
    "    def __init__(self):\n",
    "        self.tokens = []\n",
    "        self.token_to_id = {}\n",
    "        self.token_freq = {}\n",
    "        \n",
    "        self._process_word(\"<unk>\")\n",
    "        \n",
    "    def to_id(self, word):\n",
    "        if word in self.token_to_id:\n",
    "            return self.token_to_id[word]\n",
    "        else:\n",
    "            return self.token_to_id[\"<unk>\"]\n",
    "        \n",
    "    def to_token(self, id):\n",
    "        if id < len(self.tokens):\n",
    "            return self.tokens[id]\n",
    "        else:\n",
    "            return self.tokens[0]\n",
    "    \n",
    "    def _process_word(self, word):\n",
    "        idx = 0\n",
    "        if word in self.token_to_id:\n",
    "            idx = self.token_to_id[word]\n",
    "            self.token_freq[idx] += 1;\n",
    "        else:\n",
    "            self.tokens.append(word)\n",
    "            idx = len(self.tokens) - 1\n",
    "            self.token_to_id[word] = idx\n",
    "            self.token_freq[idx] = 1\n",
    "            \n",
    "        return idx\n",
    "            \n",
    "    def tokenize(self, text):\n",
    "        cleaned = re.sub('[^A-Za-z]+', ' ', text).lower().strip()\n",
    "        return cleaned.split(\" \")\n",
    "        \n",
    "    def build(self, text):\n",
    "        corpus = [self._process_word(word) for word in self.tokenize(text)]\n",
    "        self.token_freq = dict(sorted(self.token_freq.items(), key=lambda item: item[1], reverse=True))\n",
    "        return corpus\n",
    "    \n",
    "    \n",
    "vocab = Vocab()\n",
    "corpus = vocab.build(raw_text)\n",
    "len(corpus)"
   ]
  },
  {
   "cell_type": "markdown",
   "id": "0a163983-920d-4c4c-aeec-61ad91bfe6c5",
   "metadata": {},
   "source": [
    "## Usage"
   ]
  },
  {
   "cell_type": "code",
   "execution_count": 18,
   "id": "139c9998-858d-404d-a65b-140d657702c9",
   "metadata": {},
   "outputs": [
    {
     "data": {
      "text/plain": [
       "['i', 'am', 'done']"
      ]
     },
     "execution_count": 18,
     "metadata": {},
     "output_type": "execute_result"
    }
   ],
   "source": [
    "# token some set of text\n",
    "tokens = vocab.tokenize(\"I am done.\")\n",
    "tokens"
   ]
  },
  {
   "cell_type": "code",
   "execution_count": 19,
   "id": "fcf30285-b525-4273-9039-36b27e4a32f3",
   "metadata": {},
   "outputs": [
    {
     "data": {
      "text/plain": [
       "[8, 451, 401]"
      ]
     },
     "execution_count": 19,
     "metadata": {},
     "output_type": "execute_result"
    }
   ],
   "source": [
    "# convert these tokens into ids\n",
    "ids = [vocab.to_id(token) for token in tokens]\n",
    "ids"
   ]
  },
  {
   "cell_type": "code",
   "execution_count": 20,
   "id": "23616c3b-cf27-44f8-8199-c0f3c425f10d",
   "metadata": {},
   "outputs": [
    {
     "data": {
      "text/plain": [
       "'i am done'"
      ]
     },
     "execution_count": 20,
     "metadata": {},
     "output_type": "execute_result"
    }
   ],
   "source": [
    "# convert ids back to tokens\n",
    "\" \".join([vocab.to_token(id) for id in ids])"
   ]
  },
  {
   "cell_type": "markdown",
   "id": "a7faf42f-870a-45fe-af96-5d5b72c1c942",
   "metadata": {},
   "source": [
    "## Stats"
   ]
  },
  {
   "cell_type": "code",
   "execution_count": 21,
   "id": "12c5546a-1db9-4bad-a26d-33f289c2e328",
   "metadata": {},
   "outputs": [
    {
     "data": {
      "text/plain": [
       "['the', 'i', 'and', 'of', 'a', 'to', 'was', 'in', 'that', 'my']"
      ]
     },
     "execution_count": 21,
     "metadata": {},
     "output_type": "execute_result"
    }
   ],
   "source": [
    "## most used words\n",
    "most_ids = list(vocab.token_freq.keys())[0:10]\n",
    "[vocab.to_token(id) for id in most_ids]"
   ]
  },
  {
   "cell_type": "code",
   "execution_count": 10,
   "id": "d0685e13-a3b5-4ff8-8568-09ea89fbc256",
   "metadata": {},
   "outputs": [
    {
     "data": {
      "text/plain": [
       "[<matplotlib.lines.Line2D at 0x7f0cacf5e220>]"
      ]
     },
     "execution_count": 10,
     "metadata": {},
     "output_type": "execute_result"
    },
    {
     "data": {
      "image/png": "[encoded data removed]",
      "text/plain": [
       "<Figure size 432x288 with 1 Axes>"
      ]
     },
     "metadata": {
      "needs_background": "light"
     },
     "output_type": "display_data"
    }
   ],
   "source": [
    "## graphing these\n",
    "X = range(0, len(vocab.token_freq))\n",
    "Y = vocab.token_freq.values()\n",
    "plt.plot(X, Y)"
   ]
  },
  {
   "cell_type": "code",
   "execution_count": 11,
   "id": "c63aaa53-9268-46cf-95e9-67d46edac0b7",
   "metadata": {},
   "outputs": [
    {
     "name": "stderr",
     "output_type": "stream",
     "text": [
      "<ipython-input-11-2230a5e616ce>:2: RuntimeWarning: divide by zero encountered in log\n",
      "  plt.plot(np.log(X), Y)\n"
     ]
    },
    {
     "data": {
      "text/plain": [
       "[<matplotlib.lines.Line2D at 0x7f0cace8faf0>]"
      ]
     },
     "execution_count": 11,
     "metadata": {},
     "output_type": "execute_result"
    },
    {
     "data": {
      "image/png": "[encoded data removed]",
      "text/plain": [
       "<Figure size 432x288 with 1 Axes>"
      ]
     },
     "metadata": {
      "needs_background": "light"
     },
     "output_type": "display_data"
    }
   ],
   "source": [
    "# Let's show X items in the log scale\n",
    "plt.plot(np.log(X), Y)"
   ]
  },
  {
   "cell_type": "markdown",
   "id": "182c2067-75af-4994-a5d9-8a72f85e9463",
   "metadata": {},
   "source": []
  }
 ],
 "metadata": {
  "kernelspec": {
   "display_name": "Python 3",
   "language": "python",
   "name": "python3"
  },
  "language_info": {
   "codemirror_mode": {
    "name": "ipython",
    "version": 3
   },
   "file_extension": ".py",
   "mimetype": "text/x-python",
   "name": "python",
   "nbconvert_exporter": "python",
   "pygments_lexer": "ipython3",
   "version": "3.8.12"
  }
 },
 "nbformat": 4,
 "nbformat_minor": 5
}
