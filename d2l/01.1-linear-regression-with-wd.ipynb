{
 "cells": [
  {
   "cell_type": "markdown",
   "metadata": {},
   "source": [
    "# Linear Regression with iPython Notebook"
   ]
  },
  {
   "cell_type": "code",
   "execution_count": 31,
   "metadata": {},
   "outputs": [],
   "source": [
    "import torch\n",
    "from matplotlib import pyplot as plt"
   ]
  },
  {
   "cell_type": "markdown",
   "metadata": {},
   "source": [
    "## Create the Data"
   ]
  },
  {
   "cell_type": "code",
   "execution_count": 32,
   "metadata": {},
   "outputs": [],
   "source": [
    "n_samples = 100\n",
    "weights, bias = torch.rand(1), 0.3\n",
    "X = torch.randn(n_samples, 1)\n",
    "noise = torch.randn(n_samples) * 0.15\n",
    "Y = X@weights + bias + noise"
   ]
  },
  {
   "cell_type": "code",
   "execution_count": 33,
   "metadata": {},
   "outputs": [
    {
     "data": {
      "text/plain": [
       "<matplotlib.collections.PathCollection at 0x1999a18fca0>"
      ]
     },
     "execution_count": 33,
     "metadata": {},
     "output_type": "execute_result"
    },
    {
     "data": {
      "image/png": "[encoded data removed]",
      "text/plain": [
       "<Figure size 432x288 with 1 Axes>"
      ]
     },
     "metadata": {
      "needs_background": "light"
     },
     "output_type": "display_data"
    }
   ],
   "source": [
    "plt.scatter(X, Y, s=2)"
   ]
  },
  {
   "cell_type": "markdown",
   "metadata": {},
   "source": [
    "## Find a Line which matches these values"
   ]
  },
  {
   "cell_type": "code",
   "execution_count": 34,
   "metadata": {},
   "outputs": [],
   "source": [
    "pred_weights, pred_bias = torch.ones(1), torch.tensor(0.0)\n",
    "pred_y = X*pred_weights + pred_bias"
   ]
  },
  {
   "cell_type": "code",
   "execution_count": 35,
   "metadata": {},
   "outputs": [
    {
     "data": {
      "text/plain": [
       "<matplotlib.collections.PathCollection at 0x1999a1f3af0>"
      ]
     },
     "execution_count": 35,
     "metadata": {},
     "output_type": "execute_result"
    },
    {
     "data": {
      "image/png": "[encoded data removed]",
      "text/plain": [
       "<Figure size 432x288 with 1 Axes>"
      ]
     },
     "metadata": {
      "needs_background": "light"
     },
     "output_type": "display_data"
    }
   ],
   "source": [
    "plt.scatter(X, Y, s=2, c=\"gray\")\n",
    "plt.scatter(X, pred_y, c=\"red\", s=2)"
   ]
  },
  {
   "cell_type": "markdown",
   "metadata": {},
   "source": [
    "So, our goal is to find a `weights` and `bias` values which minimize the loss."
   ]
  },
  {
   "cell_type": "markdown",
   "metadata": {},
   "source": [
    "## Loss\n",
    "\n",
    "Loss is a single value for the difference between the actual & the prediction. Let's use a something called, mean squared error."
   ]
  },
  {
   "cell_type": "code",
   "execution_count": 36,
   "metadata": {},
   "outputs": [
    {
     "data": {
      "text/plain": [
       "tensor(1.1188)"
      ]
     },
     "execution_count": 36,
     "metadata": {},
     "output_type": "execute_result"
    }
   ],
   "source": [
    "def mse_loss(Y, y_pred):\n",
    "    return ((Y-y_pred)**2).mean()\n",
    "\n",
    "mse_loss(Y, pred_y)"
   ]
  },
  {
   "cell_type": "markdown",
   "metadata": {},
   "source": [
    "## Gradient Descent\n",
    "\n",
    "We can use the SGD loop to find it."
   ]
  },
  {
   "cell_type": "code",
   "execution_count": 37,
   "metadata": {},
   "outputs": [
    {
     "data": {
      "text/plain": [
       "[<matplotlib.lines.Line2D at 0x1999a2a13a0>]"
      ]
     },
     "execution_count": 37,
     "metadata": {},
     "output_type": "execute_result"
    },
    {
     "data": {
      "image/png": "[encoded data removed]",
      "text/plain": [
       "<Figure size 864x288 with 2 Axes>"
      ]
     },
     "metadata": {
      "needs_background": "light"
     },
     "output_type": "display_data"
    }
   ],
   "source": [
    "pred_weights.requires_grad_()\n",
    "pred_bias.requires_grad_()\n",
    "\n",
    "lr = 0.05\n",
    "\n",
    "losses = []\n",
    "\n",
    "for i in range(50):\n",
    "    if pred_weights.grad is not None:\n",
    "      pred_weights.grad.zero_()\n",
    "      pred_bias.grad.zero_()\n",
    "\n",
    "    pred_y = X@pred_weights + pred_bias\n",
    "    loss = mse_loss(Y, pred_y)\n",
    "    loss.backward()\n",
    "\n",
    "    losses.append(loss.item())\n",
    "\n",
    "    with torch.no_grad():\n",
    "      pred_weights -= pred_weights.grad * lr\n",
    "      pred_bias -= pred_bias.grad * lr\n",
    "\n",
    "_, ax = plt.subplots(1, 2, figsize=(12, 4))\n",
    "ax[0].scatter(X, Y, s=2, c=\"gray\")\n",
    "ax[0].scatter(X, pred_y.detach().cpu(), c=\"red\", s=2)\n",
    "\n",
    "ax[1].plot(losses)"
   ]
  },
  {
   "cell_type": "markdown",
   "metadata": {},
   "source": [
    "## Train & Validation Set"
   ]
  },
  {
   "cell_type": "markdown",
   "metadata": {},
   "source": []
  }
 ],
 "metadata": {
  "kernelspec": {
   "display_name": "Python 3.8.13 ('deep')",
   "language": "python",
   "name": "python3"
  },
  "language_info": {
   "codemirror_mode": {
    "name": "ipython",
    "version": 3
   },
   "file_extension": ".py",
   "mimetype": "text/x-python",
   "name": "python",
   "nbconvert_exporter": "python",
   "pygments_lexer": "ipython3",
   "version": "3.8.13"
  },
  "orig_nbformat": 4,
  "vscode": {
   "interpreter": {
    "hash": "2bd94e04779b766e1f80220c957f595f04961b3d9f718fbf0125f626d63e9d91"
   }
  }
 },
 "nbformat": 4,
 "nbformat_minor": 2
}
