{
 "cells": [
  {
   "cell_type": "markdown",
   "id": "69d43f32-6db3-4dfc-adbd-31223b3fbe62",
   "metadata": {},
   "source": [
    "# Using the Glove Embeddings\n",
    "\n",
    "Here we try to use the Glove Embeddings rather than using the OneHot Encoding.\n",
    "\n",
    "Also, we will have a look at cosine similarity too."
   ]
  },
  {
   "cell_type": "markdown",
   "id": "674df483-2d7b-482e-9cdc-ce825ff08a90",
   "metadata": {},
   "source": [
    "## Downloading pre-trained glove embeddings"
   ]
  },
  {
   "cell_type": "code",
   "execution_count": 1,
   "id": "a64aa31c-5b6e-4482-ba6c-135296021a72",
   "metadata": {},
   "outputs": [],
   "source": [
    "# !cd ~/data && wget https://huggingface.co/stanfordnlp/glove/resolve/main/glove.6B.zip\n",
    "# !cd ~/data && unzip glove.6B.zip"
   ]
  },
  {
   "cell_type": "code",
   "execution_count": 2,
   "id": "25136014-e7e5-445c-8a00-2a9bffd132d4",
   "metadata": {},
   "outputs": [],
   "source": [
    "from pathlib import Path\n",
    "import torch"
   ]
  },
  {
   "cell_type": "code",
   "execution_count": 3,
   "id": "73c67d9f-85d1-4d94-8752-d62e294255c0",
   "metadata": {},
   "outputs": [],
   "source": [
    "glove_path = Path.home()/\"data\"/\"glove.6B.50d.txt\""
   ]
  },
  {
   "cell_type": "code",
   "execution_count": 4,
   "id": "c624b196-1c58-45fb-90b4-5a5e3c03289d",
   "metadata": {},
   "outputs": [
    {
     "name": "stdout",
     "output_type": "stream",
     "text": [
      "the 0.418 0.24968 -0.41242 0.1217 0.34527 -0.044457 -0.49688 -0.17862 -0.00066023 -0.6566 0.27843 -0.14767 -0.55677 0.14658 -0.0095095 0.011658 0.10204 -0.12792 -0.8443 -0.12181 -0.016801 -0.33279 -0.1552 -0.23131 -0.19181 -1.8823 -0.76746 0.099051 -0.42125 -0.19526 4.0071 -0.18594 -0.52287 -0.31681 0.00059213 0.0074449 0.17778 -0.15897 0.012041 -0.054223 -0.29871 -0.15749 -0.34758 -0.045637 -0.44251 0.18785 0.0027849 -0.18411 -0.11514 -0.78581\n",
      ", 0.013441 0.23682 -0.16899 0.40951 0.63812 0.47709 -0.42852 -0.55641 -0.364 -0.23938 0.13001 -0.063734 -0.39575 -0.48162 0.23291 0.090201 -0.13324 0.078639 -0.41634 -0.15428 0.10068 0.48891 0.31226 -0.1252 -0.037512 -1.5179 0.12612 -0.02442 -0.042961 -0.28351 3.5416 -0.11956 -0.014533 -0.1499 0.21864 -0.33412 -0.13872 0.31806 0.70358 0.44858 -0.080262 0.63003 0.32111 -0.46765 0.22786 0.36034 -0.37818 -0.56657 0.044691 0.30392\n"
     ]
    }
   ],
   "source": [
    "!head {glove_path} -n 2"
   ]
  },
  {
   "cell_type": "code",
   "execution_count": 5,
   "id": "648bdba4-36cb-4ad0-aec5-8f917b230dbe",
   "metadata": {},
   "outputs": [
    {
     "data": {
      "text/plain": [
       "400001"
      ]
     },
     "execution_count": 5,
     "metadata": {},
     "output_type": "execute_result"
    }
   ],
   "source": [
    "aa = !wc {glove_path}\n",
    "n_words = int(aa[0].strip().split()[0])\n",
    "n_words"
   ]
  },
  {
   "cell_type": "markdown",
   "id": "8cd47dc1-e7e7-4edf-941b-35ac5d318463",
   "metadata": {},
   "source": [
    "## Loading glove into PyTorch"
   ]
  },
  {
   "cell_type": "code",
   "execution_count": 6,
   "id": "f1d45b7e-b26e-426f-bbe9-3d142ac004b9",
   "metadata": {},
   "outputs": [],
   "source": [
    "words = []\n",
    "word2idx = {}\n",
    "embs = torch.zeros(n_words, 50)\n",
    "n_line = 0\n",
    "with open(glove_path, 'rb') as f:\n",
    "    for l in f:\n",
    "        line = l.decode().split()\n",
    "        word = line[0]\n",
    "        emb = [float(i) for i in line[1:]]\n",
    "        embs[n_line] = torch.FloatTensor(emb)\n",
    "        word2idx[word] = n_line\n",
    "        words.append(word)\n",
    "        n_line += 1"
   ]
  },
  {
   "cell_type": "code",
   "execution_count": 7,
   "id": "b86029cf-6cf7-49a3-a3f7-fe80c5f1430a",
   "metadata": {},
   "outputs": [],
   "source": [
    "from lib.glove import GloveEmbeddings\n",
    "# class GloveEmbeddings(torch.nn.Module):\n",
    "#     def __init__(self, words, word2idx, embs):\n",
    "#         super().__init__()\n",
    "#         self.words = words\n",
    "#         self.word2idx = word2idx\n",
    "#         self.embs = embs\n",
    "        \n",
    "#     def to_id(self, word):\n",
    "#         if word in self.words:\n",
    "#             return self.word2idx[word]\n",
    "#         else:\n",
    "#             return self.word2idx['<unk>']\n",
    "        \n",
    "#     def to_token(self, id):\n",
    "#         return self.words[id]\n",
    "        \n",
    "#     def forward(self, idx_list):\n",
    "#         device = idx_list.device\n",
    "#         embs = [self.embs[id].to(device) for id in idx_list]\n",
    "#         return torch.stack(embs)\n",
    "    \n",
    "#     def make(self, input, device=\"cpu\"):\n",
    "#         curr_words = input.strip().lower().split()\n",
    "#         token_ids = [self.to_id(word) for word in curr_words]\n",
    "#         result = self.forward(torch.tensor(token_ids).to(device))\n",
    "        \n",
    "#         return result\n",
    "    \n",
    "#     def make_one(self, input, device=\"cpu\"):\n",
    "#         curr_words = input.strip().lower().split()\n",
    "#         token_id  = self.to_id(curr_words[0])\n",
    "#         result = self.forward(torch.tensor([token_id]).to(device))\n",
    "        \n",
    "#         return result.reshape(-1)\n",
    "        \n",
    "        \n",
    "# g = GloveEmbeddings(words, word2idx, embs)"
   ]
  },
  {
   "cell_type": "code",
   "execution_count": 8,
   "id": "19021a0f-c3a0-4324-8ee7-f8131f39b4fa",
   "metadata": {},
   "outputs": [],
   "source": [
    "g = GloveEmbeddings(words, word2idx, embs)"
   ]
  },
  {
   "cell_type": "code",
   "execution_count": 9,
   "id": "11d5f212-ff79-4bd0-84d4-daa832eaf904",
   "metadata": {},
   "outputs": [
    {
     "data": {
      "text/plain": [
       "torch.Size([50])"
      ]
     },
     "execution_count": 9,
     "metadata": {},
     "output_type": "execute_result"
    }
   ],
   "source": [
    "g.make_one(\"the\").shape"
   ]
  },
  {
   "cell_type": "code",
   "execution_count": 10,
   "id": "ded4d781-0cd3-41dd-876f-0cf193c0c0e1",
   "metadata": {},
   "outputs": [
    {
     "data": {
      "text/plain": [
       "torch.Size([3, 50])"
      ]
     },
     "execution_count": 10,
     "metadata": {},
     "output_type": "execute_result"
    }
   ],
   "source": [
    "g.make(\"This is srilanka\").shape"
   ]
  },
  {
   "cell_type": "markdown",
   "id": "aeb78d60-a3a3-48b9-9a37-6e07880ccdcf",
   "metadata": {},
   "source": [
    "## Comparing Word Embeddings\n",
    "\n",
    "Here we use the cosine similarity of the embeddings. Basically that's the dot product of normalized embeddings.\n",
    "\n",
    "![](https://i.imgur.com/2nQ4nud.png)"
   ]
  },
  {
   "cell_type": "code",
   "execution_count": 11,
   "id": "aa4caaf7-2e01-4e99-9586-a41da76f5ed5",
   "metadata": {},
   "outputs": [],
   "source": [
    "def cosine_sim(a, b):\n",
    "    norm_a = torch.linalg.norm(a)\n",
    "    norm_b = torch.linalg.norm(b)\n",
    "    return a.dot(b) / (norm_a * norm_b)"
   ]
  },
  {
   "cell_type": "markdown",
   "id": "9825a991-9fe8-4991-acf9-01dc5d151c24",
   "metadata": {},
   "source": [
    "### Let's try some"
   ]
  },
  {
   "cell_type": "code",
   "execution_count": 12,
   "id": "1061b8fb-2868-4ab3-b299-66cda29b7f39",
   "metadata": {},
   "outputs": [
    {
     "data": {
      "text/plain": [
       "tensor(1.)"
      ]
     },
     "execution_count": 12,
     "metadata": {},
     "output_type": "execute_result"
    }
   ],
   "source": [
    "cosine_sim(g.make_one(\"india\"), g.make_one(\"india\"))"
   ]
  },
  {
   "cell_type": "code",
   "execution_count": 13,
   "id": "83fd0d7e-f5b1-471b-beb0-2498e2ff9c92",
   "metadata": {},
   "outputs": [
    {
     "data": {
      "text/plain": [
       "tensor(0.2476)"
      ]
     },
     "execution_count": 13,
     "metadata": {},
     "output_type": "execute_result"
    }
   ],
   "source": [
    "cosine_sim(g.make_one(\"india\"), g.make_one(\"srilanka\"))"
   ]
  },
  {
   "cell_type": "code",
   "execution_count": 14,
   "id": "64150367-9387-4e0f-ad59-f5e1f1e6cb5c",
   "metadata": {},
   "outputs": [
    {
     "data": {
      "text/plain": [
       "tensor(0.8530)"
      ]
     },
     "execution_count": 14,
     "metadata": {},
     "output_type": "execute_result"
    }
   ],
   "source": [
    "cosine_sim(g.make_one(\"india\"), g.make_one(\"pakistan\"))"
   ]
  },
  {
   "cell_type": "code",
   "execution_count": 15,
   "id": "928137ee-189f-4237-b182-ca8c69eb101b",
   "metadata": {},
   "outputs": [
    {
     "data": {
      "text/plain": [
       "tensor(0.3199)"
      ]
     },
     "execution_count": 15,
     "metadata": {},
     "output_type": "execute_result"
    }
   ],
   "source": [
    "cosine_sim(g.make_one(\"india\"), g.make_one(\"usa\"))"
   ]
  },
  {
   "cell_type": "code",
   "execution_count": 16,
   "id": "6fa7efea-5d84-4efc-8a43-4dc692f3446c",
   "metadata": {},
   "outputs": [
    {
     "data": {
      "text/plain": [
       "tensor(0.4013)"
      ]
     },
     "execution_count": 16,
     "metadata": {},
     "output_type": "execute_result"
    }
   ],
   "source": [
    "cosine_sim(g.make_one(\"jam\"), g.make_one(\"butter\"))"
   ]
  },
  {
   "cell_type": "code",
   "execution_count": 17,
   "id": "1ee1845b-082c-4c38-8d9d-ad8147540940",
   "metadata": {},
   "outputs": [
    {
     "data": {
      "text/plain": [
       "tensor(0.0224)"
      ]
     },
     "execution_count": 17,
     "metadata": {},
     "output_type": "execute_result"
    }
   ],
   "source": [
    "cosine_sim(g.make_one(\"colombo\"), g.make_one(\"usa\"))"
   ]
  },
  {
   "cell_type": "markdown",
   "id": "593d139f-35f3-4268-8c5e-e0982e9da62a",
   "metadata": {},
   "source": [
    "### We can try the difference of these embeddings as well"
   ]
  },
  {
   "cell_type": "code",
   "execution_count": 18,
   "id": "b3167f4d-9ca3-4806-8a8a-3e6aca83ebf8",
   "metadata": {},
   "outputs": [
    {
     "data": {
      "text/plain": [
       "tensor(0.6959)"
      ]
     },
     "execution_count": 18,
     "metadata": {},
     "output_type": "execute_result"
    }
   ],
   "source": [
    "cosine_sim(g.make_one(\"delhi\") - g.make_one(\"india\"), g.make_one(\"paris\") - g.make_one(\"france\"))"
   ]
  },
  {
   "cell_type": "markdown",
   "id": "c0d862a2-a15b-4d31-adfc-3ff7ddb3b28e",
   "metadata": {},
   "source": [
    "See. They are quite similar."
   ]
  },
  {
   "cell_type": "code",
   "execution_count": 19,
   "id": "32e6a579-f94e-4238-8e06-a48388c63968",
   "metadata": {},
   "outputs": [
    {
     "data": {
      "text/plain": [
       "tensor(0.1494)"
      ]
     },
     "execution_count": 19,
     "metadata": {},
     "output_type": "execute_result"
    }
   ],
   "source": [
    "cosine_sim(g.make_one(\"delhi\") - g.make_one(\"india\"), g.make_one(\"paris\") - g.make_one(\"jam\"))"
   ]
  },
  {
   "cell_type": "markdown",
   "id": "3ccc4b62-93f6-4c24-836d-033b46ceb33a",
   "metadata": {},
   "source": [
    "But not above."
   ]
  },
  {
   "cell_type": "code",
   "execution_count": 20,
   "id": "bb072d1d-ad16-4582-9b90-af21a624bd06",
   "metadata": {},
   "outputs": [
    {
     "data": {
      "text/plain": [
       "tensor(-0.6959)"
      ]
     },
     "execution_count": 20,
     "metadata": {},
     "output_type": "execute_result"
    }
   ],
   "source": [
    "cosine_sim(g.make_one(\"delhi\") - g.make_one(\"india\"), g.make_one(\"france\") - g.make_one(\"paris\"))"
   ]
  },
  {
   "cell_type": "markdown",
   "id": "15053cf4-e4bb-4ed7-8fa5-34ce74bb274d",
   "metadata": {},
   "source": [
    "In this case, we reverse the order in \"france-paris\", so it gave us the negative similarity.\n",
    "Which makes sense."
   ]
  },
  {
   "cell_type": "markdown",
   "id": "33bffb18-a74e-4dea-b7f3-7f9b9afb3226",
   "metadata": {},
   "source": [
    "## Dump it to a Pickel Object"
   ]
  },
  {
   "cell_type": "code",
   "execution_count": 22,
   "id": "7f571f1c-d6e7-4b25-a3af-b4fd3a749a0b",
   "metadata": {},
   "outputs": [
    {
     "name": "stdout",
     "output_type": "stream",
     "text": [
      "glove embeddings object saved to: /home/data/glove.pkl\n"
     ]
    }
   ],
   "source": [
    "import pickle\n",
    "output_path = Path.home()/\"data\"/\"glove.pkl\"\n",
    "filehandler = open(output_path, 'wb') \n",
    "pickle.dump(g, filehandler)\n",
    "print(f\"glove embeddings object saved to: {output_path}\")"
   ]
  },
  {
   "cell_type": "code",
   "execution_count": null,
   "id": "680d6f3e-8b26-4cd0-be69-9ddc26e90cda",
   "metadata": {},
   "outputs": [],
   "source": []
  }
 ],
 "metadata": {
  "kernelspec": {
   "display_name": "Python 3",
   "language": "python",
   "name": "python3"
  },
  "language_info": {
   "codemirror_mode": {
    "name": "ipython",
    "version": 3
   },
   "file_extension": ".py",
   "mimetype": "text/x-python",
   "name": "python",
   "nbconvert_exporter": "python",
   "pygments_lexer": "ipython3",
   "version": "3.8.12"
  }
 },
 "nbformat": 4,
 "nbformat_minor": 5
}
