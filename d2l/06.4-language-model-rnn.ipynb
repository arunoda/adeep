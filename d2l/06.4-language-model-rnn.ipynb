{
 "cells": [
  {
   "cell_type": "markdown",
   "id": "676124e8-0880-4bd9-89b8-abb2b41a0e2f",
   "metadata": {},
   "source": [
    "# Language Model RNN\n",
    "\n",
    "Here's an RNN for a Language model. Here's how it looks like:\n",
    "\n",
    "![](https://i.imgur.com/dowTmun.png)"
   ]
  },
  {
   "cell_type": "code",
   "execution_count": 1,
   "id": "5ca75298-6d95-4ba7-8366-0a4a2fbbfeaf",
   "metadata": {},
   "outputs": [],
   "source": [
    "import torch\n",
    "import torch.nn as nn\n",
    "import torch.nn.functional as F"
   ]
  },
  {
   "cell_type": "code",
   "execution_count": 63,
   "id": "e5c7dba3-8a1d-40e4-a33c-896c8235d6b3",
   "metadata": {},
   "outputs": [
    {
     "name": "stdout",
     "output_type": "stream",
     "text": [
      "Cloning into 'imitools'...\n",
      "remote: Enumerating objects: 122, done.\u001b[K\n",
      "remote: Counting objects: 100% (122/122), done.\u001b[K\n",
      "remote: Compressing objects: 100% (97/97), done.\u001b[K\n",
      "remote: Total 122 (delta 64), reused 33 (delta 15), pack-reused 0\u001b[K\n",
      "Receiving objects: 100% (122/122), 5.78 MiB | 6.25 MiB/s, done.\n",
      "Resolving deltas: 100% (64/64), done.\n",
      "\u001b[31mERROR: pip's dependency resolver does not currently take into account all the packages that are installed. This behaviour is the source of the following dependency conflicts.\n",
      "torchtext 0.12.0a0 requires torch==1.11.0a0+17540c5, but you have torch 1.13.0 which is incompatible.\n",
      "dask-cudf 21.12.0a0+293.g0930f712e6 requires pandas<1.4.0dev0,>=1.0, but you have pandas 1.5.2 which is incompatible.\u001b[0m\u001b[31m\n",
      "\u001b[0m\u001b[33mWARNING: Running pip as the 'root' user can result in broken permissions and conflicting behaviour with the system package manager. It is recommended to use a virtual environment instead: https://pip.pypa.io/warnings/venv\u001b[0m\u001b[33m\n",
      "\u001b[0m"
     ]
    }
   ],
   "source": [
    "!rm -rf ./imitools && git clone https://github.com/GDi4K/imitools.git\n",
    "!pip install -q duckduckgo_search"
   ]
  },
  {
   "cell_type": "code",
   "execution_count": 64,
   "id": "38de7ae0-6f15-493c-9f3b-5170adc170f2",
   "metadata": {},
   "outputs": [],
   "source": [
    "import imitools as I"
   ]
  },
  {
   "cell_type": "code",
   "execution_count": 116,
   "id": "e952e55d-bd2f-4594-a51d-80c52c4ce45b",
   "metadata": {},
   "outputs": [],
   "source": [
    "class LRNN(nn.Module):\n",
    "    def __init__(self, n_tokens, n_hidden, n_out, apply_softmax=True):\n",
    "        super().__init__()\n",
    "        self.n_tokens = n_tokens\n",
    "        self.n_hidden = n_hidden\n",
    "        self.n_out = n_out\n",
    "        self.apply_softmax = apply_softmax\n",
    "        \n",
    "        self.f_hidden = nn.Linear(n_tokens + n_hidden, n_hidden)\n",
    "        self.f_out = nn.Linear(n_tokens + n_hidden, n_out)\n",
    "        \n",
    "    def forward(self, token_oh, hidden):\n",
    "        combined = torch.cat([token_oh, hidden], dim=1)\n",
    "        hidden = torch.tanh(self.f_hidden(combined))\n",
    "        output = torch.sigmoid(self.f_out(combined))\n",
    "        if self.apply_softmax:\n",
    "            output = F.softmax(output, dim=-1)\n",
    "        return output, hidden        \n",
    "        \n",
    "    def train(self, time_batch):\n",
    "        bs, timesteps, n_tokens = time_batch.shape\n",
    "        hidden = torch.zeros(bs, self.n_hidden, device=time_batch.device)\n",
    "        output_list = []\n",
    "        \n",
    "        for t in range(timesteps):\n",
    "            # here batch contains a list of one hot encoded tokens for a different set of inputs\n",
    "            batch = time_batch[:, t]\n",
    "            output, hidden = self.forward(batch, hidden)\n",
    "            output_list.append(output)\n",
    "            \n",
    "        return torch.stack(output_list, dim=1)"
   ]
  },
  {
   "cell_type": "markdown",
   "id": "bf92162c-cbcd-4a6f-aa68-6fb57b8e5838",
   "metadata": {},
   "source": [
    "## Training"
   ]
  },
  {
   "cell_type": "code",
   "execution_count": 103,
   "id": "bad357bc-f977-4331-abef-44e97c31f1ff",
   "metadata": {},
   "outputs": [
    {
     "data": {
      "text/plain": [
       "(torch.Size([2, 3, 10]),\n",
       " tensor([[[0, 0, 1, 0, 0, 0, 0, 0, 0, 0],\n",
       "          [0, 0, 0, 0, 0, 0, 0, 0, 0, 1],\n",
       "          [0, 0, 0, 0, 0, 0, 0, 0, 1, 0]],\n",
       " \n",
       "         [[0, 0, 0, 0, 0, 0, 0, 0, 1, 0],\n",
       "          [0, 1, 0, 0, 0, 0, 0, 0, 0, 0],\n",
       "          [0, 0, 0, 1, 0, 0, 0, 0, 0, 0]]]))"
      ]
     },
     "execution_count": 103,
     "metadata": {},
     "output_type": "execute_result"
    }
   ],
   "source": [
    "bs = 2\n",
    "n_tokens = 10\n",
    "timesteps = 3\n",
    "\n",
    "input = torch.LongTensor([\n",
    "    [2, 9, 8],\n",
    "    [8, 1, 3]\n",
    "])\n",
    "input_oh = F.one_hot(input, n_tokens)\n",
    "input_oh.shape, input_oh"
   ]
  },
  {
   "cell_type": "code",
   "execution_count": 106,
   "id": "bd9ce20f-d6e5-4e01-857c-28f184e45268",
   "metadata": {},
   "outputs": [
    {
     "data": {
      "text/plain": [
       "(torch.Size([2, 3, 10]),\n",
       " tensor([[[0.1008, 0.1006, 0.1027, 0.1014, 0.1000, 0.0992, 0.0994, 0.0980,\n",
       "           0.0981, 0.0998],\n",
       "          [0.1010, 0.0988, 0.1022, 0.1024, 0.0992, 0.1022, 0.0974, 0.0960,\n",
       "           0.1010, 0.0998],\n",
       "          [0.1004, 0.1018, 0.1039, 0.1025, 0.0986, 0.0988, 0.0994, 0.0971,\n",
       "           0.0983, 0.0991]],\n",
       " \n",
       "         [[0.0996, 0.1009, 0.1039, 0.1023, 0.0986, 0.1006, 0.0989, 0.0975,\n",
       "           0.0984, 0.0993],\n",
       "          [0.1009, 0.1013, 0.1032, 0.1015, 0.1009, 0.1003, 0.0978, 0.0978,\n",
       "           0.0978, 0.0985],\n",
       "          [0.1004, 0.0998, 0.1031, 0.1024, 0.0983, 0.1011, 0.0993, 0.0969,\n",
       "           0.1003, 0.0985]]], grad_fn=<StackBackward0>))"
      ]
     },
     "execution_count": 106,
     "metadata": {},
     "output_type": "execute_result"
    }
   ],
   "source": [
    "model = LRNN(n_tokens=n_tokens, n_hidden=100, n_out=n_tokens)\n",
    "output_oh = model.train(input_oh)\n",
    "output_oh.shape, output_oh"
   ]
  },
  {
   "cell_type": "code",
   "execution_count": 5,
   "id": "4273692e-c07c-4026-96de-1886c7453288",
   "metadata": {},
   "outputs": [
    {
     "data": {
      "text/plain": [
       "torch.Size([2, 3])"
      ]
     },
     "execution_count": 5,
     "metadata": {},
     "output_type": "execute_result"
    }
   ],
   "source": [
    "output = torch.argmax(output_oh, dim=2)\n",
    "output.shape"
   ]
  },
  {
   "cell_type": "markdown",
   "id": "c0f46fc7-684d-4aa8-9926-e4110bc1fc6e",
   "metadata": {},
   "source": [
    "## Predicting / Generating"
   ]
  },
  {
   "cell_type": "code",
   "execution_count": 6,
   "id": "633ca555-3870-487f-8d49-6ec34a2de494",
   "metadata": {},
   "outputs": [
    {
     "data": {
      "text/plain": [
       "tensor([0, 1])"
      ]
     },
     "execution_count": 6,
     "metadata": {},
     "output_type": "execute_result"
    }
   ],
   "source": [
    "F.one_hot(torch.tensor(1))"
   ]
  },
  {
   "cell_type": "code",
   "execution_count": 84,
   "id": "a258065e-2348-46c2-82e7-d836a0334dce",
   "metadata": {},
   "outputs": [
    {
     "data": {
      "text/plain": [
       "tensor([2, 1, 1, 1, 1, 1, 1, 1, 1, 1, 1])"
      ]
     },
     "execution_count": 84,
     "metadata": {},
     "output_type": "execute_result"
    }
   ],
   "source": [
    "def generate(model, start_word, timesteps=10, device=device):\n",
    "    hidden = torch.zeros(1, model.n_hidden).to(device)\n",
    "    output = F.one_hot(torch.tensor(start_word), model.n_tokens).reshape(1, -1).to(device)\n",
    "    output_words = [start_word]\n",
    "    \n",
    "    for t in range(timesteps):\n",
    "        with torch.no_grad():\n",
    "            output, hidden = model(output, hidden)\n",
    "            output_words.append(torch.argmax(output, dim=1).item())\n",
    "        \n",
    "    return torch.tensor(output_words)\n",
    "\n",
    "generate(model, 2)"
   ]
  },
  {
   "cell_type": "markdown",
   "id": "3978d83c-2ebd-439c-b0c4-de90c0fc5751",
   "metadata": {},
   "source": [
    "## Training with Real Dataset"
   ]
  },
  {
   "cell_type": "code",
   "execution_count": 9,
   "id": "c5cd0bba-b9b2-4400-8415-3f493586db8d",
   "metadata": {},
   "outputs": [
    {
     "name": "stdout",
     "output_type": "stream",
     "text": [
      "\u001b[33mWARNING: Running pip as the 'root' user can result in broken permissions and conflicting behaviour with the system package manager. It is recommended to use a virtual environment instead: https://pip.pypa.io/warnings/venv\u001b[0m\u001b[33m\n",
      "\u001b[0m"
     ]
    }
   ],
   "source": [
    "!pip install -q d2l==1.0.0-alpha1.post0"
   ]
  },
  {
   "cell_type": "code",
   "execution_count": 59,
   "id": "aa7cd1cf-9e97-4f34-a937-f63700ab6e3e",
   "metadata": {},
   "outputs": [],
   "source": [
    "from d2l import torch as d2l\n",
    "import re\n",
    "import numpy as np\n",
    "from tqdm.notebook import tqdm\n",
    "from matplotlib import pyplot as plt"
   ]
  },
  {
   "cell_type": "code",
   "execution_count": 11,
   "id": "234b7162-b1d3-4693-82ae-7716a1adfbb8",
   "metadata": {},
   "outputs": [],
   "source": [
    "class TimeMachine(d2l.DataModule): #@save\n",
    "    def _download(self):\n",
    "        fname = d2l.download(d2l.DATA_URL + 'timemachine.txt', self.root,\n",
    "                             '090b5e7e70c295757f55df93cb0a180b9691891a')\n",
    "        with open(fname) as f:\n",
    "            return f.read()\n",
    "\n",
    "data = TimeMachine()\n",
    "raw_text = data._download()"
   ]
  },
  {
   "cell_type": "code",
   "execution_count": 12,
   "id": "3f9436f2-fa8b-4443-adc1-af15b3a5cc9c",
   "metadata": {},
   "outputs": [],
   "source": [
    "class Vocab:\n",
    "    def __init__(self):\n",
    "        self.tokens = []\n",
    "        self.token_to_id = {}\n",
    "        self.token_freq = {}\n",
    "        \n",
    "        self._process_word(\"<unk>\")\n",
    "        \n",
    "    def to_id(self, word):\n",
    "        if word in self.token_to_id:\n",
    "            return self.token_to_id[word]\n",
    "        else:\n",
    "            return self.token_to_id[\"<unk>\"]\n",
    "        \n",
    "    def to_token(self, id):\n",
    "        if id < len(self.tokens):\n",
    "            return self.tokens[id]\n",
    "        else:\n",
    "            return self.tokens[0]\n",
    "    \n",
    "    def _process_word(self, word):\n",
    "        idx = 0\n",
    "        if word in self.token_to_id:\n",
    "            idx = self.token_to_id[word]\n",
    "            self.token_freq[idx] += 1;\n",
    "        else:\n",
    "            self.tokens.append(word)\n",
    "            idx = len(self.tokens) - 1\n",
    "            self.token_to_id[word] = idx\n",
    "            self.token_freq[idx] = 1\n",
    "            \n",
    "        return idx\n",
    "            \n",
    "    def tokenize(self, text):\n",
    "        cleaned = re.sub('[^A-Za-z]+', ' ', text).lower().strip()\n",
    "        return cleaned.split(\" \")\n",
    "        \n",
    "    def build(self, text):\n",
    "        corpus = [self._process_word(word) for word in self.tokenize(text)]\n",
    "        self.token_freq = dict(sorted(self.token_freq.items(), key=lambda item: item[1], reverse=True))\n",
    "        return corpus\n",
    "    \n",
    "    \n",
    "vocab = Vocab()\n",
    "corpus = vocab.build(raw_text)"
   ]
  },
  {
   "cell_type": "code",
   "execution_count": 19,
   "id": "af5d0460-7061-4e60-bbcf-07c91a755beb",
   "metadata": {},
   "outputs": [
    {
     "data": {
      "text/plain": [
       "(32764,\n",
       " (tensor([  30,   22, 4571, 2325,  415, 1239,  118,   44,    1, 2876]),\n",
       "  tensor([  22, 4571, 2325,  415, 1239,  118,   44,    1, 2876,   18])))"
      ]
     },
     "execution_count": 19,
     "metadata": {},
     "output_type": "execute_result"
    }
   ],
   "source": [
    "class LanguageDataset(torch.utils.data.Dataset):\n",
    "    def __init__(self, corpus, segment_len):\n",
    "        self.corpus = corpus\n",
    "        self.segment_len = segment_len\n",
    "        self.total_segments = len(corpus) - segment_len - 1\n",
    "    \n",
    "        self.input_list = []\n",
    "        self.output_list = []\n",
    "        for i in range(self.total_segments):\n",
    "            self.input_list.append(corpus[i: i + segment_len])\n",
    "            self.output_list.append(corpus[i + 1: i + 1 + segment_len])\n",
    "        \n",
    "    def __len__(self):\n",
    "        return self.total_segments\n",
    "    \n",
    "    def __getitem__(self, i):\n",
    "        return (torch.tensor(self.input_list[i]), torch.tensor(self.output_list[i]))"
   ]
  },
  {
   "cell_type": "markdown",
   "id": "f73879e1-234b-4ade-b44e-da58a37641b7",
   "metadata": {},
   "source": [
    "### Setup Variables"
   ]
  },
  {
   "cell_type": "code",
   "execution_count": 108,
   "id": "0af8fce6-5dcd-47e0-8bd7-fe5b474f2536",
   "metadata": {},
   "outputs": [],
   "source": [
    "n_tokens = len(vocab.tokens)\n",
    "timesteps = 10\n",
    "n_hidden = 100\n",
    "dataset = LanguageDataset(corpus, segment_len=timesteps)"
   ]
  },
  {
   "cell_type": "markdown",
   "id": "6a96dd07-40d7-43f7-8894-ecf95e25fc02",
   "metadata": {},
   "source": [
    "### Try Out a Sample"
   ]
  },
  {
   "cell_type": "code",
   "execution_count": 109,
   "id": "74a64f77-7d55-437e-9a26-1974d972a465",
   "metadata": {},
   "outputs": [
    {
     "data": {
      "text/plain": [
       "torch.Size([2, 10, 4580])"
      ]
     },
     "execution_count": 109,
     "metadata": {},
     "output_type": "execute_result"
    }
   ],
   "source": [
    "sample_batch = next(iter(torch.utils.data.DataLoader(dataset, batch_size=2)))\n",
    "sample_input = F.one_hot(sample_batch[0], n_tokens)\n",
    "\n",
    "sample_model = LRNN(n_tokens=n_tokens, n_hidden=n_hidden, n_out=n_tokens)\n",
    "sample_model.train(sample_input).shape"
   ]
  },
  {
   "cell_type": "markdown",
   "id": "5660150f-ce8e-4541-a7bd-426158608f90",
   "metadata": {},
   "source": [
    "### Training for Real"
   ]
  },
  {
   "cell_type": "code",
   "execution_count": 87,
   "id": "7d0dc0e4-5c17-4209-bd1e-bfade4a7c129",
   "metadata": {},
   "outputs": [],
   "source": [
    "device = \"cuda\""
   ]
  },
  {
   "cell_type": "code",
   "execution_count": 117,
   "id": "11b93d06-1068-4af9-ba53-226b70fc5c1d",
   "metadata": {},
   "outputs": [
    {
     "data": {
      "image/png": "[encoded data removed]",
      "text/plain": [
       "<Figure size 1440x360 with 2 Axes>"
      ]
     },
     "metadata": {},
     "output_type": "display_data"
    },
    {
     "data": {
      "application/json": {
       "ascii": false,
       "bar_format": null,
       "colour": null,
       "elapsed": 0.017894744873046875,
       "initial": 0,
       "n": 0,
       "ncols": null,
       "nrows": null,
       "postfix": null,
       "prefix": "",
       "rate": null,
       "total": 10,
       "unit": "it",
       "unit_divisor": 1000,
       "unit_scale": false
      },
      "application/vnd.jupyter.widget-view+json": {
       "model_id": "ed091faabc30482b90375d8eeb4811eb",
       "version_major": 2,
       "version_minor": 0
      },
      "text/plain": [
       "  0%|          | 0/10 [00:00<?, ?it/s]"
      ]
     },
     "metadata": {},
     "output_type": "display_data"
    },
    {
     "data": {
      "application/json": {
       "ascii": false,
       "bar_format": null,
       "colour": null,
       "elapsed": 0.01734638214111328,
       "initial": 0,
       "n": 0,
       "ncols": null,
       "nrows": null,
       "postfix": null,
       "prefix": "",
       "rate": null,
       "total": 2048,
       "unit": "it",
       "unit_divisor": 1000,
       "unit_scale": false
      },
      "application/vnd.jupyter.widget-view+json": {
       "model_id": "f7542dd0ab0e4e9684bd3b8d30f6d153",
       "version_major": 2,
       "version_minor": 0
      },
      "text/plain": [
       "  0%|          | 0/2048 [00:00<?, ?it/s]"
      ]
     },
     "metadata": {},
     "output_type": "display_data"
    },
    {
     "data": {
      "application/json": {
       "ascii": false,
       "bar_format": null,
       "colour": null,
       "elapsed": 0.024876832962036133,
       "initial": 0,
       "n": 0,
       "ncols": null,
       "nrows": null,
       "postfix": null,
       "prefix": "",
       "rate": null,
       "total": 2048,
       "unit": "it",
       "unit_divisor": 1000,
       "unit_scale": false
      },
      "application/vnd.jupyter.widget-view+json": {
       "model_id": "ae01492083c94d1bb6921c5ef0bb89a7",
       "version_major": 2,
       "version_minor": 0
      },
      "text/plain": [
       "  0%|          | 0/2048 [00:00<?, ?it/s]"
      ]
     },
     "metadata": {},
     "output_type": "display_data"
    },
    {
     "data": {
      "application/json": {
       "ascii": false,
       "bar_format": null,
       "colour": null,
       "elapsed": 0.0252687931060791,
       "initial": 0,
       "n": 0,
       "ncols": null,
       "nrows": null,
       "postfix": null,
       "prefix": "",
       "rate": null,
       "total": 2048,
       "unit": "it",
       "unit_divisor": 1000,
       "unit_scale": false
      },
      "application/vnd.jupyter.widget-view+json": {
       "model_id": "db073f0234df4093b84b682f4c9cb2bf",
       "version_major": 2,
       "version_minor": 0
      },
      "text/plain": [
       "  0%|          | 0/2048 [00:00<?, ?it/s]"
      ]
     },
     "metadata": {},
     "output_type": "display_data"
    },
    {
     "data": {
      "application/json": {
       "ascii": false,
       "bar_format": null,
       "colour": null,
       "elapsed": 0.02551579475402832,
       "initial": 0,
       "n": 0,
       "ncols": null,
       "nrows": null,
       "postfix": null,
       "prefix": "",
       "rate": null,
       "total": 2048,
       "unit": "it",
       "unit_divisor": 1000,
       "unit_scale": false
      },
      "application/vnd.jupyter.widget-view+json": {
       "model_id": "7a41e6a0c2a849e7a1de829a9c2bc6fa",
       "version_major": 2,
       "version_minor": 0
      },
      "text/plain": [
       "  0%|          | 0/2048 [00:00<?, ?it/s]"
      ]
     },
     "metadata": {},
     "output_type": "display_data"
    },
    {
     "data": {
      "application/json": {
       "ascii": false,
       "bar_format": null,
       "colour": null,
       "elapsed": 0.025333642959594727,
       "initial": 0,
       "n": 0,
       "ncols": null,
       "nrows": null,
       "postfix": null,
       "prefix": "",
       "rate": null,
       "total": 2048,
       "unit": "it",
       "unit_divisor": 1000,
       "unit_scale": false
      },
      "application/vnd.jupyter.widget-view+json": {
       "model_id": "1625b169e26c418e907be2aa8d2b653f",
       "version_major": 2,
       "version_minor": 0
      },
      "text/plain": [
       "  0%|          | 0/2048 [00:00<?, ?it/s]"
      ]
     },
     "metadata": {},
     "output_type": "display_data"
    },
    {
     "data": {
      "application/json": {
       "ascii": false,
       "bar_format": null,
       "colour": null,
       "elapsed": 0.02449488639831543,
       "initial": 0,
       "n": 0,
       "ncols": null,
       "nrows": null,
       "postfix": null,
       "prefix": "",
       "rate": null,
       "total": 2048,
       "unit": "it",
       "unit_divisor": 1000,
       "unit_scale": false
      },
      "application/vnd.jupyter.widget-view+json": {
       "model_id": "f0618abb28f04f47a7998d874a7627db",
       "version_major": 2,
       "version_minor": 0
      },
      "text/plain": [
       "  0%|          | 0/2048 [00:00<?, ?it/s]"
      ]
     },
     "metadata": {},
     "output_type": "display_data"
    },
    {
     "data": {
      "application/json": {
       "ascii": false,
       "bar_format": null,
       "colour": null,
       "elapsed": 0.018987178802490234,
       "initial": 0,
       "n": 0,
       "ncols": null,
       "nrows": null,
       "postfix": null,
       "prefix": "",
       "rate": null,
       "total": 2048,
       "unit": "it",
       "unit_divisor": 1000,
       "unit_scale": false
      },
      "application/vnd.jupyter.widget-view+json": {
       "model_id": "f456cff9ceab476c877ba37a76f5f949",
       "version_major": 2,
       "version_minor": 0
      },
      "text/plain": [
       "  0%|          | 0/2048 [00:00<?, ?it/s]"
      ]
     },
     "metadata": {},
     "output_type": "display_data"
    },
    {
     "data": {
      "application/json": {
       "ascii": false,
       "bar_format": null,
       "colour": null,
       "elapsed": 0.019132375717163086,
       "initial": 0,
       "n": 0,
       "ncols": null,
       "nrows": null,
       "postfix": null,
       "prefix": "",
       "rate": null,
       "total": 2048,
       "unit": "it",
       "unit_divisor": 1000,
       "unit_scale": false
      },
      "application/vnd.jupyter.widget-view+json": {
       "model_id": "256be8d631bd465883f9f469f2baa601",
       "version_major": 2,
       "version_minor": 0
      },
      "text/plain": [
       "  0%|          | 0/2048 [00:00<?, ?it/s]"
      ]
     },
     "metadata": {},
     "output_type": "display_data"
    },
    {
     "data": {
      "application/json": {
       "ascii": false,
       "bar_format": null,
       "colour": null,
       "elapsed": 0.02491021156311035,
       "initial": 0,
       "n": 0,
       "ncols": null,
       "nrows": null,
       "postfix": null,
       "prefix": "",
       "rate": null,
       "total": 2048,
       "unit": "it",
       "unit_divisor": 1000,
       "unit_scale": false
      },
      "application/vnd.jupyter.widget-view+json": {
       "model_id": "bd3196be15d94a8981d8c13a73794ca9",
       "version_major": 2,
       "version_minor": 0
      },
      "text/plain": [
       "  0%|          | 0/2048 [00:00<?, ?it/s]"
      ]
     },
     "metadata": {},
     "output_type": "display_data"
    },
    {
     "data": {
      "application/json": {
       "ascii": false,
       "bar_format": null,
       "colour": null,
       "elapsed": 0.019365549087524414,
       "initial": 0,
       "n": 0,
       "ncols": null,
       "nrows": null,
       "postfix": null,
       "prefix": "",
       "rate": null,
       "total": 2048,
       "unit": "it",
       "unit_divisor": 1000,
       "unit_scale": false
      },
      "application/vnd.jupyter.widget-view+json": {
       "model_id": "583cf488d92841fc98d62acc121af023",
       "version_major": 2,
       "version_minor": 0
      },
      "text/plain": [
       "  0%|          | 0/2048 [00:00<?, ?it/s]"
      ]
     },
     "metadata": {},
     "output_type": "display_data"
    }
   ],
   "source": [
    "epochs = 10\n",
    "bs = 16\n",
    "lr = 0.01\n",
    "\n",
    "model = LRNN(n_tokens=n_tokens, n_hidden=1000, n_out=n_tokens, apply_softmax=False).to(device)\n",
    "optimizer = torch.optim.SGD(model.parameters(), lr=lr)\n",
    "calc_loss = nn.CrossEntropyLoss()\n",
    "\n",
    "dataloader = torch.utils.data.DataLoader(dataset, batch_size=bs, shuffle=True)\n",
    "\n",
    "losses = []\n",
    "lp = I.live_plot(2)\n",
    "i = 0\n",
    "\n",
    "for epoch in tqdm(range(epochs)):\n",
    "    for batch in tqdm(dataloader):\n",
    "        optimizer.zero_grad()\n",
    "        \n",
    "        inputs = F.one_hot(batch[0], n_tokens).to(device)\n",
    "        targets = batch[1].to(device)\n",
    "        \n",
    "        yhat = model.train(inputs)\n",
    "        \n",
    "        loss = 0\n",
    "        for t in range(timesteps):  \n",
    "            loss += calc_loss(yhat[:, t], targets[:, t])\n",
    "        loss = loss.mean()\n",
    "        \n",
    "        with torch.no_grad():\n",
    "            loss.backward()\n",
    "            optimizer.step()\n",
    "        \n",
    "        i += 1\n",
    "        if i % 200 == 0:\n",
    "            losses.append(loss.item())\n",
    "            lp.plot(0, losses)\n",
    "            lp.update()\n",
    "        \n",
    "lp.close()"
   ]
  },
  {
   "cell_type": "markdown",
   "id": "eebee40f-127b-4360-a563-c3b3fc9455b2",
   "metadata": {},
   "source": [
    "**It's not training that well. Or may be, we need a much complex model.**"
   ]
  },
  {
   "cell_type": "markdown",
   "id": "88c771c2-4eb8-4144-a842-b54dbf1deb0b",
   "metadata": {},
   "source": [
    "### Let's try to generate some "
   ]
  },
  {
   "cell_type": "code",
   "execution_count": 123,
   "id": "5eabbaf1-c345-4744-b065-06b1eaee3ce0",
   "metadata": {},
   "outputs": [
    {
     "data": {
      "text/plain": [
       "94"
      ]
     },
     "execution_count": 123,
     "metadata": {},
     "output_type": "execute_result"
    }
   ],
   "source": [
    "vocab.to_id(\"you\")"
   ]
  },
  {
   "cell_type": "code",
   "execution_count": 124,
   "id": "a6281705-6fff-43ea-84e1-eda6b120acb4",
   "metadata": {},
   "outputs": [
    {
     "data": {
      "text/plain": [
       "tensor([94,  1,  1,  1,  1,  1,  1,  1,  1,  1,  1])"
      ]
     },
     "execution_count": 124,
     "metadata": {},
     "output_type": "execute_result"
    }
   ],
   "source": [
    "generate(model, 94)"
   ]
  },
  {
   "cell_type": "code",
   "execution_count": 125,
   "id": "beec599b-792e-422e-9629-f064b28c6b4f",
   "metadata": {},
   "outputs": [
    {
     "data": {
      "text/plain": [
       "'the'"
      ]
     },
     "execution_count": 125,
     "metadata": {},
     "output_type": "execute_result"
    }
   ],
   "source": [
    "vocab.to_token(1)"
   ]
  },
  {
   "cell_type": "markdown",
   "id": "7579a6d7-58d5-4228-a555-13a278809406",
   "metadata": {},
   "source": [
    "**Yep. It's not trained at all**"
   ]
  },
  {
   "cell_type": "code",
   "execution_count": null,
   "id": "87e8902f-2a43-4373-9ed8-cc504f1af23d",
   "metadata": {},
   "outputs": [],
   "source": []
  }
 ],
 "metadata": {
  "kernelspec": {
   "display_name": "Python 3",
   "language": "python",
   "name": "python3"
  },
  "language_info": {
   "codemirror_mode": {
    "name": "ipython",
    "version": 3
   },
   "file_extension": ".py",
   "mimetype": "text/x-python",
   "name": "python",
   "nbconvert_exporter": "python",
   "pygments_lexer": "ipython3",
   "version": "3.8.12"
  }
 },
 "nbformat": 4,
 "nbformat_minor": 5
}
