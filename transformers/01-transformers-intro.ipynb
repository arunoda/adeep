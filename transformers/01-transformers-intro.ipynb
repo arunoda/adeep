{
 "cells": [
  {
   "cell_type": "markdown",
   "id": "449bd424-86e7-41b6-a970-f4279935ace2",
   "metadata": {},
   "source": [
    "# Intro + Demo to Transformers\n",
    "\n",
    "This is an intro to the transformers from the HuggingFace. We will dive more into this later.\n",
    "<br/>\n",
    "This content is based on the [HuggingFace Course](https://huggingface.co/course)."
   ]
  },
  {
   "cell_type": "code",
   "execution_count": 1,
   "id": "d1517e18-bfe8-4aa6-aa07-22f31ad0ea95",
   "metadata": {},
   "outputs": [
    {
     "name": "stdout",
     "output_type": "stream",
     "text": [
      "Collecting transformers\n",
      "  Using cached transformers-4.23.1-py3-none-any.whl (5.3 MB)\n",
      "Requirement already satisfied: numpy>=1.17 in /opt/conda/lib/python3.8/site-packages (from transformers) (1.22.2)\n",
      "Requirement already satisfied: pyyaml>=5.1 in /opt/conda/lib/python3.8/site-packages (from transformers) (6.0)\n",
      "Collecting tokenizers!=0.11.3,<0.14,>=0.11.1\n",
      "  Using cached tokenizers-0.13.1-cp38-cp38-manylinux_2_17_x86_64.manylinux2014_x86_64.whl (7.6 MB)\n",
      "Requirement already satisfied: filelock in /opt/conda/lib/python3.8/site-packages (from transformers) (3.4.2)\n",
      "Requirement already satisfied: requests in /opt/conda/lib/python3.8/site-packages (from transformers) (2.26.0)\n",
      "Requirement already satisfied: tqdm>=4.27 in /opt/conda/lib/python3.8/site-packages (from transformers) (4.62.3)\n",
      "Requirement already satisfied: regex!=2019.12.17 in /opt/conda/lib/python3.8/site-packages (from transformers) (2022.1.18)\n",
      "Collecting huggingface-hub<1.0,>=0.10.0\n",
      "  Using cached huggingface_hub-0.10.1-py3-none-any.whl (163 kB)\n",
      "Requirement already satisfied: packaging>=20.0 in /opt/conda/lib/python3.8/site-packages (from transformers) (21.3)\n",
      "Requirement already satisfied: typing-extensions>=3.7.4.3 in /opt/conda/lib/python3.8/site-packages (from huggingface-hub<1.0,>=0.10.0->transformers) (4.0.1)\n",
      "Requirement already satisfied: pyparsing!=3.0.5,>=2.0.2 in /opt/conda/lib/python3.8/site-packages (from packaging>=20.0->transformers) (3.0.7)\n",
      "Requirement already satisfied: idna<4,>=2.5 in /opt/conda/lib/python3.8/site-packages (from requests->transformers) (3.1)\n",
      "Requirement already satisfied: certifi>=2017.4.17 in /opt/conda/lib/python3.8/site-packages (from requests->transformers) (2022.5.18.1)\n",
      "Requirement already satisfied: charset-normalizer~=2.0.0 in /opt/conda/lib/python3.8/site-packages (from requests->transformers) (2.0.9)\n",
      "Requirement already satisfied: urllib3<1.27,>=1.21.1 in /opt/conda/lib/python3.8/site-packages (from requests->transformers) (1.26.7)\n",
      "Installing collected packages: tokenizers, huggingface-hub, transformers\n",
      "Successfully installed huggingface-hub-0.10.1 tokenizers-0.13.1 transformers-4.23.1\n",
      "\u001b[33mWARNING: Running pip as the 'root' user can result in broken permissions and conflicting behaviour with the system package manager. It is recommended to use a virtual environment instead: https://pip.pypa.io/warnings/venv\u001b[0m\u001b[33m\n",
      "\u001b[0m\n",
      "\u001b[1m[\u001b[0m\u001b[34;49mnotice\u001b[0m\u001b[1;39;49m]\u001b[0m\u001b[39;49m A new release of pip available: \u001b[0m\u001b[31;49m22.1.2\u001b[0m\u001b[39;49m -> \u001b[0m\u001b[32;49m22.3\u001b[0m\n",
      "\u001b[1m[\u001b[0m\u001b[34;49mnotice\u001b[0m\u001b[1;39;49m]\u001b[0m\u001b[39;49m To update, run: \u001b[0m\u001b[32;49mpip install --upgrade pip\u001b[0m\n"
     ]
    }
   ],
   "source": [
    "!pip install transformers"
   ]
  },
  {
   "cell_type": "code",
   "execution_count": 3,
   "id": "c43b698c-42ac-44ba-9628-70d32e63156b",
   "metadata": {},
   "outputs": [],
   "source": [
    "from transformers import pipeline"
   ]
  },
  {
   "cell_type": "markdown",
   "id": "d0cff734-c30f-4dcf-a370-bf6d5bc2dd13",
   "metadata": {},
   "source": [
    "## Sentiment Analysis"
   ]
  },
  {
   "cell_type": "code",
   "execution_count": 4,
   "id": "54b8732d-0fb0-4c15-befa-f215645edf3c",
   "metadata": {},
   "outputs": [
    {
     "name": "stderr",
     "output_type": "stream",
     "text": [
      "No model was supplied, defaulted to distilbert-base-uncased-finetuned-sst-2-english and revision af0f99b (https://huggingface.co/distilbert-base-uncased-finetuned-sst-2-english).\n",
      "Using a pipeline without specifying a model name and revision in production is not recommended.\n"
     ]
    },
    {
     "data": {
      "application/vnd.jupyter.widget-view+json": {
       "model_id": "6b73c337c737401abfc72f5714dc19a2",
       "version_major": 2,
       "version_minor": 0
      },
      "text/plain": [
       "Downloading:   0%|          | 0.00/629 [00:00<?, ?B/s]"
      ]
     },
     "metadata": {},
     "output_type": "display_data"
    },
    {
     "data": {
      "application/vnd.jupyter.widget-view+json": {
       "model_id": "0e21af4b089043f4b76a320178d3862d",
       "version_major": 2,
       "version_minor": 0
      },
      "text/plain": [
       "Downloading:   0%|          | 0.00/268M [00:00<?, ?B/s]"
      ]
     },
     "metadata": {},
     "output_type": "display_data"
    },
    {
     "data": {
      "application/vnd.jupyter.widget-view+json": {
       "model_id": "13c4546a387b4c7e94c969f46facbef6",
       "version_major": 2,
       "version_minor": 0
      },
      "text/plain": [
       "Downloading:   0%|          | 0.00/48.0 [00:00<?, ?B/s]"
      ]
     },
     "metadata": {},
     "output_type": "display_data"
    },
    {
     "data": {
      "application/vnd.jupyter.widget-view+json": {
       "model_id": "4e78d22ebd0a4957b682ebc30411f12b",
       "version_major": 2,
       "version_minor": 0
      },
      "text/plain": [
       "Downloading:   0%|          | 0.00/232k [00:00<?, ?B/s]"
      ]
     },
     "metadata": {},
     "output_type": "display_data"
    }
   ],
   "source": [
    "classifier = pipeline(\"sentiment-analysis\")"
   ]
  },
  {
   "cell_type": "code",
   "execution_count": 5,
   "id": "e167ef98-9bf8-4c3c-8122-5dc2413a4c6d",
   "metadata": {},
   "outputs": [
    {
     "data": {
      "text/plain": [
       "[{'label': 'POSITIVE', 'score': 0.9998650550842285}]"
      ]
     },
     "execution_count": 5,
     "metadata": {},
     "output_type": "execute_result"
    }
   ],
   "source": [
    "classifier(\"This is a very good course\")"
   ]
  },
  {
   "cell_type": "code",
   "execution_count": 7,
   "id": "43b0d7dd-0755-40d8-9d91-74ccbca77276",
   "metadata": {},
   "outputs": [
    {
     "data": {
      "text/plain": [
       "[{'label': 'NEGATIVE', 'score': 0.9868887662887573}]"
      ]
     },
     "execution_count": 7,
     "metadata": {},
     "output_type": "execute_result"
    }
   ],
   "source": [
    "classifier(\"I like this person until he vomited in the school because of his drinking habit\")"
   ]
  },
  {
   "cell_type": "markdown",
   "id": "f1eef242-a5a1-45f5-b728-c9163758deee",
   "metadata": {},
   "source": [
    "**Yeah! It's pretty good.**"
   ]
  },
  {
   "cell_type": "markdown",
   "id": "477824ee-d89e-455d-983c-708a03d013de",
   "metadata": {},
   "source": [
    "## Zero Shot Classification"
   ]
  },
  {
   "cell_type": "code",
   "execution_count": 8,
   "id": "21f13878-8e92-4a40-baf2-803474a565de",
   "metadata": {},
   "outputs": [
    {
     "name": "stderr",
     "output_type": "stream",
     "text": [
      "No model was supplied, defaulted to facebook/bart-large-mnli and revision c626438 (https://huggingface.co/facebook/bart-large-mnli).\n",
      "Using a pipeline without specifying a model name and revision in production is not recommended.\n"
     ]
    },
    {
     "data": {
      "application/vnd.jupyter.widget-view+json": {
       "model_id": "790bbcd930c9465ba0400778b7e89c88",
       "version_major": 2,
       "version_minor": 0
      },
      "text/plain": [
       "Downloading:   0%|          | 0.00/1.15k [00:00<?, ?B/s]"
      ]
     },
     "metadata": {},
     "output_type": "display_data"
    },
    {
     "data": {
      "application/vnd.jupyter.widget-view+json": {
       "model_id": "83d17083fefe4965bc13796cce167030",
       "version_major": 2,
       "version_minor": 0
      },
      "text/plain": [
       "Downloading:   0%|          | 0.00/1.63G [00:00<?, ?B/s]"
      ]
     },
     "metadata": {},
     "output_type": "display_data"
    },
    {
     "data": {
      "application/vnd.jupyter.widget-view+json": {
       "model_id": "2d5dc9288fa7425ea9c9efcb4a278685",
       "version_major": 2,
       "version_minor": 0
      },
      "text/plain": [
       "Downloading:   0%|          | 0.00/26.0 [00:00<?, ?B/s]"
      ]
     },
     "metadata": {},
     "output_type": "display_data"
    },
    {
     "data": {
      "application/vnd.jupyter.widget-view+json": {
       "model_id": "cd33029203614da2896900fa62072432",
       "version_major": 2,
       "version_minor": 0
      },
      "text/plain": [
       "Downloading:   0%|          | 0.00/899k [00:00<?, ?B/s]"
      ]
     },
     "metadata": {},
     "output_type": "display_data"
    },
    {
     "data": {
      "application/vnd.jupyter.widget-view+json": {
       "model_id": "f10193b4ba33410f9f07a3d65bf7f2de",
       "version_major": 2,
       "version_minor": 0
      },
      "text/plain": [
       "Downloading:   0%|          | 0.00/456k [00:00<?, ?B/s]"
      ]
     },
     "metadata": {},
     "output_type": "display_data"
    },
    {
     "data": {
      "application/vnd.jupyter.widget-view+json": {
       "model_id": "63887a21658543b5965a80726268370d",
       "version_major": 2,
       "version_minor": 0
      },
      "text/plain": [
       "Downloading:   0%|          | 0.00/1.36M [00:00<?, ?B/s]"
      ]
     },
     "metadata": {},
     "output_type": "display_data"
    }
   ],
   "source": [
    "classi = pipeline(\"zero-shot-classification\")"
   ]
  },
  {
   "cell_type": "code",
   "execution_count": 9,
   "id": "861f2af9-b4c3-476b-af0b-e67fdb5d4a68",
   "metadata": {},
   "outputs": [
    {
     "data": {
      "text/plain": [
       "{'sequence': 'That movie on nexflix is amazing compared to the one on Hulu',\n",
       " 'labels': ['Netflix', 'Hulu', 'AppleTV'],\n",
       " 'scores': [0.7662733793258667, 0.230990469455719, 0.0027361582033336163]}"
      ]
     },
     "execution_count": 9,
     "metadata": {},
     "output_type": "execute_result"
    }
   ],
   "source": [
    "classi(\n",
    "    \"That movie on nexflix is amazing compared to the one on Hulu\",\n",
    "    candidate_labels=[\"Netflix\", \"Hulu\", \"AppleTV\"]\n",
    ")"
   ]
  },
  {
   "cell_type": "code",
   "execution_count": 12,
   "id": "f8d1756a-c92c-49c1-81df-e1dfb9f83f07",
   "metadata": {},
   "outputs": [
    {
     "data": {
      "text/plain": [
       "{'sequence': \"The movies on Netflix are better for sound, but the Hulu & Apple TV has more choises. That's why we don't watch Netflix anymore.\",\n",
       " 'labels': ['Hulu', 'Netflix', 'AppleTV'],\n",
       " 'scores': [0.3354106545448303, 0.33494067192077637, 0.3296487033367157]}"
      ]
     },
     "execution_count": 12,
     "metadata": {},
     "output_type": "execute_result"
    }
   ],
   "source": [
    "classi(\n",
    "    \"The movies on Netflix are better for sound, but the Hulu & Apple TV has more choises. That's why we don't watch Netflix anymore.\",\n",
    "    candidate_labels=[\"Netflix\", \"Hulu\", \"AppleTV\"]\n",
    ")"
   ]
  },
  {
   "cell_type": "code",
   "execution_count": 15,
   "id": "7eff4412-3655-4e4b-bda6-11e41dc8a4bc",
   "metadata": {},
   "outputs": [
    {
     "data": {
      "text/plain": [
       "{'sequence': \"The movies on Netflix are better for sound, but the Hulu & Apple TV has more choises. That's why we don't watch Netflix anymore.\",\n",
       " 'labels': ['choosed-Apple TV', 'choosed-Hulu', 'choosed-netflix'],\n",
       " 'scores': [0.4634362757205963, 0.43004995584487915, 0.10651379078626633]}"
      ]
     },
     "execution_count": 15,
     "metadata": {},
     "output_type": "execute_result"
    }
   ],
   "source": [
    "classi(\n",
    "    \"The movies on Netflix are better for sound, but the Hulu & Apple TV has more choises. That's why we don't watch Netflix anymore.\",\n",
    "    candidate_labels=[\"choosed-netflix\", \"choosed-Apple TV\", \"choosed-Hulu\"]\n",
    ")"
   ]
  },
  {
   "cell_type": "markdown",
   "id": "ee7e266d-02d4-41a1-bf4b-d8422ccebd54",
   "metadata": {},
   "source": [
    "**That's impressive**"
   ]
  },
  {
   "cell_type": "markdown",
   "id": "0c45bdea-6186-4740-962b-b48a37077953",
   "metadata": {},
   "source": [
    "## Text Generation"
   ]
  },
  {
   "cell_type": "code",
   "execution_count": 16,
   "id": "a58d0f05-41db-4f81-964d-6fbce77ca358",
   "metadata": {},
   "outputs": [
    {
     "data": {
      "application/vnd.jupyter.widget-view+json": {
       "model_id": "7904323567e74fd0b581ee87e217a8f7",
       "version_major": 2,
       "version_minor": 0
      },
      "text/plain": [
       "Downloading:   0%|          | 0.00/762 [00:00<?, ?B/s]"
      ]
     },
     "metadata": {},
     "output_type": "display_data"
    },
    {
     "data": {
      "application/vnd.jupyter.widget-view+json": {
       "model_id": "17b6841d60f84357b77f0b68ddff4ec8",
       "version_major": 2,
       "version_minor": 0
      },
      "text/plain": [
       "Downloading:   0%|          | 0.00/353M [00:00<?, ?B/s]"
      ]
     },
     "metadata": {},
     "output_type": "display_data"
    },
    {
     "data": {
      "application/vnd.jupyter.widget-view+json": {
       "model_id": "30aa842164e54297a268d1fc8418896d",
       "version_major": 2,
       "version_minor": 0
      },
      "text/plain": [
       "Downloading:   0%|          | 0.00/1.04M [00:00<?, ?B/s]"
      ]
     },
     "metadata": {},
     "output_type": "display_data"
    },
    {
     "data": {
      "application/vnd.jupyter.widget-view+json": {
       "model_id": "c38d55d469b44408b08d0d605f752b01",
       "version_major": 2,
       "version_minor": 0
      },
      "text/plain": [
       "Downloading:   0%|          | 0.00/456k [00:00<?, ?B/s]"
      ]
     },
     "metadata": {},
     "output_type": "display_data"
    },
    {
     "data": {
      "application/vnd.jupyter.widget-view+json": {
       "model_id": "72ccb1d10abd4ec7b1aab1ec5a51f240",
       "version_major": 2,
       "version_minor": 0
      },
      "text/plain": [
       "Downloading:   0%|          | 0.00/1.36M [00:00<?, ?B/s]"
      ]
     },
     "metadata": {},
     "output_type": "display_data"
    }
   ],
   "source": [
    "gen = pipeline(\"text-generation\", model=\"distilgpt2\")"
   ]
  },
  {
   "cell_type": "code",
   "execution_count": 19,
   "id": "ae47f71c-e571-4b40-b395-766b2311aae5",
   "metadata": {},
   "outputs": [
    {
     "name": "stderr",
     "output_type": "stream",
     "text": [
      "Setting `pad_token_id` to `eos_token_id`:50256 for open-end generation.\n"
     ]
    },
    {
     "data": {
      "text/plain": [
       "[{'generated_text': \"I'm a software engineer, In the next course I will teach a simple, fast and easy way to use a Linux kernel and how to use it to build custom Linux environments.\\n\\n\\nThis course is a course I have a fairly common background\"},\n",
       " {'generated_text': \"I'm a software engineer, In the next course I will be teaching my students how to code.I was fortunate to have this education to help me build a small business for my family who live near the heart of the region. After several years in\"},\n",
       " {'generated_text': \"I'm a software engineer, In the next course, you'll be able to implement a new program called Go to the next level in a language, and use it as a language for improving the performance of your code. As a developer, if you\"}]"
      ]
     },
     "execution_count": 19,
     "metadata": {},
     "output_type": "execute_result"
    }
   ],
   "source": [
    "gen(\n",
    "    \"I'm a software engineer, In the next course\",\n",
    "    max_length=50,\n",
    "    num_return_sequences=3\n",
    "   )"
   ]
  },
  {
   "cell_type": "markdown",
   "id": "a0358ee9-0e06-424f-bad8-c8c802f177e3",
   "metadata": {},
   "source": [
    "## Masks"
   ]
  },
  {
   "cell_type": "code",
   "execution_count": 21,
   "id": "2b7e753d-501a-46a2-b2f1-d17822160218",
   "metadata": {},
   "outputs": [
    {
     "name": "stderr",
     "output_type": "stream",
     "text": [
      "No model was supplied, defaulted to distilroberta-base and revision ec58a5b (https://huggingface.co/distilroberta-base).\n",
      "Using a pipeline without specifying a model name and revision in production is not recommended.\n"
     ]
    },
    {
     "data": {
      "application/vnd.jupyter.widget-view+json": {
       "model_id": "0efca7e754304eed95fba3bf3fecae80",
       "version_major": 2,
       "version_minor": 0
      },
      "text/plain": [
       "Downloading:   0%|          | 0.00/480 [00:00<?, ?B/s]"
      ]
     },
     "metadata": {},
     "output_type": "display_data"
    },
    {
     "data": {
      "application/vnd.jupyter.widget-view+json": {
       "model_id": "03f28662c2b040939d1956a7f151ad9f",
       "version_major": 2,
       "version_minor": 0
      },
      "text/plain": [
       "Downloading:   0%|          | 0.00/331M [00:00<?, ?B/s]"
      ]
     },
     "metadata": {},
     "output_type": "display_data"
    },
    {
     "data": {
      "application/vnd.jupyter.widget-view+json": {
       "model_id": "a895945aa4fa4d5db3298db976e23b60",
       "version_major": 2,
       "version_minor": 0
      },
      "text/plain": [
       "Downloading:   0%|          | 0.00/899k [00:00<?, ?B/s]"
      ]
     },
     "metadata": {},
     "output_type": "display_data"
    },
    {
     "data": {
      "application/vnd.jupyter.widget-view+json": {
       "model_id": "986f1cad055745f785bc201fea0399d0",
       "version_major": 2,
       "version_minor": 0
      },
      "text/plain": [
       "Downloading:   0%|          | 0.00/456k [00:00<?, ?B/s]"
      ]
     },
     "metadata": {},
     "output_type": "display_data"
    },
    {
     "data": {
      "application/vnd.jupyter.widget-view+json": {
       "model_id": "5e14748cfb3949aca52655541e345e37",
       "version_major": 2,
       "version_minor": 0
      },
      "text/plain": [
       "Downloading:   0%|          | 0.00/1.36M [00:00<?, ?B/s]"
      ]
     },
     "metadata": {},
     "output_type": "display_data"
    }
   ],
   "source": [
    "gen = pipeline(\"fill-mask\")"
   ]
  },
  {
   "cell_type": "code",
   "execution_count": 22,
   "id": "17e12c76-d09a-4ab7-91e2-5d4ca08827d7",
   "metadata": {},
   "outputs": [
    {
     "data": {
      "text/plain": [
       "[{'score': 0.14402619004249573,\n",
       "  'token': 45429,\n",
       "  'token_str': ' algebra',\n",
       "  'sequence': 'This course will let you understand algebra but you need to take a Math class to understand it better'},\n",
       " {'score': 0.14228159189224243,\n",
       "  'token': 41454,\n",
       "  'token_str': ' calculus',\n",
       "  'sequence': 'This course will let you understand calculus but you need to take a Math class to understand it better'}]"
      ]
     },
     "execution_count": 22,
     "metadata": {},
     "output_type": "execute_result"
    }
   ],
   "source": [
    "gen(\n",
    "    \"This course will let you understand <mask> but you need to take a Math class to understand it better\",\n",
    "    top_k =2\n",
    ")"
   ]
  },
  {
   "cell_type": "code",
   "execution_count": 27,
   "id": "46a81ee0-661f-4e84-9c60-3aacaa230e77",
   "metadata": {},
   "outputs": [
    {
     "data": {
      "text/plain": [
       "[{'score': 0.08359623700380325,\n",
       "  'token': 38233,\n",
       "  'token_str': ' waiter',\n",
       "  'sequence': 'Arunoda worked as a waiter but he is better at gambling.'},\n",
       " {'score': 0.05220314860343933,\n",
       "  'token': 19921,\n",
       "  'token_str': ' boxer',\n",
       "  'sequence': 'Arunoda worked as a boxer but he is better at gambling.'}]"
      ]
     },
     "execution_count": 27,
     "metadata": {},
     "output_type": "execute_result"
    }
   ],
   "source": [
    "gen(\n",
    "    \"Arunoda worked as a <mask> but he is better at gambling.\",\n",
    "    top_k =2\n",
    ")"
   ]
  },
  {
   "cell_type": "markdown",
   "id": "9831a983-45d7-4a9c-a4b2-97662996ccab",
   "metadata": {},
   "source": [
    "## Named Entity Recognition"
   ]
  },
  {
   "cell_type": "code",
   "execution_count": 28,
   "id": "6996aae7-a29c-489a-9bd7-9093fddf1a57",
   "metadata": {},
   "outputs": [
    {
     "name": "stderr",
     "output_type": "stream",
     "text": [
      "No model was supplied, defaulted to dbmdz/bert-large-cased-finetuned-conll03-english and revision f2482bf (https://huggingface.co/dbmdz/bert-large-cased-finetuned-conll03-english).\n",
      "Using a pipeline without specifying a model name and revision in production is not recommended.\n"
     ]
    },
    {
     "data": {
      "application/vnd.jupyter.widget-view+json": {
       "model_id": "4269fb178bb648cbb813dad5300e02eb",
       "version_major": 2,
       "version_minor": 0
      },
      "text/plain": [
       "Downloading:   0%|          | 0.00/998 [00:00<?, ?B/s]"
      ]
     },
     "metadata": {},
     "output_type": "display_data"
    },
    {
     "data": {
      "application/vnd.jupyter.widget-view+json": {
       "model_id": "400a54c4fc0a41feaeaae00c688d2567",
       "version_major": 2,
       "version_minor": 0
      },
      "text/plain": [
       "Downloading:   0%|          | 0.00/1.33G [00:00<?, ?B/s]"
      ]
     },
     "metadata": {},
     "output_type": "display_data"
    },
    {
     "data": {
      "application/vnd.jupyter.widget-view+json": {
       "model_id": "fa245317071142ac8bf63c06d81388ab",
       "version_major": 2,
       "version_minor": 0
      },
      "text/plain": [
       "Downloading:   0%|          | 0.00/60.0 [00:00<?, ?B/s]"
      ]
     },
     "metadata": {},
     "output_type": "display_data"
    },
    {
     "data": {
      "application/vnd.jupyter.widget-view+json": {
       "model_id": "ec22e24fda174ffc82dda07c6201e95c",
       "version_major": 2,
       "version_minor": 0
      },
      "text/plain": [
       "Downloading:   0%|          | 0.00/213k [00:00<?, ?B/s]"
      ]
     },
     "metadata": {},
     "output_type": "display_data"
    },
    {
     "name": "stderr",
     "output_type": "stream",
     "text": [
      "/opt/conda/lib/python3.8/site-packages/transformers/pipelines/token_classification.py:135: UserWarning: `grouped_entities` is deprecated and will be removed in version v5.0.0, defaulted to `aggregation_strategy=\"simple\"` instead.\n",
      "  warnings.warn(\n"
     ]
    }
   ],
   "source": [
    "ner = pipeline(\"ner\", grouped_entities=True)"
   ]
  },
  {
   "cell_type": "code",
   "execution_count": 33,
   "id": "dcb1be6c-7d42-4457-b408-0ac02e7c9019",
   "metadata": {},
   "outputs": [
    {
     "data": {
      "text/plain": [
       "[{'entity_group': 'PER',\n",
       "  'score': 0.9960581,\n",
       "  'word': 'Amir',\n",
       "  'start': 6,\n",
       "  'end': 10},\n",
       " {'entity_group': 'LOC',\n",
       "  'score': 0.99952936,\n",
       "  'word': 'Colombo',\n",
       "  'start': 40,\n",
       "  'end': 47},\n",
       " {'entity_group': 'PER',\n",
       "  'score': 0.9747552,\n",
       "  'word': 'Arunoda',\n",
       "  'start': 68,\n",
       "  'end': 75},\n",
       " {'entity_group': 'MISC',\n",
       "  'score': 0.8095991,\n",
       "  'word': 'Whatsa',\n",
       "  'start': 95,\n",
       "  'end': 101}]"
      ]
     },
     "execution_count": 33,
     "metadata": {},
     "output_type": "execute_result"
    }
   ],
   "source": [
    "ner(\"Hello Amir, do you how to find a bus to Colombo from here. BTW: I'm Arunoda. You can send me a Whatsapp. And my phone number is +94776448826\")"
   ]
  },
  {
   "cell_type": "markdown",
   "id": "f47093a8-b339-463f-9d54-33918fb8d061",
   "metadata": {},
   "source": [
    "## Q & A"
   ]
  },
  {
   "cell_type": "code",
   "execution_count": 36,
   "id": "31dddf33-a19b-4c9a-8835-cee6d84dde28",
   "metadata": {},
   "outputs": [
    {
     "name": "stderr",
     "output_type": "stream",
     "text": [
      "No model was supplied, defaulted to distilbert-base-cased-distilled-squad and revision 626af31 (https://huggingface.co/distilbert-base-cased-distilled-squad).\n",
      "Using a pipeline without specifying a model name and revision in production is not recommended.\n"
     ]
    }
   ],
   "source": [
    "ans = pipeline(\"question-answering\")"
   ]
  },
  {
   "cell_type": "code",
   "execution_count": 37,
   "id": "4c57b131-5a14-48a1-ab44-87fcc75c2096",
   "metadata": {},
   "outputs": [
    {
     "data": {
      "text/plain": [
       "{'score': 0.5364303588867188, 'start': 9, 'end': 12, 'answer': '154'}"
      ]
     },
     "execution_count": 37,
     "metadata": {},
     "output_type": "execute_result"
    }
   ],
   "source": [
    "ans(\n",
    "    question=\"Which bus I should pick to visit Colombo?\",\n",
    "    context=\"You need 154 for Colombo & 200 for Gampaha\"\n",
    ")"
   ]
  },
  {
   "cell_type": "code",
   "execution_count": 38,
   "id": "44875895-569e-4986-8660-6ffd0d62de03",
   "metadata": {},
   "outputs": [
    {
     "data": {
      "text/plain": [
       "{'score': 0.9504860639572144, 'start': 39, 'end': 42, 'answer': '200'}"
      ]
     },
     "execution_count": 38,
     "metadata": {},
     "output_type": "execute_result"
    }
   ],
   "source": [
    "ans(\n",
    "    question=\"Which bus I should pick to visit Colombo quickly?\",\n",
    "    context=\"You need 154 for Colombo. But can take 200 as a faster option\"\n",
    ")"
   ]
  },
  {
   "cell_type": "markdown",
   "id": "53460351-c668-4142-9a78-24ebd4baf689",
   "metadata": {},
   "source": [
    "## So many use cases\n",
    "\n",
    "This is just a few use cases. There are so many & it's super easy to use them."
   ]
  },
  {
   "cell_type": "code",
   "execution_count": 39,
   "id": "5f48dcf2-cebd-455c-8266-2472fc483afb",
   "metadata": {},
   "outputs": [
    {
     "name": "stderr",
     "output_type": "stream",
     "text": [
      "/opt/conda/lib/python3.8/site-packages/transformers/models/auto/modeling_auto.py:1112: FutureWarning: The class `AutoModelWithLMHead` is deprecated and will be removed in a future version. Please use `AutoModelForCausalLM` for causal language models, `AutoModelForMaskedLM` for masked language models and `AutoModelForSeq2SeqLM` for encoder-decoder models.\n",
      "  warnings.warn(\n"
     ]
    },
    {
     "data": {
      "application/vnd.jupyter.widget-view+json": {
       "model_id": "0682df5af61548ccb24bb148aa705e17",
       "version_major": 2,
       "version_minor": 0
      },
      "text/plain": [
       "Downloading:   0%|          | 0.00/551 [00:00<?, ?B/s]"
      ]
     },
     "metadata": {},
     "output_type": "display_data"
    },
    {
     "data": {
      "application/vnd.jupyter.widget-view+json": {
       "model_id": "2b828509dfb4441e9dd8419a2f98bcba",
       "version_major": 2,
       "version_minor": 0
      },
      "text/plain": [
       "Downloading:   0%|          | 0.00/334M [00:00<?, ?B/s]"
      ]
     },
     "metadata": {},
     "output_type": "display_data"
    },
    {
     "data": {
      "application/vnd.jupyter.widget-view+json": {
       "model_id": "162b2aadf117489cb84a74b4bcc6b359",
       "version_major": 2,
       "version_minor": 0
      },
      "text/plain": [
       "Downloading:   0%|          | 0.00/1.08M [00:00<?, ?B/s]"
      ]
     },
     "metadata": {},
     "output_type": "display_data"
    },
    {
     "data": {
      "application/vnd.jupyter.widget-view+json": {
       "model_id": "bf0871ef757745dab703ca73203904d4",
       "version_major": 2,
       "version_minor": 0
      },
      "text/plain": [
       "Downloading:   0%|          | 0.00/721k [00:00<?, ?B/s]"
      ]
     },
     "metadata": {},
     "output_type": "display_data"
    }
   ],
   "source": [
    "from transformers import AutoTokenizer, AutoModelWithLMHead, pipeline\n",
    "\n",
    "model = AutoModelWithLMHead.from_pretrained(\"keshan/SinhalaBERTo\")\n",
    "tokenizer = AutoTokenizer.from_pretrained(\"keshan/SinhalaBERTo\")\n",
    "\n",
    "fill_mask_s = pipeline('fill-mask', model=model, tokenizer=tokenizer)"
   ]
  },
  {
   "cell_type": "code",
   "execution_count": 41,
   "id": "e821b60d-f69f-44c0-8c50-4c97d89ffd75",
   "metadata": {},
   "outputs": [
    {
     "data": {
      "text/plain": [
       "[{'score': 0.5667710900306702,\n",
       "  'token': 755,\n",
       "  'token_str': ' ආව',\n",
       "  'sequence': 'මම ගෙදර ආව.'},\n",
       " {'score': 0.09822656214237213,\n",
       "  'token': 920,\n",
       "  'token_str': ' යනව',\n",
       "  'sequence': 'මම ගෙදර යනව.'},\n",
       " {'score': 0.0364547036588192,\n",
       "  'token': 1258,\n",
       "  'token_str': ' එනව',\n",
       "  'sequence': 'මම ගෙදර එනව.'},\n",
       " {'score': 0.019091865047812462,\n",
       "  'token': 944,\n",
       "  'token_str': ' ඈ',\n",
       "  'sequence': 'මම ගෙදර ඈ.'},\n",
       " {'score': 0.016052328050136566,\n",
       "  'token': 1461,\n",
       "  'token_str': ' මතකය',\n",
       "  'sequence': 'මම ගෙදර මතකය.'}]"
      ]
     },
     "execution_count": 41,
     "metadata": {},
     "output_type": "execute_result"
    }
   ],
   "source": [
    "fill_mask_s(\"මම ගෙදර <mask>.\")"
   ]
  },
  {
   "cell_type": "code",
   "execution_count": 42,
   "id": "513ce61f-c6ae-4086-bcdf-e9e280563857",
   "metadata": {},
   "outputs": [
    {
     "data": {
      "text/plain": [
       "[{'score': 0.03849681839346886,\n",
       "  'token': 408,\n",
       "  'token_str': ' අද',\n",
       "  'sequence': 'මම අද කෙනෙක්. ඔයාගේ job එක මොකක්ද?'},\n",
       " {'score': 0.03431018814444542,\n",
       "  'token': 530,\n",
       "  'token_str': ' ඔය',\n",
       "  'sequence': 'මම ඔය කෙනෙක්. ඔයාගේ job එක මොකක්ද?'},\n",
       " {'score': 0.03063296340405941,\n",
       "  'token': 334,\n",
       "  'token_str': ' ඒ',\n",
       "  'sequence': 'මම ඒ කෙනෙක්. ඔයාගේ job එක මොකක්ද?'},\n",
       " {'score': 0.02787974290549755,\n",
       "  'token': 345,\n",
       "  'token_str': ' කරන',\n",
       "  'sequence': 'මම කරන කෙනෙක්. ඔයාගේ job එක මොකක්ද?'},\n",
       " {'score': 0.01940256915986538,\n",
       "  'token': 521,\n",
       "  'token_str': ' ඕන',\n",
       "  'sequence': 'මම ඕන කෙනෙක්. ඔයාගේ job එක මොකක්ද?'}]"
      ]
     },
     "execution_count": 42,
     "metadata": {},
     "output_type": "execute_result"
    }
   ],
   "source": [
    "fill_mask_s(\"මම <mask> කෙනෙක්. ඔයාගේ job එක මොකක්ද?\")"
   ]
  },
  {
   "cell_type": "markdown",
   "id": "8e67a2e0-6ba1-4732-ab51-2ce62fa4a8a7",
   "metadata": {},
   "source": [
    "**It's not trained that well. But it's understandable**"
   ]
  },
  {
   "cell_type": "code",
   "execution_count": null,
   "id": "d7772ba1-3de7-409d-a06c-369f91bdfdf5",
   "metadata": {},
   "outputs": [],
   "source": []
  }
 ],
 "metadata": {
  "kernelspec": {
   "display_name": "Python 3 (ipykernel)",
   "language": "python",
   "name": "python3"
  },
  "language_info": {
   "codemirror_mode": {
    "name": "ipython",
    "version": 3
   },
   "file_extension": ".py",
   "mimetype": "text/x-python",
   "name": "python",
   "nbconvert_exporter": "python",
   "pygments_lexer": "ipython3",
   "version": "3.8.12"
  }
 },
 "nbformat": 4,
 "nbformat_minor": 5
}
