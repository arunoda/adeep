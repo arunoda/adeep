{
 "cells": [
  {
   "cell_type": "markdown",
   "id": "8870c465-e2bf-438c-afc0-2722d248a266",
   "metadata": {},
   "source": [
    "# MatMul vs Batched MatMul (bmm)"
   ]
  },
  {
   "cell_type": "markdown",
   "id": "fff3be03-ada1-4c19-a8a0-53b790e05e43",
   "metadata": {},
   "source": [
    "## Let's do some matmul\n",
    "\n"
   ]
  },
  {
   "cell_type": "code",
   "execution_count": 1,
   "id": "d458392a-b069-4fbd-b3b7-13d8052095b2",
   "metadata": {},
   "outputs": [],
   "source": [
    "import torch"
   ]
  },
  {
   "cell_type": "code",
   "execution_count": 2,
   "id": "433655dc-dc0a-46a5-b71b-488376f63ad4",
   "metadata": {},
   "outputs": [
    {
     "data": {
      "text/plain": [
       "(tensor([[0.1354, 0.9312, 0.9185],\n",
       "         [0.7501, 0.7559, 0.3019]]),\n",
       " tensor([[0.3694, 0.8730, 0.6049],\n",
       "         [0.6916, 0.3056, 0.4822]]))"
      ]
     },
     "execution_count": 2,
     "metadata": {},
     "output_type": "execute_result"
    }
   ],
   "source": [
    "a = torch.rand(2, 3)\n",
    "b = torch.rand(2, 3)\n",
    "a, b"
   ]
  },
  {
   "cell_type": "code",
   "execution_count": 3,
   "id": "bf759d3b-6612-469a-9be9-9cbccfa05ec7",
   "metadata": {},
   "outputs": [
    {
     "data": {
      "text/plain": [
       "tensor([[1.4186, 0.8212],\n",
       "        [1.1196, 0.8954]])"
      ]
     },
     "execution_count": 3,
     "metadata": {},
     "output_type": "execute_result"
    }
   ],
   "source": [
    "a @ b.T"
   ]
  },
  {
   "cell_type": "code",
   "execution_count": 4,
   "id": "d1175046-cacf-47fd-84fd-2360088a417d",
   "metadata": {},
   "outputs": [
    {
     "data": {
      "text/plain": [
       "(tensor([[0.1291, 0.8400, 0.2758],\n",
       "         [0.9890, 0.9095, 0.1533]]),\n",
       " tensor([[0.7468, 0.2464, 0.7010],\n",
       "         [0.8845, 0.6592, 0.3007]]))"
      ]
     },
     "execution_count": 4,
     "metadata": {},
     "output_type": "execute_result"
    }
   ],
   "source": [
    "c = torch.rand(2, 3)\n",
    "d = torch.rand(2, 3)\n",
    "c, d"
   ]
  },
  {
   "cell_type": "code",
   "execution_count": 5,
   "id": "2bcb5cbe-48fc-4486-b697-5084350df2fe",
   "metadata": {},
   "outputs": [
    {
     "data": {
      "text/plain": [
       "tensor([[0.4967, 0.7509],\n",
       "        [1.0701, 1.5204]])"
      ]
     },
     "execution_count": 5,
     "metadata": {},
     "output_type": "execute_result"
    }
   ],
   "source": [
    "c @ d.T"
   ]
  },
  {
   "cell_type": "markdown",
   "id": "1f45ffe4-19f9-4f68-abc2-a2dfcf18e0ad",
   "metadata": {},
   "source": [
    "### What if we want to do these at one."
   ]
  },
  {
   "cell_type": "code",
   "execution_count": 6,
   "id": "52ea5139-7368-49c2-8f5d-9ee218c80fc7",
   "metadata": {},
   "outputs": [
    {
     "data": {
      "text/plain": [
       "(torch.Size([2, 2, 3]), torch.Size([2, 2, 3]))"
      ]
     },
     "execution_count": 6,
     "metadata": {},
     "output_type": "execute_result"
    }
   ],
   "source": [
    "X = torch.stack([a, c])\n",
    "Y = torch.stack([b, d])\n",
    "X.shape, Y.shape"
   ]
  },
  {
   "cell_type": "code",
   "execution_count": 7,
   "id": "6a46a28f-0b9f-4af7-a9e4-049174c86402",
   "metadata": {},
   "outputs": [
    {
     "data": {
      "text/plain": [
       "tensor([[[1.4186, 0.8212],\n",
       "         [1.1196, 0.8954]],\n",
       "\n",
       "        [[0.4967, 0.7509],\n",
       "         [1.0701, 1.5204]]])"
      ]
     },
     "execution_count": 7,
     "metadata": {},
     "output_type": "execute_result"
    }
   ],
   "source": [
    "X @ Y.transpose(1, 2)"
   ]
  },
  {
   "cell_type": "code",
   "execution_count": 8,
   "id": "0ffb5ba8-0480-48e0-96b1-54f3f4416ee0",
   "metadata": {},
   "outputs": [
    {
     "data": {
      "text/plain": [
       "tensor([[[1.4186, 0.8212],\n",
       "         [1.1196, 0.8954]],\n",
       "\n",
       "        [[0.4967, 0.7509],\n",
       "         [1.0701, 1.5204]]])"
      ]
     },
     "execution_count": 8,
     "metadata": {},
     "output_type": "execute_result"
    }
   ],
   "source": [
    "torch.bmm(X, Y.transpose(1, 2))"
   ]
  },
  {
   "cell_type": "code",
   "execution_count": 9,
   "id": "dd1d4519-4342-49dc-a171-ff14b79a3e75",
   "metadata": {},
   "outputs": [
    {
     "data": {
      "text/plain": [
       "tensor([[[1.4186, 0.8212],\n",
       "         [1.1196, 0.8954]],\n",
       "\n",
       "        [[0.4967, 0.7509],\n",
       "         [1.0701, 1.5204]]])"
      ]
     },
     "execution_count": 9,
     "metadata": {},
     "output_type": "execute_result"
    }
   ],
   "source": [
    "torch.matmul(X, Y.transpose(1, 2))"
   ]
  },
  {
   "cell_type": "markdown",
   "id": "064d5d43-5b43-4e7b-b154-4af978d94449",
   "metadata": {},
   "source": [
    "## Conclusion\n",
    "\n",
    "So, both are the same. \n",
    "\n",
    "As of the result yes. But implementation could be different."
   ]
  },
  {
   "cell_type": "code",
   "execution_count": null,
   "id": "ffd12a00-1e56-4507-b12f-3afd4d720512",
   "metadata": {},
   "outputs": [],
   "source": []
  }
 ],
 "metadata": {
  "kernelspec": {
   "display_name": "Python 3",
   "language": "python",
   "name": "python3"
  },
  "language_info": {
   "codemirror_mode": {
    "name": "ipython",
    "version": 3
   },
   "file_extension": ".py",
   "mimetype": "text/x-python",
   "name": "python",
   "nbconvert_exporter": "python",
   "pygments_lexer": "ipython3",
   "version": "3.8.12"
  }
 },
 "nbformat": 4,
 "nbformat_minor": 5
}
