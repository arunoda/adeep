{
 "cells": [
  {
   "cell_type": "markdown",
   "id": "07dd5a58-b0a5-4c43-8a1c-e243b34d1684",
   "metadata": {},
   "source": [
    "# Fine Tune a Text Classifier\n",
    "\n",
    "We are trying to fine-tune a text classifier based a transformer language model.\n",
    "\n",
    "Basically, we are trying to train a bit more with our data. We use HF transformers module for this."
   ]
  },
  {
   "cell_type": "code",
   "execution_count": 1,
   "id": "dc8a4669-03cd-425d-afc0-5e76c8ec3c06",
   "metadata": {},
   "outputs": [
    {
     "name": "stdout",
     "output_type": "stream",
     "text": [
      "Requirement already satisfied: transformers in /opt/conda/lib/python3.8/site-packages (4.24.0)\n",
      "Requirement already satisfied: datasets in /opt/conda/lib/python3.8/site-packages (2.8.0)\n",
      "Requirement already satisfied: umap-learn in /opt/conda/lib/python3.8/site-packages (0.5.3)\n",
      "Requirement already satisfied: sklearn in /opt/conda/lib/python3.8/site-packages (0.0.post1)\n",
      "Requirement already satisfied: tokenizers!=0.11.3,<0.14,>=0.11.1 in /opt/conda/lib/python3.8/site-packages (from transformers) (0.13.2)\n",
      "Requirement already satisfied: pyyaml>=5.1 in /opt/conda/lib/python3.8/site-packages (from transformers) (6.0)\n",
      "Requirement already satisfied: tqdm>=4.27 in /opt/conda/lib/python3.8/site-packages (from transformers) (4.62.3)\n",
      "Requirement already satisfied: huggingface-hub<1.0,>=0.10.0 in /opt/conda/lib/python3.8/site-packages (from transformers) (0.11.0)\n",
      "Requirement already satisfied: filelock in /opt/conda/lib/python3.8/site-packages (from transformers) (3.4.2)\n",
      "Requirement already satisfied: packaging>=20.0 in /opt/conda/lib/python3.8/site-packages (from transformers) (21.3)\n",
      "Requirement already satisfied: regex!=2019.12.17 in /opt/conda/lib/python3.8/site-packages (from transformers) (2022.1.18)\n",
      "Requirement already satisfied: numpy>=1.17 in /opt/conda/lib/python3.8/site-packages (from transformers) (1.22.2)\n",
      "Requirement already satisfied: requests in /opt/conda/lib/python3.8/site-packages (from transformers) (2.26.0)\n",
      "Requirement already satisfied: aiohttp in /opt/conda/lib/python3.8/site-packages (from datasets) (3.8.3)\n",
      "Requirement already satisfied: xxhash in /opt/conda/lib/python3.8/site-packages (from datasets) (3.2.0)\n",
      "Requirement already satisfied: responses<0.19 in /opt/conda/lib/python3.8/site-packages (from datasets) (0.18.0)\n",
      "Requirement already satisfied: fsspec[http]>=2021.11.1 in /opt/conda/lib/python3.8/site-packages (from datasets) (2022.1.0)\n",
      "Requirement already satisfied: multiprocess in /opt/conda/lib/python3.8/site-packages (from datasets) (0.70.14)\n",
      "Requirement already satisfied: dill<0.3.7 in /opt/conda/lib/python3.8/site-packages (from datasets) (0.3.6)\n",
      "Requirement already satisfied: pandas in /opt/conda/lib/python3.8/site-packages (from datasets) (1.5.2)\n",
      "Requirement already satisfied: pyarrow>=6.0.0 in /opt/conda/lib/python3.8/site-packages (from datasets) (10.0.1)\n",
      "Requirement already satisfied: numba>=0.49 in /opt/conda/lib/python3.8/site-packages (from umap-learn) (0.53.1)\n",
      "Requirement already satisfied: scikit-learn>=0.22 in /opt/conda/lib/python3.8/site-packages (from umap-learn) (0.24.0)\n",
      "Requirement already satisfied: scipy>=1.0 in /opt/conda/lib/python3.8/site-packages (from umap-learn) (1.6.3)\n",
      "Requirement already satisfied: pynndescent>=0.5 in /opt/conda/lib/python3.8/site-packages (from umap-learn) (0.5.8)\n",
      "Requirement already satisfied: typing-extensions>=3.7.4.3 in /opt/conda/lib/python3.8/site-packages (from huggingface-hub<1.0,>=0.10.0->transformers) (4.0.1)\n",
      "Requirement already satisfied: llvmlite<0.37,>=0.36.0rc1 in /opt/conda/lib/python3.8/site-packages (from numba>=0.49->umap-learn) (0.36.0)\n",
      "Requirement already satisfied: setuptools in /opt/conda/lib/python3.8/site-packages (from numba>=0.49->umap-learn) (59.5.0)\n",
      "Requirement already satisfied: pyparsing!=3.0.5,>=2.0.2 in /opt/conda/lib/python3.8/site-packages (from packaging>=20.0->transformers) (3.0.7)\n",
      "Requirement already satisfied: joblib>=0.11 in /opt/conda/lib/python3.8/site-packages (from pynndescent>=0.5->umap-learn) (1.1.0)\n",
      "Requirement already satisfied: charset-normalizer~=2.0.0 in /opt/conda/lib/python3.8/site-packages (from requests->transformers) (2.0.9)\n",
      "Requirement already satisfied: idna<4,>=2.5 in /opt/conda/lib/python3.8/site-packages (from requests->transformers) (3.1)\n",
      "Requirement already satisfied: urllib3<1.27,>=1.21.1 in /opt/conda/lib/python3.8/site-packages (from requests->transformers) (1.26.7)\n",
      "Requirement already satisfied: certifi>=2017.4.17 in /opt/conda/lib/python3.8/site-packages (from requests->transformers) (2022.9.24)\n",
      "Requirement already satisfied: threadpoolctl>=2.0.0 in /opt/conda/lib/python3.8/site-packages (from scikit-learn>=0.22->umap-learn) (3.1.0)\n",
      "Requirement already satisfied: yarl<2.0,>=1.0 in /opt/conda/lib/python3.8/site-packages (from aiohttp->datasets) (1.8.2)\n",
      "Requirement already satisfied: attrs>=17.3.0 in /opt/conda/lib/python3.8/site-packages (from aiohttp->datasets) (22.1.0)\n",
      "Requirement already satisfied: async-timeout<5.0,>=4.0.0a3 in /opt/conda/lib/python3.8/site-packages (from aiohttp->datasets) (4.0.2)\n",
      "Requirement already satisfied: multidict<7.0,>=4.5 in /opt/conda/lib/python3.8/site-packages (from aiohttp->datasets) (6.0.4)\n",
      "Requirement already satisfied: aiosignal>=1.1.2 in /opt/conda/lib/python3.8/site-packages (from aiohttp->datasets) (1.3.1)\n",
      "Requirement already satisfied: frozenlist>=1.1.1 in /opt/conda/lib/python3.8/site-packages (from aiohttp->datasets) (1.3.3)\n",
      "Requirement already satisfied: pytz>=2020.1 in /opt/conda/lib/python3.8/site-packages (from pandas->datasets) (2021.3)\n",
      "Requirement already satisfied: python-dateutil>=2.8.1 in /opt/conda/lib/python3.8/site-packages (from pandas->datasets) (2.8.2)\n",
      "Requirement already satisfied: six>=1.5 in /opt/conda/lib/python3.8/site-packages (from python-dateutil>=2.8.1->pandas->datasets) (1.16.0)\n",
      "\u001b[33mWARNING: Running pip as the 'root' user can result in broken permissions and conflicting behaviour with the system package manager. It is recommended to use a virtual environment instead: https://pip.pypa.io/warnings/venv\u001b[0m\u001b[33m\n",
      "\u001b[0m"
     ]
    }
   ],
   "source": [
    "!pip install transformers datasets umap-learn sklearn"
   ]
  },
  {
   "cell_type": "markdown",
   "id": "40495a5d-25d2-43d4-b8ee-401adf0ab29f",
   "metadata": {},
   "source": [
    "## The Dataset"
   ]
  },
  {
   "cell_type": "code",
   "execution_count": 2,
   "id": "1211a54f-736b-4de5-a679-5d4831e3183f",
   "metadata": {},
   "outputs": [],
   "source": [
    "from datasets import load_dataset"
   ]
  },
  {
   "cell_type": "code",
   "execution_count": 3,
   "id": "728fe2f8-dd1a-453f-8034-1708c522e4ec",
   "metadata": {},
   "outputs": [
    {
     "name": "stderr",
     "output_type": "stream",
     "text": [
      "Found cached dataset tweet_eval (/home/.cache/huggingface/datasets/tweet_eval/emotion/1.1.0/12aee5282b8784f3e95459466db4cdf45c6bf49719c25cdb0743d71ed0410343)\n"
     ]
    },
    {
     "data": {
      "application/json": {
       "ascii": false,
       "bar_format": null,
       "colour": null,
       "elapsed": 0.021941661834716797,
       "initial": 0,
       "n": 0,
       "ncols": null,
       "nrows": null,
       "postfix": null,
       "prefix": "",
       "rate": null,
       "total": 3,
       "unit": "it",
       "unit_divisor": 1000,
       "unit_scale": false
      },
      "application/vnd.jupyter.widget-view+json": {
       "model_id": "031c3dea04b343d5b9327d3d446b7d08",
       "version_major": 2,
       "version_minor": 0
      },
      "text/plain": [
       "  0%|          | 0/3 [00:00<?, ?it/s]"
      ]
     },
     "metadata": {},
     "output_type": "display_data"
    },
    {
     "data": {
      "text/plain": [
       "DatasetDict({\n",
       "    train: Dataset({\n",
       "        features: ['text', 'label'],\n",
       "        num_rows: 3257\n",
       "    })\n",
       "    test: Dataset({\n",
       "        features: ['text', 'label'],\n",
       "        num_rows: 1421\n",
       "    })\n",
       "    validation: Dataset({\n",
       "        features: ['text', 'label'],\n",
       "        num_rows: 374\n",
       "    })\n",
       "})"
      ]
     },
     "execution_count": 3,
     "metadata": {},
     "output_type": "execute_result"
    }
   ],
   "source": [
    "ds_emotions = load_dataset(\"tweet_eval\", \"emotion\")\n",
    "ds_emotions"
   ]
  },
  {
   "cell_type": "code",
   "execution_count": 4,
   "id": "0db31bd1-dd9c-4b78-823d-88358328138c",
   "metadata": {},
   "outputs": [
    {
     "data": {
      "text/html": [
       "<div>\n",
       "<style scoped>\n",
       "    .dataframe tbody tr th:only-of-type {\n",
       "        vertical-align: middle;\n",
       "    }\n",
       "\n",
       "    .dataframe tbody tr th {\n",
       "        vertical-align: top;\n",
       "    }\n",
       "\n",
       "    .dataframe thead th {\n",
       "        text-align: right;\n",
       "    }\n",
       "</style>\n",
       "<table border=\"1\" class=\"dataframe\">\n",
       "  <thead>\n",
       "    <tr style=\"text-align: right;\">\n",
       "      <th></th>\n",
       "      <th>text</th>\n",
       "      <th>label</th>\n",
       "    </tr>\n",
       "  </thead>\n",
       "  <tbody>\n",
       "    <tr>\n",
       "      <th>0</th>\n",
       "      <td>“Worry is a down payment on a problem you may ...</td>\n",
       "      <td>2</td>\n",
       "    </tr>\n",
       "    <tr>\n",
       "      <th>1</th>\n",
       "      <td>My roommate: it's okay that we can't spell bec...</td>\n",
       "      <td>0</td>\n",
       "    </tr>\n",
       "    <tr>\n",
       "      <th>2</th>\n",
       "      <td>No but that's so cute. Atsu was probably shy a...</td>\n",
       "      <td>1</td>\n",
       "    </tr>\n",
       "    <tr>\n",
       "      <th>3</th>\n",
       "      <td>Rooneys fucking untouchable isn't he? Been fuc...</td>\n",
       "      <td>0</td>\n",
       "    </tr>\n",
       "    <tr>\n",
       "      <th>4</th>\n",
       "      <td>it's pretty depressing when u hit pan on ur fa...</td>\n",
       "      <td>3</td>\n",
       "    </tr>\n",
       "  </tbody>\n",
       "</table>\n",
       "</div>"
      ],
      "text/plain": [
       "                                                text  label\n",
       "0  “Worry is a down payment on a problem you may ...      2\n",
       "1  My roommate: it's okay that we can't spell bec...      0\n",
       "2  No but that's so cute. Atsu was probably shy a...      1\n",
       "3  Rooneys fucking untouchable isn't he? Been fuc...      0\n",
       "4  it's pretty depressing when u hit pan on ur fa...      3"
      ]
     },
     "execution_count": 4,
     "metadata": {},
     "output_type": "execute_result"
    }
   ],
   "source": [
    "ds_emotions.set_format(\"pandas\")\n",
    "ds_emotions[\"train\"][:].head()"
   ]
  },
  {
   "cell_type": "code",
   "execution_count": 5,
   "id": "b9435225-857c-4a0b-aba0-1c9875be8be4",
   "metadata": {},
   "outputs": [
    {
     "data": {
      "text/plain": [
       "{'text': Value(dtype='string', id=None),\n",
       " 'label': ClassLabel(names=['anger', 'joy', 'optimism', 'sadness'], id=None)}"
      ]
     },
     "execution_count": 5,
     "metadata": {},
     "output_type": "execute_result"
    }
   ],
   "source": [
    "ds_emotions[\"train\"].features"
   ]
  },
  {
   "cell_type": "markdown",
   "id": "68c3c825-7ae6-4287-8ae7-6acde0894fd4",
   "metadata": {},
   "source": [
    "## Tokenized Dataset\n",
    "\n",
    "We need to tokeninze the text labels, that's what the tokenizer does."
   ]
  },
  {
   "cell_type": "code",
   "execution_count": 6,
   "id": "5c31a92e-cea6-4673-9f1d-9742a484b77a",
   "metadata": {},
   "outputs": [],
   "source": [
    "model_name = \"distilbert-base-uncased\""
   ]
  },
  {
   "cell_type": "code",
   "execution_count": 7,
   "id": "839d43d3-f852-439d-8e3f-9ff06c7b89e1",
   "metadata": {},
   "outputs": [
    {
     "data": {
      "text/plain": [
       "PreTrainedTokenizerFast(name_or_path='distilbert-base-uncased', vocab_size=30522, model_max_len=512, is_fast=True, padding_side='right', truncation_side='right', special_tokens={'unk_token': '[UNK]', 'sep_token': '[SEP]', 'pad_token': '[PAD]', 'cls_token': '[CLS]', 'mask_token': '[MASK]'})"
      ]
     },
     "execution_count": 7,
     "metadata": {},
     "output_type": "execute_result"
    }
   ],
   "source": [
    "from transformers import AutoTokenizer\n",
    "tokenizer = AutoTokenizer.from_pretrained(model_name)\n",
    "tokenizer"
   ]
  },
  {
   "cell_type": "code",
   "execution_count": 8,
   "id": "a53633bb-3a4b-41e4-9225-321cd3fe68e8",
   "metadata": {},
   "outputs": [
    {
     "data": {
      "text/plain": [
       "[\"“Worry is a down payment on a problem you may never have'. \\xa0Joyce Meyer.  #motivation #leadership #worry\",\n",
       " \"My roommate: it's okay that we can't spell because we have autocorrect. #terrible #firstworldprobs\"]"
      ]
     },
     "execution_count": 8,
     "metadata": {},
     "output_type": "execute_result"
    }
   ],
   "source": [
    "ds_emotions.reset_format()\n",
    "ds_emotions[\"train\"][0:2][\"text\"]"
   ]
  },
  {
   "cell_type": "code",
   "execution_count": 9,
   "id": "8e3092d5-282b-4818-8ec8-1a5b47af0d28",
   "metadata": {},
   "outputs": [
    {
     "data": {
      "text/plain": [
       "{'input_ids': [[101, 1523, 4737, 2003, 1037, 2091, 7909, 2006, 1037, 3291, 2017, 2089, 2196, 2031, 1005, 1012, 11830, 11527, 1012, 1001, 14354, 1001, 4105, 1001, 4737, 102, 0, 0, 0, 0, 0, 0, 0, 0, 0, 0, 0, 0, 0, 0, 0, 0, 0, 0, 0, 0, 0, 0, 0, 0], [101, 2026, 18328, 1024, 2009, 1005, 1055, 3100, 2008, 2057, 2064, 1005, 1056, 6297, 2138, 2057, 2031, 8285, 27108, 2890, 6593, 1012, 1001, 6659, 1001, 2034, 11108, 21572, 5910, 102, 0, 0, 0, 0, 0, 0, 0, 0, 0, 0, 0, 0, 0, 0, 0, 0, 0, 0, 0, 0]], 'attention_mask': [[1, 1, 1, 1, 1, 1, 1, 1, 1, 1, 1, 1, 1, 1, 1, 1, 1, 1, 1, 1, 1, 1, 1, 1, 1, 1, 0, 0, 0, 0, 0, 0, 0, 0, 0, 0, 0, 0, 0, 0, 0, 0, 0, 0, 0, 0, 0, 0, 0, 0], [1, 1, 1, 1, 1, 1, 1, 1, 1, 1, 1, 1, 1, 1, 1, 1, 1, 1, 1, 1, 1, 1, 1, 1, 1, 1, 1, 1, 1, 1, 0, 0, 0, 0, 0, 0, 0, 0, 0, 0, 0, 0, 0, 0, 0, 0, 0, 0, 0, 0]]}"
      ]
     },
     "execution_count": 9,
     "metadata": {},
     "output_type": "execute_result"
    }
   ],
   "source": [
    "# padding these for 50 max_length characters.\n",
    "tokenizer(ds_emotions[\"train\"][0:2][\"text\"], padding=\"max_length\", max_length=50, truncation=True)"
   ]
  },
  {
   "cell_type": "markdown",
   "id": "1e3d249f-5bef-487f-88b2-93cf7b5122c8",
   "metadata": {},
   "source": [
    "### Tokenizing the whole dataset\n",
    "\n",
    "Here we will add both `input_ids` and `attention_mask` to the model. These are usually the inputs to our model."
   ]
  },
  {
   "cell_type": "code",
   "execution_count": 10,
   "id": "1bbf9507-d997-48c5-9d15-3ed78f98ea68",
   "metadata": {},
   "outputs": [
    {
     "data": {
      "application/json": {
       "ascii": false,
       "bar_format": null,
       "colour": null,
       "elapsed": 0.019847631454467773,
       "initial": 0,
       "n": 0,
       "ncols": null,
       "nrows": null,
       "postfix": null,
       "prefix": "",
       "rate": null,
       "total": 51,
       "unit": "ba",
       "unit_divisor": 1000,
       "unit_scale": false
      },
      "application/vnd.jupyter.widget-view+json": {
       "model_id": "9a7017d54f07452f9060ea0a62c263f0",
       "version_major": 2,
       "version_minor": 0
      },
      "text/plain": [
       "  0%|          | 0/51 [00:00<?, ?ba/s]"
      ]
     },
     "metadata": {},
     "output_type": "display_data"
    },
    {
     "data": {
      "application/json": {
       "ascii": false,
       "bar_format": null,
       "colour": null,
       "elapsed": 0.02480626106262207,
       "initial": 0,
       "n": 0,
       "ncols": null,
       "nrows": null,
       "postfix": null,
       "prefix": "",
       "rate": null,
       "total": 23,
       "unit": "ba",
       "unit_divisor": 1000,
       "unit_scale": false
      },
      "application/vnd.jupyter.widget-view+json": {
       "model_id": "415a53facc1d4a969ff0491aed10489f",
       "version_major": 2,
       "version_minor": 0
      },
      "text/plain": [
       "  0%|          | 0/23 [00:00<?, ?ba/s]"
      ]
     },
     "metadata": {},
     "output_type": "display_data"
    },
    {
     "data": {
      "application/json": {
       "ascii": false,
       "bar_format": null,
       "colour": null,
       "elapsed": 0.025763511657714844,
       "initial": 0,
       "n": 0,
       "ncols": null,
       "nrows": null,
       "postfix": null,
       "prefix": "",
       "rate": null,
       "total": 6,
       "unit": "ba",
       "unit_divisor": 1000,
       "unit_scale": false
      },
      "application/vnd.jupyter.widget-view+json": {
       "model_id": "335d2778e48d45be8b0832c9b3adccbf",
       "version_major": 2,
       "version_minor": 0
      },
      "text/plain": [
       "  0%|          | 0/6 [00:00<?, ?ba/s]"
      ]
     },
     "metadata": {},
     "output_type": "display_data"
    }
   ],
   "source": [
    "def ds_tokenize_batch(batch):\n",
    "    token_info = tokenizer(batch[\"text\"], padding=\"max_length\", max_length=50, truncation=True)\n",
    "    return token_info\n",
    "\n",
    "ds_emotions_encoded = ds_emotions.map(ds_tokenize_batch, batched=True, batch_size=64)"
   ]
  },
  {
   "cell_type": "code",
   "execution_count": 11,
   "id": "4ad3a699-f985-4fd0-a833-a2e18fcc86f6",
   "metadata": {},
   "outputs": [
    {
     "data": {
      "text/plain": [
       "{'text': [\"“Worry is a down payment on a problem you may never have'. \\xa0Joyce Meyer.  #motivation #leadership #worry\",\n",
       "  \"My roommate: it's okay that we can't spell because we have autocorrect. #terrible #firstworldprobs\"],\n",
       " 'label': tensor([2, 0]),\n",
       " 'input_ids': tensor([[  101,  1523,  4737,  2003,  1037,  2091,  7909,  2006,  1037,  3291,\n",
       "           2017,  2089,  2196,  2031,  1005,  1012, 11830, 11527,  1012,  1001,\n",
       "          14354,  1001,  4105,  1001,  4737,   102,     0,     0,     0,     0,\n",
       "              0,     0,     0,     0,     0,     0,     0,     0,     0,     0,\n",
       "              0,     0,     0,     0,     0,     0,     0,     0,     0,     0],\n",
       "         [  101,  2026, 18328,  1024,  2009,  1005,  1055,  3100,  2008,  2057,\n",
       "           2064,  1005,  1056,  6297,  2138,  2057,  2031,  8285, 27108,  2890,\n",
       "           6593,  1012,  1001,  6659,  1001,  2034, 11108, 21572,  5910,   102,\n",
       "              0,     0,     0,     0,     0,     0,     0,     0,     0,     0,\n",
       "              0,     0,     0,     0,     0,     0,     0,     0,     0,     0]]),\n",
       " 'attention_mask': tensor([[1, 1, 1, 1, 1, 1, 1, 1, 1, 1, 1, 1, 1, 1, 1, 1, 1, 1, 1, 1, 1, 1, 1, 1,\n",
       "          1, 1, 0, 0, 0, 0, 0, 0, 0, 0, 0, 0, 0, 0, 0, 0, 0, 0, 0, 0, 0, 0, 0, 0,\n",
       "          0, 0],\n",
       "         [1, 1, 1, 1, 1, 1, 1, 1, 1, 1, 1, 1, 1, 1, 1, 1, 1, 1, 1, 1, 1, 1, 1, 1,\n",
       "          1, 1, 1, 1, 1, 1, 0, 0, 0, 0, 0, 0, 0, 0, 0, 0, 0, 0, 0, 0, 0, 0, 0, 0,\n",
       "          0, 0]])}"
      ]
     },
     "execution_count": 11,
     "metadata": {},
     "output_type": "execute_result"
    }
   ],
   "source": [
    "ds_emotions_encoded.set_format(\"torch\")\n",
    "ds_emotions_encoded[\"train\"][0:2]"
   ]
  },
  {
   "cell_type": "markdown",
   "id": "dee8d9b6-1541-4c8a-a9c6-b6cb4770a906",
   "metadata": {},
   "source": [
    "## Loading the Fine Tuning Model\n",
    "\n",
    "Now we need to a load model with the classification head"
   ]
  },
  {
   "cell_type": "code",
   "execution_count": 12,
   "id": "ba8192a0-e5bd-4e1d-ab46-85b9c0f17ce9",
   "metadata": {},
   "outputs": [],
   "source": [
    "device=\"cuda\""
   ]
  },
  {
   "cell_type": "code",
   "execution_count": 13,
   "id": "e6895bef-8390-4d14-b7ff-f4978735ed4d",
   "metadata": {},
   "outputs": [],
   "source": [
    "import torch\n",
    "from transformers import AutoModelForSequenceClassification"
   ]
  },
  {
   "cell_type": "code",
   "execution_count": 14,
   "id": "26e20268-2a68-4321-a628-58308a2039c3",
   "metadata": {},
   "outputs": [
    {
     "data": {
      "text/plain": [
       "4"
      ]
     },
     "execution_count": 14,
     "metadata": {},
     "output_type": "execute_result"
    }
   ],
   "source": [
    "num_labels = len(ds_emotions[\"train\"].features[\"label\"].names)\n",
    "num_labels"
   ]
  },
  {
   "cell_type": "code",
   "execution_count": 15,
   "id": "97840fc1-8a56-48e4-8163-f7ca7cd71b0b",
   "metadata": {},
   "outputs": [
    {
     "name": "stderr",
     "output_type": "stream",
     "text": [
      "Some weights of the model checkpoint at distilbert-base-uncased were not used when initializing DistilBertForSequenceClassification: ['vocab_transform.bias', 'vocab_transform.weight', 'vocab_projector.weight', 'vocab_layer_norm.weight', 'vocab_projector.bias', 'vocab_layer_norm.bias']\n",
      "- This IS expected if you are initializing DistilBertForSequenceClassification from the checkpoint of a model trained on another task or with another architecture (e.g. initializing a BertForSequenceClassification model from a BertForPreTraining model).\n",
      "- This IS NOT expected if you are initializing DistilBertForSequenceClassification from the checkpoint of a model that you expect to be exactly identical (initializing a BertForSequenceClassification model from a BertForSequenceClassification model).\n",
      "Some weights of DistilBertForSequenceClassification were not initialized from the model checkpoint at distilbert-base-uncased and are newly initialized: ['pre_classifier.bias', 'pre_classifier.weight', 'classifier.weight', 'classifier.bias']\n",
      "You should probably TRAIN this model on a down-stream task to be able to use it for predictions and inference.\n"
     ]
    }
   ],
   "source": [
    "model = AutoModelForSequenceClassification.from_pretrained(model_name, num_labels=num_labels).to(device)"
   ]
  },
  {
   "cell_type": "markdown",
   "id": "15ba0258-7272-41bf-93cd-1a084232dc58",
   "metadata": {},
   "source": [
    "### Usage"
   ]
  },
  {
   "cell_type": "code",
   "execution_count": 16,
   "id": "b6e1276e-bb00-4266-9a57-4b7fcbd969b2",
   "metadata": {},
   "outputs": [
    {
     "data": {
      "text/plain": [
       "SequenceClassifierOutput(loss=None, logits=tensor([[-0.0421,  0.0950, -0.1422,  0.0207],\n",
       "        [ 0.0020,  0.1366, -0.1009,  0.0108],\n",
       "        [ 0.0320,  0.0928, -0.1333,  0.0243],\n",
       "        [ 0.0215,  0.1130, -0.0921,  0.0549],\n",
       "        [ 0.0167,  0.0996, -0.1184,  0.0274],\n",
       "        [ 0.0155,  0.1247, -0.1101,  0.0042],\n",
       "        [ 0.0217,  0.0790, -0.1378,  0.0055],\n",
       "        [-0.0107,  0.1339, -0.1169,  0.0548],\n",
       "        [ 0.0161,  0.1063, -0.0894, -0.0305],\n",
       "        [ 0.0087,  0.1065, -0.1221,  0.0144]], device='cuda:0'), hidden_states=None, attentions=None)"
      ]
     },
     "execution_count": 16,
     "metadata": {},
     "output_type": "execute_result"
    }
   ],
   "source": [
    "ds_sample = ds_emotions_encoded[\"train\"][0:10]\n",
    "input_ids = ds_sample[\"input_ids\"].to(device)\n",
    "attention_mask = ds_sample[\"attention_mask\"].to(device)\n",
    "with torch.no_grad():\n",
    "    result = model(input_ids=input_ids, attention_mask=attention_mask)\n",
    "result"
   ]
  },
  {
   "cell_type": "code",
   "execution_count": 17,
   "id": "b84fa8f0-c39a-4747-b5ce-8c816d4a69de",
   "metadata": {},
   "outputs": [
    {
     "data": {
      "text/plain": [
       "tensor([1, 1, 1, 1, 1, 1, 1, 1, 1, 1], device='cuda:0')"
      ]
     },
     "execution_count": 17,
     "metadata": {},
     "output_type": "execute_result"
    }
   ],
   "source": [
    "torch.argmax(result.logits, dim=1)"
   ]
  },
  {
   "cell_type": "code",
   "execution_count": 18,
   "id": "f26632f5-30e4-4587-8e4e-c4fbea35d07d",
   "metadata": {},
   "outputs": [
    {
     "data": {
      "text/plain": [
       "tensor([2, 0, 1, 0, 3, 0, 3, 1, 0, 0])"
      ]
     },
     "execution_count": 18,
     "metadata": {},
     "output_type": "execute_result"
    }
   ],
   "source": [
    "ds_sample[\"label\"]"
   ]
  },
  {
   "cell_type": "markdown",
   "id": "787c68da-c452-4e46-a63b-541524a41183",
   "metadata": {},
   "source": [
    "As you can see, what's predicted here is not that accurate. That's because this model is not fine tuned with our dataset. That's what we are going to do next."
   ]
  },
  {
   "cell_type": "markdown",
   "id": "d3e376dd-f2f6-47c4-9e6f-3364833f71e1",
   "metadata": {},
   "source": [
    "## Fine Tuning"
   ]
  },
  {
   "cell_type": "code",
   "execution_count": 19,
   "id": "7bc6968d-2752-4940-a176-88b58eb2106f",
   "metadata": {},
   "outputs": [],
   "source": [
    "from transformers import Trainer, TrainingArguments\n",
    "from transformers.trainer_utils import EvalPrediction "
   ]
  },
  {
   "cell_type": "code",
   "execution_count": 20,
   "id": "8d35ea1c-0bc4-48e8-9d64-f1d86e386c9b",
   "metadata": {},
   "outputs": [
    {
     "name": "stderr",
     "output_type": "stream",
     "text": [
      "Some weights of the model checkpoint at distilbert-base-uncased were not used when initializing DistilBertForSequenceClassification: ['vocab_transform.bias', 'vocab_transform.weight', 'vocab_projector.weight', 'vocab_layer_norm.weight', 'vocab_projector.bias', 'vocab_layer_norm.bias']\n",
      "- This IS expected if you are initializing DistilBertForSequenceClassification from the checkpoint of a model trained on another task or with another architecture (e.g. initializing a BertForSequenceClassification model from a BertForPreTraining model).\n",
      "- This IS NOT expected if you are initializing DistilBertForSequenceClassification from the checkpoint of a model that you expect to be exactly identical (initializing a BertForSequenceClassification model from a BertForSequenceClassification model).\n",
      "Some weights of DistilBertForSequenceClassification were not initialized from the model checkpoint at distilbert-base-uncased and are newly initialized: ['pre_classifier.bias', 'pre_classifier.weight', 'classifier.weight', 'classifier.bias']\n",
      "You should probably TRAIN this model on a down-stream task to be able to use it for predictions and inference.\n"
     ]
    }
   ],
   "source": [
    "batch_size = 64\n",
    "output_model = f\"{model_name}-finetuned\"\n",
    "model = AutoModelForSequenceClassification.from_pretrained(model_name, num_labels=num_labels).to(device)\n",
    "\n",
    "training_args = TrainingArguments(\n",
    "    output_dir=output_model,\n",
    "    num_train_epochs=10,\n",
    "    learning_rate=0.00001,\n",
    "    per_device_train_batch_size=batch_size,\n",
    "    per_device_eval_batch_size=batch_size,\n",
    "    weight_decay=0.001,\n",
    "    evaluation_strategy=\"epoch\",\n",
    "    disable_tqdm=False,\n",
    "    logging_steps=len(ds_emotions_encoded[\"train\"]) // batch_size,\n",
    "    log_level=\"error\"\n",
    ")\n",
    "\n",
    "def calc_matrics(batch:EvalPrediction):\n",
    "    masks = torch.tensor(batch.predictions).argmax(dim=1) == torch.tensor(batch.label_ids)\n",
    "    accuracy = torch.sum(masks) / len(masks)\n",
    "    return {\"accuracy\": accuracy}\n",
    "\n",
    "trainer = Trainer(\n",
    "    model = model,\n",
    "    args = training_args,\n",
    "    train_dataset=ds_emotions_encoded[\"train\"],\n",
    "    eval_dataset=ds_emotions_encoded[\"test\"],\n",
    "    tokenizer=tokenizer,\n",
    "    compute_metrics=calc_matrics\n",
    ")"
   ]
  },
  {
   "cell_type": "code",
   "execution_count": 21,
   "id": "93693b48-6285-49cd-9a0a-885a247a3d4c",
   "metadata": {},
   "outputs": [
    {
     "name": "stderr",
     "output_type": "stream",
     "text": [
      "/opt/conda/lib/python3.8/site-packages/transformers/optimization.py:306: FutureWarning: This implementation of AdamW is deprecated and will be removed in a future version. Use the PyTorch implementation torch.optim.AdamW instead, or set `no_deprecation_warning=True` to disable this warning\n",
      "  warnings.warn(\n"
     ]
    },
    {
     "data": {
      "text/html": [
       "\n",
       "    <div>\n",
       "      \n",
       "      <progress value='510' max='510' style='width:300px; height:20px; vertical-align: middle;'></progress>\n",
       "      [510/510 01:30, Epoch 10/10]\n",
       "    </div>\n",
       "    <table border=\"1\" class=\"dataframe\">\n",
       "  <thead>\n",
       " <tr style=\"text-align: left;\">\n",
       "      <th>Epoch</th>\n",
       "      <th>Training Loss</th>\n",
       "      <th>Validation Loss</th>\n",
       "      <th>Accuracy</th>\n",
       "    </tr>\n",
       "  </thead>\n",
       "  <tbody>\n",
       "    <tr>\n",
       "      <td>1</td>\n",
       "      <td>1.253400</td>\n",
       "      <td>1.088703</td>\n",
       "      <td>0.571429</td>\n",
       "    </tr>\n",
       "    <tr>\n",
       "      <td>2</td>\n",
       "      <td>0.932500</td>\n",
       "      <td>0.778685</td>\n",
       "      <td>0.744546</td>\n",
       "    </tr>\n",
       "    <tr>\n",
       "      <td>3</td>\n",
       "      <td>0.702600</td>\n",
       "      <td>0.651482</td>\n",
       "      <td>0.782547</td>\n",
       "    </tr>\n",
       "    <tr>\n",
       "      <td>4</td>\n",
       "      <td>0.583200</td>\n",
       "      <td>0.599186</td>\n",
       "      <td>0.797326</td>\n",
       "    </tr>\n",
       "    <tr>\n",
       "      <td>5</td>\n",
       "      <td>0.502400</td>\n",
       "      <td>0.578342</td>\n",
       "      <td>0.799437</td>\n",
       "    </tr>\n",
       "    <tr>\n",
       "      <td>6</td>\n",
       "      <td>0.457100</td>\n",
       "      <td>0.571813</td>\n",
       "      <td>0.800141</td>\n",
       "    </tr>\n",
       "    <tr>\n",
       "      <td>7</td>\n",
       "      <td>0.411200</td>\n",
       "      <td>0.565030</td>\n",
       "      <td>0.806474</td>\n",
       "    </tr>\n",
       "    <tr>\n",
       "      <td>8</td>\n",
       "      <td>0.390800</td>\n",
       "      <td>0.566176</td>\n",
       "      <td>0.804363</td>\n",
       "    </tr>\n",
       "    <tr>\n",
       "      <td>9</td>\n",
       "      <td>0.354600</td>\n",
       "      <td>0.567575</td>\n",
       "      <td>0.802956</td>\n",
       "    </tr>\n",
       "    <tr>\n",
       "      <td>10</td>\n",
       "      <td>0.342600</td>\n",
       "      <td>0.566444</td>\n",
       "      <td>0.805067</td>\n",
       "    </tr>\n",
       "  </tbody>\n",
       "</table><p>"
      ],
      "text/plain": [
       "<IPython.core.display.HTML object>"
      ]
     },
     "metadata": {},
     "output_type": "display_data"
    },
    {
     "data": {
      "text/plain": [
       "TrainOutput(global_step=510, training_loss=0.58786860073314, metrics={'train_runtime': 90.4949, 'train_samples_per_second': 359.91, 'train_steps_per_second': 5.636, 'total_flos': 421349322156000.0, 'train_loss': 0.58786860073314, 'epoch': 10.0})"
      ]
     },
     "execution_count": 21,
     "metadata": {},
     "output_type": "execute_result"
    }
   ],
   "source": [
    "trainer.train()"
   ]
  },
  {
   "cell_type": "markdown",
   "id": "1dc8dd9d-3daf-49e0-9a24-3abb224a7a65",
   "metadata": {},
   "source": [
    "**Here we got about 80% accuracy while with the hiddenstate classification we got 74%**\n",
    "\n",
    "So, this is pretty good but not super impressive. One of that could be the dataset size since this is bit smaller dataset."
   ]
  },
  {
   "cell_type": "markdown",
   "id": "067b628a-ca6c-4410-83da-72450e826aff",
   "metadata": {},
   "source": [
    "## Confusion Matrix\n",
    "\n",
    "Let's calculate some plots like confusion metrics, etc."
   ]
  },
  {
   "cell_type": "code",
   "execution_count": 22,
   "id": "41378fe8-49a6-4f73-a74b-620918492b9f",
   "metadata": {},
   "outputs": [
    {
     "data": {
      "text/plain": [
       "(tensor([3, 0, 3,  ..., 0, 0, 1]), tensor([3, 0, 3,  ..., 0, 0, 1]))"
      ]
     },
     "execution_count": 22,
     "metadata": {},
     "output_type": "execute_result"
    }
   ],
   "source": [
    "ds_validation = ds_emotions_encoded[\"test\"]\n",
    "with torch.no_grad():\n",
    "    preds = model(ds_validation[\"input_ids\"].to(device), ds_validation[\"attention_mask\"].to(device))\n",
    "    \n",
    "pred_labels = preds.logits.argmax(1).cpu()\n",
    "pred_labels, ds_validation[\"label\"]"
   ]
  },
  {
   "cell_type": "code",
   "execution_count": 23,
   "id": "b51c3abd-8c44-4beb-91b2-3dede59f8111",
   "metadata": {},
   "outputs": [],
   "source": [
    "from sklearn.metrics import confusion_matrix, ConfusionMatrixDisplay\n",
    "import matplotlib.pyplot as plt"
   ]
  },
  {
   "cell_type": "code",
   "execution_count": 24,
   "id": "d6b2d886-7f42-491a-9f28-705811a39da5",
   "metadata": {},
   "outputs": [
    {
     "data": {
      "text/plain": [
       "<sklearn.metrics._plot.confusion_matrix.ConfusionMatrixDisplay at 0x7f65b1881190>"
      ]
     },
     "execution_count": 24,
     "metadata": {},
     "output_type": "execute_result"
    },
    {
     "data": {
      "image/png": "[encoded data removed]",
      "text/plain": [
       "<Figure size 432x288 with 2 Axes>"
      ]
     },
     "metadata": {
      "needs_background": "light"
     },
     "output_type": "display_data"
    }
   ],
   "source": [
    "cm = confusion_matrix(ds_validation[\"label\"], pred_labels, normalize=\"true\")\n",
    "disp = ConfusionMatrixDisplay(cm, display_labels=ds_validation.features[\"label\"].names)\n",
    "disp.plot(cmap=\"Blues\")"
   ]
  },
  {
   "cell_type": "markdown",
   "id": "e128757f-9246-45e6-bcee-9b1c4e1c0006",
   "metadata": {},
   "source": [
    "**Again here the problem is the \"optimism\" category.**\n",
    "\n",
    "One of the reasons could be the size of the related dataset."
   ]
  },
  {
   "cell_type": "markdown",
   "id": "78c8be18-eb23-449d-bca1-6077e5be1eff",
   "metadata": {},
   "source": [
    "## Finding Top N"
   ]
  },
  {
   "cell_type": "code",
   "execution_count": 25,
   "id": "cab390a8-9ab8-47bf-b660-b729ebb99577",
   "metadata": {},
   "outputs": [],
   "source": [
    "import torch.nn.functional as F"
   ]
  },
  {
   "cell_type": "code",
   "execution_count": 26,
   "id": "1d576310-c21d-46c1-b9ae-0fae87f0a6cc",
   "metadata": {},
   "outputs": [],
   "source": [
    "ds_validation.set_format(\"torch\")\n",
    "pred_labels = preds.logits.argmax(1).cpu()\n",
    "losss = F.cross_entropy(preds.logits.cpu(), ds_validation[\"label\"].cpu(), reduction=\"none\")"
   ]
  },
  {
   "cell_type": "code",
   "execution_count": 27,
   "id": "d773038f-5de5-4c5f-b690-20d7a7ef9c91",
   "metadata": {},
   "outputs": [
    {
     "data": {
      "text/html": [
       "<div>\n",
       "<style scoped>\n",
       "    .dataframe tbody tr th:only-of-type {\n",
       "        vertical-align: middle;\n",
       "    }\n",
       "\n",
       "    .dataframe tbody tr th {\n",
       "        vertical-align: top;\n",
       "    }\n",
       "\n",
       "    .dataframe thead th {\n",
       "        text-align: right;\n",
       "    }\n",
       "</style>\n",
       "<table border=\"1\" class=\"dataframe\">\n",
       "  <thead>\n",
       "    <tr style=\"text-align: right;\">\n",
       "      <th></th>\n",
       "      <th>text</th>\n",
       "      <th>label</th>\n",
       "      <th>pred_label</th>\n",
       "      <th>loss</th>\n",
       "    </tr>\n",
       "  </thead>\n",
       "  <tbody>\n",
       "    <tr>\n",
       "      <th>0</th>\n",
       "      <td>#Deppression is real. Partners w/ #depressed p...</td>\n",
       "      <td>sadness</td>\n",
       "      <td>sadness</td>\n",
       "      <td>0.078499</td>\n",
       "    </tr>\n",
       "    <tr>\n",
       "      <th>1</th>\n",
       "      <td>@user Interesting choice of words... Are you c...</td>\n",
       "      <td>anger</td>\n",
       "      <td>anger</td>\n",
       "      <td>0.137514</td>\n",
       "    </tr>\n",
       "    <tr>\n",
       "      <th>2</th>\n",
       "      <td>My visit to hospital for care triggered #traum...</td>\n",
       "      <td>sadness</td>\n",
       "      <td>sadness</td>\n",
       "      <td>0.061973</td>\n",
       "    </tr>\n",
       "    <tr>\n",
       "      <th>3</th>\n",
       "      <td>@user Welcome to #MPSVT! We are delighted to h...</td>\n",
       "      <td>joy</td>\n",
       "      <td>joy</td>\n",
       "      <td>0.174798</td>\n",
       "    </tr>\n",
       "    <tr>\n",
       "      <th>4</th>\n",
       "      <td>What makes you feel #joyful?</td>\n",
       "      <td>joy</td>\n",
       "      <td>joy</td>\n",
       "      <td>0.122839</td>\n",
       "    </tr>\n",
       "  </tbody>\n",
       "</table>\n",
       "</div>"
      ],
      "text/plain": [
       "                                                text    label pred_label  \\\n",
       "0  #Deppression is real. Partners w/ #depressed p...  sadness    sadness   \n",
       "1  @user Interesting choice of words... Are you c...    anger      anger   \n",
       "2  My visit to hospital for care triggered #traum...  sadness    sadness   \n",
       "3  @user Welcome to #MPSVT! We are delighted to h...      joy        joy   \n",
       "4                       What makes you feel #joyful?      joy        joy   \n",
       "\n",
       "       loss  \n",
       "0  0.078499  \n",
       "1  0.137514  \n",
       "2  0.061973  \n",
       "3  0.174798  \n",
       "4  0.122839  "
      ]
     },
     "execution_count": 27,
     "metadata": {},
     "output_type": "execute_result"
    }
   ],
   "source": [
    "ds_validation.set_format(\"pandas\")\n",
    "df_valid = ds_validation[:][[\"text\", \"label\"]]\n",
    "df_valid[\"label\"] = ds_validation.features[\"label\"].int2str(df_valid[\"label\"])\n",
    "df_valid[\"pred_label\"] = ds_validation.features[\"label\"].int2str(pred_labels)\n",
    "df_valid[\"loss\"] = losss\n",
    "df_valid.head()"
   ]
  },
  {
   "cell_type": "markdown",
   "id": "2cda5923-9dfe-4612-a5d2-964d41cab182",
   "metadata": {},
   "source": [
    "### Top Loosers"
   ]
  },
  {
   "cell_type": "code",
   "execution_count": 28,
   "id": "a1b9e43d-58f5-42f5-a1b9-cdc36a65eb61",
   "metadata": {},
   "outputs": [
    {
     "data": {
      "text/html": [
       "<div>\n",
       "<style scoped>\n",
       "    .dataframe tbody tr th:only-of-type {\n",
       "        vertical-align: middle;\n",
       "    }\n",
       "\n",
       "    .dataframe tbody tr th {\n",
       "        vertical-align: top;\n",
       "    }\n",
       "\n",
       "    .dataframe thead th {\n",
       "        text-align: right;\n",
       "    }\n",
       "</style>\n",
       "<table border=\"1\" class=\"dataframe\">\n",
       "  <thead>\n",
       "    <tr style=\"text-align: right;\">\n",
       "      <th></th>\n",
       "      <th>text</th>\n",
       "      <th>label</th>\n",
       "      <th>pred_label</th>\n",
       "      <th>loss</th>\n",
       "    </tr>\n",
       "  </thead>\n",
       "  <tbody>\n",
       "    <tr>\n",
       "      <th>581</th>\n",
       "      <td>13) mutual whos always online - @user bc we ha...</td>\n",
       "      <td>joy</td>\n",
       "      <td>anger</td>\n",
       "      <td>4.917319</td>\n",
       "    </tr>\n",
       "    <tr>\n",
       "      <th>1041</th>\n",
       "      <td>@user Thing is tho my pout was actually serious</td>\n",
       "      <td>optimism</td>\n",
       "      <td>anger</td>\n",
       "      <td>4.805089</td>\n",
       "    </tr>\n",
       "    <tr>\n",
       "      <th>117</th>\n",
       "      <td>The patients were increasingly protected durin...</td>\n",
       "      <td>joy</td>\n",
       "      <td>anger</td>\n",
       "      <td>4.615057</td>\n",
       "    </tr>\n",
       "    <tr>\n",
       "      <th>424</th>\n",
       "      <td>Every time I fart my dog jumps in fear hahahah...</td>\n",
       "      <td>joy</td>\n",
       "      <td>anger</td>\n",
       "      <td>4.534210</td>\n",
       "    </tr>\n",
       "    <tr>\n",
       "      <th>735</th>\n",
       "      <td>@user 3. home alone 4. fast and furious</td>\n",
       "      <td>joy</td>\n",
       "      <td>anger</td>\n",
       "      <td>4.491758</td>\n",
       "    </tr>\n",
       "    <tr>\n",
       "      <th>1344</th>\n",
       "      <td>mom asked if i wanted acrylics &amp;amp; i said 'n...</td>\n",
       "      <td>sadness</td>\n",
       "      <td>anger</td>\n",
       "      <td>4.386020</td>\n",
       "    </tr>\n",
       "    <tr>\n",
       "      <th>213</th>\n",
       "      <td>#Sleep is my #drug. My bed is my dealer. My #a...</td>\n",
       "      <td>joy</td>\n",
       "      <td>anger</td>\n",
       "      <td>4.361046</td>\n",
       "    </tr>\n",
       "    <tr>\n",
       "      <th>1084</th>\n",
       "      <td>@user 😂😂 i love ur angry comments</td>\n",
       "      <td>joy</td>\n",
       "      <td>anger</td>\n",
       "      <td>4.220979</td>\n",
       "    </tr>\n",
       "    <tr>\n",
       "      <th>775</th>\n",
       "      <td>@user 'call to action by TV host John Oliver, ...</td>\n",
       "      <td>sadness</td>\n",
       "      <td>anger</td>\n",
       "      <td>4.205841</td>\n",
       "    </tr>\n",
       "    <tr>\n",
       "      <th>1031</th>\n",
       "      <td>When you get paid and you instantly start buyi...</td>\n",
       "      <td>sadness</td>\n",
       "      <td>anger</td>\n",
       "      <td>4.156839</td>\n",
       "    </tr>\n",
       "  </tbody>\n",
       "</table>\n",
       "</div>"
      ],
      "text/plain": [
       "                                                   text     label pred_label  \\\n",
       "581   13) mutual whos always online - @user bc we ha...       joy      anger   \n",
       "1041    @user Thing is tho my pout was actually serious  optimism      anger   \n",
       "117   The patients were increasingly protected durin...       joy      anger   \n",
       "424   Every time I fart my dog jumps in fear hahahah...       joy      anger   \n",
       "735             @user 3. home alone 4. fast and furious       joy      anger   \n",
       "1344  mom asked if i wanted acrylics &amp; i said 'n...   sadness      anger   \n",
       "213   #Sleep is my #drug. My bed is my dealer. My #a...       joy      anger   \n",
       "1084                  @user 😂😂 i love ur angry comments       joy      anger   \n",
       "775   @user 'call to action by TV host John Oliver, ...   sadness      anger   \n",
       "1031  When you get paid and you instantly start buyi...   sadness      anger   \n",
       "\n",
       "          loss  \n",
       "581   4.917319  \n",
       "1041  4.805089  \n",
       "117   4.615057  \n",
       "424   4.534210  \n",
       "735   4.491758  \n",
       "1344  4.386020  \n",
       "213   4.361046  \n",
       "1084  4.220979  \n",
       "775   4.205841  \n",
       "1031  4.156839  "
      ]
     },
     "execution_count": 28,
     "metadata": {},
     "output_type": "execute_result"
    }
   ],
   "source": [
    "df_valid.sort_values(\"loss\", ascending=False).head(10)"
   ]
  },
  {
   "cell_type": "markdown",
   "id": "b32d7c36-3f10-4a27-9009-9554e81f5571",
   "metadata": {},
   "source": [
    "### Top Winners"
   ]
  },
  {
   "cell_type": "code",
   "execution_count": 29,
   "id": "f0d046c5-7dcc-49df-b398-fb609df24e88",
   "metadata": {},
   "outputs": [
    {
     "data": {
      "text/html": [
       "<div>\n",
       "<style scoped>\n",
       "    .dataframe tbody tr th:only-of-type {\n",
       "        vertical-align: middle;\n",
       "    }\n",
       "\n",
       "    .dataframe tbody tr th {\n",
       "        vertical-align: top;\n",
       "    }\n",
       "\n",
       "    .dataframe thead th {\n",
       "        text-align: right;\n",
       "    }\n",
       "</style>\n",
       "<table border=\"1\" class=\"dataframe\">\n",
       "  <thead>\n",
       "    <tr style=\"text-align: right;\">\n",
       "      <th></th>\n",
       "      <th>text</th>\n",
       "      <th>label</th>\n",
       "      <th>pred_label</th>\n",
       "      <th>loss</th>\n",
       "    </tr>\n",
       "  </thead>\n",
       "  <tbody>\n",
       "    <tr>\n",
       "      <th>65</th>\n",
       "      <td>Aw, bummer. @user (Maura Rankin) blocked me fo...</td>\n",
       "      <td>anger</td>\n",
       "      <td>anger</td>\n",
       "      <td>0.024534</td>\n",
       "    </tr>\n",
       "    <tr>\n",
       "      <th>354</th>\n",
       "      <td>Paul is such a fucking bully! Dam leave the po...</td>\n",
       "      <td>anger</td>\n",
       "      <td>anger</td>\n",
       "      <td>0.026424</td>\n",
       "    </tr>\n",
       "    <tr>\n",
       "      <th>1021</th>\n",
       "      <td>@user @user Trump is now fuming.  He feels the...</td>\n",
       "      <td>anger</td>\n",
       "      <td>anger</td>\n",
       "      <td>0.026675</td>\n",
       "    </tr>\n",
       "    <tr>\n",
       "      <th>233</th>\n",
       "      <td>#YummyMummiesAU Are you serious! Breastfeeding...</td>\n",
       "      <td>anger</td>\n",
       "      <td>anger</td>\n",
       "      <td>0.026773</td>\n",
       "    </tr>\n",
       "    <tr>\n",
       "      <th>67</th>\n",
       "      <td>Gorkas is angrily unhinged, &amp;amp;lecturing CNN...</td>\n",
       "      <td>anger</td>\n",
       "      <td>anger</td>\n",
       "      <td>0.026826</td>\n",
       "    </tr>\n",
       "    <tr>\n",
       "      <th>202</th>\n",
       "      <td>we will send video to proper agency ,state wor...</td>\n",
       "      <td>anger</td>\n",
       "      <td>anger</td>\n",
       "      <td>0.026832</td>\n",
       "    </tr>\n",
       "    <tr>\n",
       "      <th>911</th>\n",
       "      <td>KEEF\\n \\n #annoyed! cant make me bursting out ...</td>\n",
       "      <td>anger</td>\n",
       "      <td>anger</td>\n",
       "      <td>0.026920</td>\n",
       "    </tr>\n",
       "    <tr>\n",
       "      <th>603</th>\n",
       "      <td>@user Stupid cunt is relentless with his bullshit</td>\n",
       "      <td>anger</td>\n",
       "      <td>anger</td>\n",
       "      <td>0.027028</td>\n",
       "    </tr>\n",
       "    <tr>\n",
       "      <th>824</th>\n",
       "      <td>@user Horrible CNN interview.  U can't talk ur...</td>\n",
       "      <td>anger</td>\n",
       "      <td>anger</td>\n",
       "      <td>0.027047</td>\n",
       "    </tr>\n",
       "    <tr>\n",
       "      <th>1348</th>\n",
       "      <td>they think they're The Shit when they ain't sh...</td>\n",
       "      <td>anger</td>\n",
       "      <td>anger</td>\n",
       "      <td>0.027098</td>\n",
       "    </tr>\n",
       "  </tbody>\n",
       "</table>\n",
       "</div>"
      ],
      "text/plain": [
       "                                                   text  label pred_label  \\\n",
       "65    Aw, bummer. @user (Maura Rankin) blocked me fo...  anger      anger   \n",
       "354   Paul is such a fucking bully! Dam leave the po...  anger      anger   \n",
       "1021  @user @user Trump is now fuming.  He feels the...  anger      anger   \n",
       "233   #YummyMummiesAU Are you serious! Breastfeeding...  anger      anger   \n",
       "67    Gorkas is angrily unhinged, &amp;lecturing CNN...  anger      anger   \n",
       "202   we will send video to proper agency ,state wor...  anger      anger   \n",
       "911   KEEF\\n \\n #annoyed! cant make me bursting out ...  anger      anger   \n",
       "603   @user Stupid cunt is relentless with his bullshit  anger      anger   \n",
       "824   @user Horrible CNN interview.  U can't talk ur...  anger      anger   \n",
       "1348  they think they're The Shit when they ain't sh...  anger      anger   \n",
       "\n",
       "          loss  \n",
       "65    0.024534  \n",
       "354   0.026424  \n",
       "1021  0.026675  \n",
       "233   0.026773  \n",
       "67    0.026826  \n",
       "202   0.026832  \n",
       "911   0.026920  \n",
       "603   0.027028  \n",
       "824   0.027047  \n",
       "1348  0.027098  "
      ]
     },
     "execution_count": 29,
     "metadata": {},
     "output_type": "execute_result"
    }
   ],
   "source": [
    "df_valid.sort_values(\"loss\", ascending=True).head(10)"
   ]
  },
  {
   "cell_type": "code",
   "execution_count": null,
   "id": "bf03deab-349a-4ad4-8908-1c5ea265a517",
   "metadata": {},
   "outputs": [],
   "source": []
  }
 ],
 "metadata": {
  "kernelspec": {
   "display_name": "Python 3",
   "language": "python",
   "name": "python3"
  },
  "language_info": {
   "codemirror_mode": {
    "name": "ipython",
    "version": 3
   },
   "file_extension": ".py",
   "mimetype": "text/x-python",
   "name": "python",
   "nbconvert_exporter": "python",
   "pygments_lexer": "ipython3",
   "version": "3.8.12"
  }
 },
 "nbformat": 4,
 "nbformat_minor": 5
}
