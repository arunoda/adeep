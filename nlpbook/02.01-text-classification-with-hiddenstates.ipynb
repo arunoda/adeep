{
 "cells": [
  {
   "cell_type": "markdown",
   "id": "20f10238-c4d9-4e2c-a16e-51f185cf64e2",
   "metadata": {},
   "source": [
    "# Text Classification With Hidden State\n",
    "\n",
    "Here we are going to do some text classification based on a hiddenstate of a transformer(BERT) language model.\n",
    "\n",
    "This can be a form of transfer-learning, but we do not finetune the model with the new data. Instead, we extract features from the lanhuage model & use simple LinearRegression model for the classification task."
   ]
  },
  {
   "cell_type": "code",
   "execution_count": 1,
   "id": "150c262f-5543-40e4-b166-afee4b0c7a58",
   "metadata": {},
   "outputs": [
    {
     "name": "stdout",
     "output_type": "stream",
     "text": [
      "Requirement already satisfied: transformers in /opt/conda/lib/python3.8/site-packages (4.24.0)\n",
      "Collecting datasets\n",
      "  Using cached datasets-2.8.0-py3-none-any.whl (452 kB)\n",
      "Collecting umap-learn\n",
      "  Using cached umap_learn-0.5.3-py3-none-any.whl\n",
      "Collecting sklearn\n",
      "  Using cached sklearn-0.0.post1-py3-none-any.whl\n",
      "Requirement already satisfied: packaging>=20.0 in /opt/conda/lib/python3.8/site-packages (from transformers) (21.3)\n",
      "Requirement already satisfied: filelock in /opt/conda/lib/python3.8/site-packages (from transformers) (3.4.2)\n",
      "Requirement already satisfied: regex!=2019.12.17 in /opt/conda/lib/python3.8/site-packages (from transformers) (2022.1.18)\n",
      "Requirement already satisfied: huggingface-hub<1.0,>=0.10.0 in /opt/conda/lib/python3.8/site-packages (from transformers) (0.11.0)\n",
      "Requirement already satisfied: requests in /opt/conda/lib/python3.8/site-packages (from transformers) (2.26.0)\n",
      "Requirement already satisfied: numpy>=1.17 in /opt/conda/lib/python3.8/site-packages (from transformers) (1.22.2)\n",
      "Requirement already satisfied: tokenizers!=0.11.3,<0.14,>=0.11.1 in /opt/conda/lib/python3.8/site-packages (from transformers) (0.13.2)\n",
      "Requirement already satisfied: pyyaml>=5.1 in /opt/conda/lib/python3.8/site-packages (from transformers) (6.0)\n",
      "Requirement already satisfied: tqdm>=4.27 in /opt/conda/lib/python3.8/site-packages (from transformers) (4.62.3)\n",
      "Collecting multiprocess\n",
      "  Using cached multiprocess-0.70.14-py38-none-any.whl (132 kB)\n",
      "Requirement already satisfied: fsspec[http]>=2021.11.1 in /opt/conda/lib/python3.8/site-packages (from datasets) (2022.1.0)\n",
      "Collecting dill<0.3.7\n",
      "  Using cached dill-0.3.6-py3-none-any.whl (110 kB)\n",
      "Collecting aiohttp\n",
      "  Using cached aiohttp-3.8.3-cp38-cp38-manylinux_2_17_x86_64.manylinux2014_x86_64.whl (1.0 MB)\n",
      "Collecting pyarrow>=6.0.0\n",
      "  Using cached pyarrow-10.0.1-cp38-cp38-manylinux_2_17_x86_64.manylinux2014_x86_64.whl (36.0 MB)\n",
      "Collecting xxhash\n",
      "  Using cached xxhash-3.2.0-cp38-cp38-manylinux_2_17_x86_64.manylinux2014_x86_64.whl (213 kB)\n",
      "Requirement already satisfied: pandas in /opt/conda/lib/python3.8/site-packages (from datasets) (1.5.2)\n",
      "Collecting responses<0.19\n",
      "  Using cached responses-0.18.0-py3-none-any.whl (38 kB)\n",
      "Requirement already satisfied: scikit-learn>=0.22 in /opt/conda/lib/python3.8/site-packages (from umap-learn) (0.24.0)\n",
      "Collecting pynndescent>=0.5\n",
      "  Using cached pynndescent-0.5.8-py3-none-any.whl\n",
      "Requirement already satisfied: numba>=0.49 in /opt/conda/lib/python3.8/site-packages (from umap-learn) (0.53.1)\n",
      "Requirement already satisfied: scipy>=1.0 in /opt/conda/lib/python3.8/site-packages (from umap-learn) (1.6.3)\n",
      "Requirement already satisfied: typing-extensions>=3.7.4.3 in /opt/conda/lib/python3.8/site-packages (from huggingface-hub<1.0,>=0.10.0->transformers) (4.0.1)\n",
      "Requirement already satisfied: setuptools in /opt/conda/lib/python3.8/site-packages (from numba>=0.49->umap-learn) (59.5.0)\n",
      "Requirement already satisfied: llvmlite<0.37,>=0.36.0rc1 in /opt/conda/lib/python3.8/site-packages (from numba>=0.49->umap-learn) (0.36.0)\n",
      "Requirement already satisfied: pyparsing!=3.0.5,>=2.0.2 in /opt/conda/lib/python3.8/site-packages (from packaging>=20.0->transformers) (3.0.7)\n",
      "Requirement already satisfied: joblib>=0.11 in /opt/conda/lib/python3.8/site-packages (from pynndescent>=0.5->umap-learn) (1.1.0)\n",
      "Requirement already satisfied: urllib3<1.27,>=1.21.1 in /opt/conda/lib/python3.8/site-packages (from requests->transformers) (1.26.7)\n",
      "Requirement already satisfied: idna<4,>=2.5 in /opt/conda/lib/python3.8/site-packages (from requests->transformers) (3.1)\n",
      "Requirement already satisfied: certifi>=2017.4.17 in /opt/conda/lib/python3.8/site-packages (from requests->transformers) (2022.9.24)\n",
      "Requirement already satisfied: charset-normalizer~=2.0.0 in /opt/conda/lib/python3.8/site-packages (from requests->transformers) (2.0.9)\n",
      "Requirement already satisfied: threadpoolctl>=2.0.0 in /opt/conda/lib/python3.8/site-packages (from scikit-learn>=0.22->umap-learn) (3.1.0)\n",
      "Collecting multidict<7.0,>=4.5\n",
      "  Using cached multidict-6.0.4-cp38-cp38-manylinux_2_17_x86_64.manylinux2014_x86_64.whl (121 kB)\n",
      "Collecting aiosignal>=1.1.2\n",
      "  Using cached aiosignal-1.3.1-py3-none-any.whl (7.6 kB)\n",
      "Requirement already satisfied: attrs>=17.3.0 in /opt/conda/lib/python3.8/site-packages (from aiohttp->datasets) (22.1.0)\n",
      "Collecting frozenlist>=1.1.1\n",
      "  Using cached frozenlist-1.3.3-cp38-cp38-manylinux_2_5_x86_64.manylinux1_x86_64.manylinux_2_17_x86_64.manylinux2014_x86_64.whl (161 kB)\n",
      "Collecting yarl<2.0,>=1.0\n",
      "  Using cached yarl-1.8.2-cp38-cp38-manylinux_2_17_x86_64.manylinux2014_x86_64.whl (262 kB)\n",
      "Collecting async-timeout<5.0,>=4.0.0a3\n",
      "  Using cached async_timeout-4.0.2-py3-none-any.whl (5.8 kB)\n",
      "Requirement already satisfied: pytz>=2020.1 in /opt/conda/lib/python3.8/site-packages (from pandas->datasets) (2021.3)\n",
      "Requirement already satisfied: python-dateutil>=2.8.1 in /opt/conda/lib/python3.8/site-packages (from pandas->datasets) (2.8.2)\n",
      "Requirement already satisfied: six>=1.5 in /opt/conda/lib/python3.8/site-packages (from python-dateutil>=2.8.1->pandas->datasets) (1.16.0)\n",
      "Installing collected packages: sklearn, xxhash, pyarrow, multidict, frozenlist, dill, async-timeout, yarl, responses, multiprocess, aiosignal, pynndescent, aiohttp, umap-learn, datasets\n",
      "  Attempting uninstall: pyarrow\n",
      "    Found existing installation: pyarrow 5.0.0\n",
      "    Uninstalling pyarrow-5.0.0:\n",
      "      Successfully uninstalled pyarrow-5.0.0\n",
      "Successfully installed aiohttp-3.8.3 aiosignal-1.3.1 async-timeout-4.0.2 datasets-2.8.0 dill-0.3.6 frozenlist-1.3.3 multidict-6.0.4 multiprocess-0.70.14 pyarrow-10.0.1 pynndescent-0.5.8 responses-0.18.0 sklearn-0.0.post1 umap-learn-0.5.3 xxhash-3.2.0 yarl-1.8.2\n",
      "\u001b[33mWARNING: Running pip as the 'root' user can result in broken permissions and conflicting behaviour with the system package manager. It is recommended to use a virtual environment instead: https://pip.pypa.io/warnings/venv\u001b[0m\u001b[33m\n",
      "\u001b[0m"
     ]
    }
   ],
   "source": [
    "!pip install transformers datasets umap-learn sklearn"
   ]
  },
  {
   "cell_type": "markdown",
   "id": "c6da3b55-beac-4563-8cf7-7414787cf55d",
   "metadata": {},
   "source": [
    "## Load the Dataset\n",
    "\n",
    "Here we are going to load the following dataset with some [twitter data](https://huggingface.co/datasets/tweet_eval)."
   ]
  },
  {
   "cell_type": "code",
   "execution_count": 2,
   "id": "a18b8a45-424e-40a4-8946-07e4f2f52593",
   "metadata": {},
   "outputs": [],
   "source": [
    "from datasets import load_dataset"
   ]
  },
  {
   "cell_type": "code",
   "execution_count": 3,
   "id": "7b006e3c-b500-4848-a395-eb5e768aa78c",
   "metadata": {},
   "outputs": [
    {
     "name": "stderr",
     "output_type": "stream",
     "text": [
      "Found cached dataset tweet_eval (/home/.cache/huggingface/datasets/tweet_eval/emotion/1.1.0/12aee5282b8784f3e95459466db4cdf45c6bf49719c25cdb0743d71ed0410343)\n"
     ]
    },
    {
     "data": {
      "application/json": {
       "ascii": false,
       "bar_format": null,
       "colour": null,
       "elapsed": 0.025829553604125977,
       "initial": 0,
       "n": 0,
       "ncols": null,
       "nrows": null,
       "postfix": null,
       "prefix": "",
       "rate": null,
       "total": 3,
       "unit": "it",
       "unit_divisor": 1000,
       "unit_scale": false
      },
      "application/vnd.jupyter.widget-view+json": {
       "model_id": "335d34a75ab74e14a9f58f765b69730a",
       "version_major": 2,
       "version_minor": 0
      },
      "text/plain": [
       "  0%|          | 0/3 [00:00<?, ?it/s]"
      ]
     },
     "metadata": {},
     "output_type": "display_data"
    },
    {
     "data": {
      "text/plain": [
       "DatasetDict({\n",
       "    train: Dataset({\n",
       "        features: ['text', 'label'],\n",
       "        num_rows: 3257\n",
       "    })\n",
       "    test: Dataset({\n",
       "        features: ['text', 'label'],\n",
       "        num_rows: 1421\n",
       "    })\n",
       "    validation: Dataset({\n",
       "        features: ['text', 'label'],\n",
       "        num_rows: 374\n",
       "    })\n",
       "})"
      ]
     },
     "execution_count": 3,
     "metadata": {},
     "output_type": "execute_result"
    }
   ],
   "source": [
    "ds_emotions = load_dataset(\"tweet_eval\", \"emotion\")\n",
    "ds_emotions"
   ]
  },
  {
   "cell_type": "code",
   "execution_count": 4,
   "id": "b240f712-bf00-4b0a-bd7e-710e18e04ad2",
   "metadata": {},
   "outputs": [],
   "source": [
    "ds_train = ds_emotions[\"train\"]\n",
    "ds_valid = ds_emotions[\"validation\"]"
   ]
  },
  {
   "cell_type": "code",
   "execution_count": 5,
   "id": "aa8f99b4-55ed-4ceb-a14b-c55974b6915b",
   "metadata": {},
   "outputs": [
    {
     "data": {
      "text/plain": [
       "{'text': \"“Worry is a down payment on a problem you may never have'. \\xa0Joyce Meyer.  #motivation #leadership #worry\",\n",
       " 'label': 2}"
      ]
     },
     "execution_count": 5,
     "metadata": {},
     "output_type": "execute_result"
    }
   ],
   "source": [
    "ds_train[0]"
   ]
  },
  {
   "cell_type": "code",
   "execution_count": 6,
   "id": "4e3e188a-8de0-4762-828b-81b19cc8342a",
   "metadata": {},
   "outputs": [
    {
     "data": {
      "text/plain": [
       "{'text': Value(dtype='string', id=None),\n",
       " 'label': ClassLabel(names=['anger', 'joy', 'optimism', 'sadness'], id=None)}"
      ]
     },
     "execution_count": 6,
     "metadata": {},
     "output_type": "execute_result"
    }
   ],
   "source": [
    "ds_train.features"
   ]
  },
  {
   "cell_type": "code",
   "execution_count": 7,
   "id": "d9ba1c59-503e-45ca-a1e8-1bdbc6098a1e",
   "metadata": {},
   "outputs": [
    {
     "data": {
      "text/plain": [
       "[\"“Worry is a down payment on a problem you may never have'. \\xa0Joyce Meyer.  #motivation #leadership #worry\",\n",
       " \"My roommate: it's okay that we can't spell because we have autocorrect. #terrible #firstworldprobs\",\n",
       " \"No but that's so cute. Atsu was probably shy about photos before but cherry helped her out uwu\",\n",
       " \"Rooneys fucking untouchable isn't he? Been fucking dreadful again, depay has looked decent(ish)tonight\",\n",
       " \"it's pretty depressing when u hit pan on ur favourite highlighter\"]"
      ]
     },
     "execution_count": 7,
     "metadata": {},
     "output_type": "execute_result"
    }
   ],
   "source": [
    "ds_train[\"text\"][0:5]"
   ]
  },
  {
   "cell_type": "code",
   "execution_count": 8,
   "id": "01d3f2ea-3ad7-4408-b836-4b1c73e07211",
   "metadata": {},
   "outputs": [
    {
     "data": {
      "text/plain": [
       "[2, 0, 1, 0, 3]"
      ]
     },
     "execution_count": 8,
     "metadata": {},
     "output_type": "execute_result"
    }
   ],
   "source": [
    "ds_train[\"label\"][0:5]"
   ]
  },
  {
   "cell_type": "markdown",
   "id": "af721e21-9b23-425c-ac34-f9cb583adf3b",
   "metadata": {},
   "source": [
    "## Data Visualization\n",
    "\n",
    "It's a super idea to see what's going on here in our dataset. So, let's convert this dataset to pandas & try to visualize it a bit."
   ]
  },
  {
   "cell_type": "code",
   "execution_count": 9,
   "id": "91597879-d7c5-4689-8b6f-b67acd81e184",
   "metadata": {},
   "outputs": [],
   "source": [
    "import pandas as pd\n",
    "import matplotlib.pyplot as plt"
   ]
  },
  {
   "cell_type": "code",
   "execution_count": 10,
   "id": "d26585e2-29a3-45b8-aee9-48fee49ccead",
   "metadata": {},
   "outputs": [],
   "source": [
    "ds_train.set_format(type=\"pandas\")"
   ]
  },
  {
   "cell_type": "code",
   "execution_count": 11,
   "id": "34a7b885-d08b-42ef-8fee-fad9d50cf559",
   "metadata": {},
   "outputs": [
    {
     "data": {
      "text/html": [
       "<div>\n",
       "<style scoped>\n",
       "    .dataframe tbody tr th:only-of-type {\n",
       "        vertical-align: middle;\n",
       "    }\n",
       "\n",
       "    .dataframe tbody tr th {\n",
       "        vertical-align: top;\n",
       "    }\n",
       "\n",
       "    .dataframe thead th {\n",
       "        text-align: right;\n",
       "    }\n",
       "</style>\n",
       "<table border=\"1\" class=\"dataframe\">\n",
       "  <thead>\n",
       "    <tr style=\"text-align: right;\">\n",
       "      <th></th>\n",
       "      <th>text</th>\n",
       "      <th>label</th>\n",
       "    </tr>\n",
       "  </thead>\n",
       "  <tbody>\n",
       "    <tr>\n",
       "      <th>0</th>\n",
       "      <td>“Worry is a down payment on a problem you may ...</td>\n",
       "      <td>2</td>\n",
       "    </tr>\n",
       "    <tr>\n",
       "      <th>1</th>\n",
       "      <td>My roommate: it's okay that we can't spell bec...</td>\n",
       "      <td>0</td>\n",
       "    </tr>\n",
       "    <tr>\n",
       "      <th>2</th>\n",
       "      <td>No but that's so cute. Atsu was probably shy a...</td>\n",
       "      <td>1</td>\n",
       "    </tr>\n",
       "    <tr>\n",
       "      <th>3</th>\n",
       "      <td>Rooneys fucking untouchable isn't he? Been fuc...</td>\n",
       "      <td>0</td>\n",
       "    </tr>\n",
       "    <tr>\n",
       "      <th>4</th>\n",
       "      <td>it's pretty depressing when u hit pan on ur fa...</td>\n",
       "      <td>3</td>\n",
       "    </tr>\n",
       "  </tbody>\n",
       "</table>\n",
       "</div>"
      ],
      "text/plain": [
       "                                                text  label\n",
       "0  “Worry is a down payment on a problem you may ...      2\n",
       "1  My roommate: it's okay that we can't spell bec...      0\n",
       "2  No but that's so cute. Atsu was probably shy a...      1\n",
       "3  Rooneys fucking untouchable isn't he? Been fuc...      0\n",
       "4  it's pretty depressing when u hit pan on ur fa...      3"
      ]
     },
     "execution_count": 11,
     "metadata": {},
     "output_type": "execute_result"
    }
   ],
   "source": [
    "df = ds_train[:]\n",
    "df.head()"
   ]
  },
  {
   "cell_type": "code",
   "execution_count": 12,
   "id": "5c366844-f138-4cf4-b63c-fe899eff5751",
   "metadata": {},
   "outputs": [
    {
     "data": {
      "text/html": [
       "<div>\n",
       "<style scoped>\n",
       "    .dataframe tbody tr th:only-of-type {\n",
       "        vertical-align: middle;\n",
       "    }\n",
       "\n",
       "    .dataframe tbody tr th {\n",
       "        vertical-align: top;\n",
       "    }\n",
       "\n",
       "    .dataframe thead th {\n",
       "        text-align: right;\n",
       "    }\n",
       "</style>\n",
       "<table border=\"1\" class=\"dataframe\">\n",
       "  <thead>\n",
       "    <tr style=\"text-align: right;\">\n",
       "      <th></th>\n",
       "      <th>text</th>\n",
       "      <th>label</th>\n",
       "      <th>label_text</th>\n",
       "    </tr>\n",
       "  </thead>\n",
       "  <tbody>\n",
       "    <tr>\n",
       "      <th>0</th>\n",
       "      <td>“Worry is a down payment on a problem you may ...</td>\n",
       "      <td>2</td>\n",
       "      <td>optimism</td>\n",
       "    </tr>\n",
       "    <tr>\n",
       "      <th>1</th>\n",
       "      <td>My roommate: it's okay that we can't spell bec...</td>\n",
       "      <td>0</td>\n",
       "      <td>anger</td>\n",
       "    </tr>\n",
       "    <tr>\n",
       "      <th>2</th>\n",
       "      <td>No but that's so cute. Atsu was probably shy a...</td>\n",
       "      <td>1</td>\n",
       "      <td>joy</td>\n",
       "    </tr>\n",
       "    <tr>\n",
       "      <th>3</th>\n",
       "      <td>Rooneys fucking untouchable isn't he? Been fuc...</td>\n",
       "      <td>0</td>\n",
       "      <td>anger</td>\n",
       "    </tr>\n",
       "    <tr>\n",
       "      <th>4</th>\n",
       "      <td>it's pretty depressing when u hit pan on ur fa...</td>\n",
       "      <td>3</td>\n",
       "      <td>sadness</td>\n",
       "    </tr>\n",
       "    <tr>\n",
       "      <th>5</th>\n",
       "      <td>@user but your pussy was weak from what I hear...</td>\n",
       "      <td>0</td>\n",
       "      <td>anger</td>\n",
       "    </tr>\n",
       "    <tr>\n",
       "      <th>6</th>\n",
       "      <td>Making that yearly transition from excited and...</td>\n",
       "      <td>3</td>\n",
       "      <td>sadness</td>\n",
       "    </tr>\n",
       "    <tr>\n",
       "      <th>7</th>\n",
       "      <td>Tiller and breezy should do a collab album. Ra...</td>\n",
       "      <td>1</td>\n",
       "      <td>joy</td>\n",
       "    </tr>\n",
       "    <tr>\n",
       "      <th>8</th>\n",
       "      <td>@user broadband is shocking regretting signing...</td>\n",
       "      <td>0</td>\n",
       "      <td>anger</td>\n",
       "    </tr>\n",
       "    <tr>\n",
       "      <th>9</th>\n",
       "      <td>@user Look at those teef! #growl</td>\n",
       "      <td>0</td>\n",
       "      <td>anger</td>\n",
       "    </tr>\n",
       "  </tbody>\n",
       "</table>\n",
       "</div>"
      ],
      "text/plain": [
       "                                                text  label label_text\n",
       "0  “Worry is a down payment on a problem you may ...      2   optimism\n",
       "1  My roommate: it's okay that we can't spell bec...      0      anger\n",
       "2  No but that's so cute. Atsu was probably shy a...      1        joy\n",
       "3  Rooneys fucking untouchable isn't he? Been fuc...      0      anger\n",
       "4  it's pretty depressing when u hit pan on ur fa...      3    sadness\n",
       "5  @user but your pussy was weak from what I hear...      0      anger\n",
       "6  Making that yearly transition from excited and...      3    sadness\n",
       "7  Tiller and breezy should do a collab album. Ra...      1        joy\n",
       "8  @user broadband is shocking regretting signing...      0      anger\n",
       "9                   @user Look at those teef! #growl      0      anger"
      ]
     },
     "execution_count": 12,
     "metadata": {},
     "output_type": "execute_result"
    }
   ],
   "source": [
    "## let's add a text columns as the label\n",
    "df[\"label_text\"] = df[\"label\"].apply(lambda x: ds_train.features[\"label\"].int2str(x))\n",
    "df.head(10)"
   ]
  },
  {
   "cell_type": "code",
   "execution_count": 13,
   "id": "dc95b08f-58bd-4ba2-aa06-d7596d959ec9",
   "metadata": {},
   "outputs": [
    {
     "data": {
      "image/png": "[encoded data removed]",
      "text/plain": [
       "<Figure size 432x288 with 1 Axes>"
      ]
     },
     "metadata": {
      "needs_background": "light"
     },
     "output_type": "display_data"
    }
   ],
   "source": [
    "## Visalizing label's class distribution\n",
    "df[\"label_text\"].value_counts().plot.barh()\n",
    "plt.title(\"Frequency of Label classes\")\n",
    "plt.show()"
   ]
  },
  {
   "cell_type": "markdown",
   "id": "dd85ca15-33a7-4501-aca6-2060499beaee",
   "metadata": {},
   "source": [
    "**Based on this, it's clear that we have more anger, sadness  tweets.**\n",
    "\n",
    "If we have imblance classes, we should try to use a tool like [imbalance-learn](https://imbalanced-learn.org/stable/introduction.html) for any sort of production use."
   ]
  },
  {
   "cell_type": "code",
   "execution_count": 14,
   "id": "18f2d8df-ef3d-48ef-95d0-cc436352feb7",
   "metadata": {},
   "outputs": [
    {
     "data": {
      "image/png": "[encoded data removed]",
      "text/plain": [
       "<Figure size 432x288 with 1 Axes>"
      ]
     },
     "metadata": {
      "needs_background": "light"
     },
     "output_type": "display_data"
    }
   ],
   "source": [
    "## Plotting the number of words in text\n",
    "df[\"no_of_words\"] = df[\"text\"].str.split().apply(len)\n",
    "df.boxplot(column=[\"no_of_words\"], by=[\"label_text\"])\n",
    "plt.suptitle(\"\")\n",
    "plt.xlabel(\"\")\n",
    "plt.show()"
   ]
  },
  {
   "cell_type": "markdown",
   "id": "ef67f037-574c-44f9-8816-c6411bac246b",
   "metadata": {},
   "source": [
    "**Okay. No of words are under 25 for most of the cases. So, we don't have issues with no of tokens in these tweets.**\n",
    "<br/>\n",
    "That's because there are some limitations for the lenght of tokens."
   ]
  },
  {
   "cell_type": "markdown",
   "id": "370018c9-32c3-489a-976f-fe847d47b79e",
   "metadata": {},
   "source": [
    "## Tokenizing\n",
    "\n",
    "Here we use the tokenizer used in Bert called [WordPiece](https://ai.googleblog.com/2021/12/a-fast-wordpiece-tokenization-system.html).\n",
    "It's mix of both word & character based tokenizer."
   ]
  },
  {
   "cell_type": "code",
   "execution_count": 15,
   "id": "7c209165-05cb-4796-aa86-9853875c725a",
   "metadata": {},
   "outputs": [],
   "source": [
    "from transformers import AutoTokenizer"
   ]
  },
  {
   "cell_type": "code",
   "execution_count": 16,
   "id": "9407fae4-dd18-4245-b2fd-343b876cf0ee",
   "metadata": {},
   "outputs": [],
   "source": [
    "model_name = \"distilbert-base-uncased\"\n",
    "tokenizer = AutoTokenizer.from_pretrained(model_name)"
   ]
  },
  {
   "cell_type": "markdown",
   "id": "6295fb2e-e011-4734-a47b-f8befd38fc26",
   "metadata": {},
   "source": [
    "### Info about the Tokenizer"
   ]
  },
  {
   "cell_type": "code",
   "execution_count": 17,
   "id": "367b4850-07ca-411b-a60a-d29f9cf494bd",
   "metadata": {},
   "outputs": [
    {
     "data": {
      "text/plain": [
       "30522"
      ]
     },
     "execution_count": 17,
     "metadata": {},
     "output_type": "execute_result"
    }
   ],
   "source": [
    "tokenizer.vocab_size"
   ]
  },
  {
   "cell_type": "code",
   "execution_count": 18,
   "id": "ee98712f-7dba-4b68-8e56-cd51f23b71aa",
   "metadata": {},
   "outputs": [
    {
     "data": {
      "text/plain": [
       "512"
      ]
     },
     "execution_count": 18,
     "metadata": {},
     "output_type": "execute_result"
    }
   ],
   "source": [
    "tokenizer.model_max_length"
   ]
  },
  {
   "cell_type": "code",
   "execution_count": 19,
   "id": "1443f8bd-bf3e-4c96-942d-f287a468d78b",
   "metadata": {},
   "outputs": [
    {
     "data": {
      "text/plain": [
       "['input_ids', 'attention_mask']"
      ]
     },
     "execution_count": 19,
     "metadata": {},
     "output_type": "execute_result"
    }
   ],
   "source": [
    "tokenizer.model_input_names"
   ]
  },
  {
   "cell_type": "markdown",
   "id": "e835282f-c779-493e-9adc-a6d8993611f6",
   "metadata": {},
   "source": [
    "### Tokenizing"
   ]
  },
  {
   "cell_type": "code",
   "execution_count": 20,
   "id": "84d8da06-68f5-4c44-873d-cf654fb01f1f",
   "metadata": {},
   "outputs": [],
   "source": [
    "ds_train.reset_format()"
   ]
  },
  {
   "cell_type": "code",
   "execution_count": 21,
   "id": "803d85ed-402c-4977-839b-312fefb6f5fb",
   "metadata": {},
   "outputs": [
    {
     "data": {
      "text/plain": [
       "[\"“Worry is a down payment on a problem you may never have'. \\xa0Joyce Meyer.  #motivation #leadership #worry\",\n",
       " \"My roommate: it's okay that we can't spell because we have autocorrect. #terrible #firstworldprobs\"]"
      ]
     },
     "execution_count": 21,
     "metadata": {},
     "output_type": "execute_result"
    }
   ],
   "source": [
    "sample_text = ds_train[0:2][\"text\"]\n",
    "sample_text"
   ]
  },
  {
   "cell_type": "code",
   "execution_count": 22,
   "id": "3d17d8ed-13f9-4622-bbfd-21b67a2ffd08",
   "metadata": {},
   "outputs": [
    {
     "data": {
      "text/plain": [
       "{'input_ids': [[101, 1523, 4737, 2003, 1037, 2091, 7909, 2006, 1037, 3291, 2017, 2089, 2196, 2031, 1005, 1012, 11830, 11527, 1012, 1001, 14354, 1001, 4105, 1001, 4737, 102, 0, 0, 0, 0], [101, 2026, 18328, 1024, 2009, 1005, 1055, 3100, 2008, 2057, 2064, 1005, 1056, 6297, 2138, 2057, 2031, 8285, 27108, 2890, 6593, 1012, 1001, 6659, 1001, 2034, 11108, 21572, 5910, 102]], 'attention_mask': [[1, 1, 1, 1, 1, 1, 1, 1, 1, 1, 1, 1, 1, 1, 1, 1, 1, 1, 1, 1, 1, 1, 1, 1, 1, 1, 0, 0, 0, 0], [1, 1, 1, 1, 1, 1, 1, 1, 1, 1, 1, 1, 1, 1, 1, 1, 1, 1, 1, 1, 1, 1, 1, 1, 1, 1, 1, 1, 1, 1]]}"
      ]
     },
     "execution_count": 22,
     "metadata": {},
     "output_type": "execute_result"
    }
   ],
   "source": [
    "encoded_texts = tokenizer(sample_text, truncation=True, padding=True)\n",
    "encoded_texts"
   ]
  },
  {
   "cell_type": "markdown",
   "id": "c23cd592-5b6d-45a4-b876-70b22afe10db",
   "metadata": {},
   "source": [
    "As you can see, tokenizing convert them into **input_ids** and **attention_mask**.\n",
    "<br/>\n",
    "Here we do padding and `attention_mask` makes sure those padding won't affect when calculating the attention logic.\n",
    "\n",
    "### Converting ids back to tokens & text"
   ]
  },
  {
   "cell_type": "code",
   "execution_count": 23,
   "id": "267ffa20-11ce-4e5e-a175-935c9c986523",
   "metadata": {},
   "outputs": [
    {
     "name": "stdout",
     "output_type": "stream",
     "text": [
      "['[CLS]', '“', 'worry', 'is', 'a', 'down', 'payment', 'on', 'a', 'problem', 'you', 'may', 'never', 'have', \"'\", '.', 'joyce', 'meyer', '.', '#', 'motivation', '#', 'leadership', '#', 'worry', '[SEP]', '[PAD]', '[PAD]', '[PAD]', '[PAD]']\n"
     ]
    }
   ],
   "source": [
    "# Here's how to converts ids into tokens\n",
    "sample_tokens = tokenizer.convert_ids_to_tokens(encoded_texts[\"input_ids\"][0])\n",
    "print(sample_tokens)"
   ]
  },
  {
   "cell_type": "code",
   "execution_count": 24,
   "id": "a4382f50-21a2-4036-914b-401c8a323de0",
   "metadata": {},
   "outputs": [
    {
     "data": {
      "text/plain": [
       "\"[CLS] “ worry is a down payment on a problem you may never have '. joyce meyer. # motivation # leadership # worry [SEP] [PAD] [PAD] [PAD] [PAD]\""
      ]
     },
     "execution_count": 24,
     "metadata": {},
     "output_type": "execute_result"
    }
   ],
   "source": [
    "# Here's how to convert tokens into strings\n",
    "tokenizer.convert_tokens_to_string(sample_tokens)"
   ]
  },
  {
   "cell_type": "code",
   "execution_count": 25,
   "id": "fe9b7ece-6b1c-4c37-be78-04ddad6c28a8",
   "metadata": {},
   "outputs": [
    {
     "data": {
      "text/plain": [
       "{'text': \"“Worry is a down payment on a problem you may never have'. \\xa0Joyce Meyer.  #motivation #leadership #worry\",\n",
       " 'label': 2}"
      ]
     },
     "execution_count": 25,
     "metadata": {},
     "output_type": "execute_result"
    }
   ],
   "source": [
    "ds_train[0]"
   ]
  },
  {
   "cell_type": "markdown",
   "id": "42d709ba-2d69-4a53-91ea-c0d3ffaedcf3",
   "metadata": {},
   "source": [
    "## Loading the Hidden State"
   ]
  },
  {
   "cell_type": "code",
   "execution_count": 26,
   "id": "af7985a4-451f-409b-a874-84869823b13e",
   "metadata": {},
   "outputs": [],
   "source": [
    "device = \"cuda\""
   ]
  },
  {
   "cell_type": "code",
   "execution_count": 27,
   "id": "c761193f-3c91-4349-9f68-beb248eb0c42",
   "metadata": {},
   "outputs": [],
   "source": [
    "from transformers import AutoModel, DistilBertModel\n",
    "import torch\n",
    "import numpy as np"
   ]
  },
  {
   "cell_type": "code",
   "execution_count": 28,
   "id": "6b61ac09-2af5-48bc-b29f-9573b158c5d9",
   "metadata": {},
   "outputs": [
    {
     "name": "stderr",
     "output_type": "stream",
     "text": [
      "Some weights of the model checkpoint at distilbert-base-uncased were not used when initializing DistilBertModel: ['vocab_transform.weight', 'vocab_layer_norm.bias', 'vocab_transform.bias', 'vocab_projector.weight', 'vocab_layer_norm.weight', 'vocab_projector.bias']\n",
      "- This IS expected if you are initializing DistilBertModel from the checkpoint of a model trained on another task or with another architecture (e.g. initializing a BertForSequenceClassification model from a BertForPreTraining model).\n",
      "- This IS NOT expected if you are initializing DistilBertModel from the checkpoint of a model that you expect to be exactly identical (initializing a BertForSequenceClassification model from a BertForSequenceClassification model).\n"
     ]
    }
   ],
   "source": [
    "model = AutoModel.from_pretrained(model_name).to(device)"
   ]
  },
  {
   "cell_type": "markdown",
   "id": "d49d508c-e335-4dc2-b1a8-56d8b4de6be1",
   "metadata": {},
   "source": [
    "### Trying out the model"
   ]
  },
  {
   "cell_type": "code",
   "execution_count": 29,
   "id": "5f9d468f-e6de-4a8f-97f7-67a31e935844",
   "metadata": {},
   "outputs": [
    {
     "data": {
      "text/plain": [
       "(torch.Size([2, 30]), torch.Size([2, 30]))"
      ]
     },
     "execution_count": 29,
     "metadata": {},
     "output_type": "execute_result"
    }
   ],
   "source": [
    "token_infos = tokenizer(sample_text, padding=True, truncation=True)\n",
    "inputs = {k:torch.tensor(v).to(device) for k,v in token_infos.items()}\n",
    "inputs[\"input_ids\"].shape, inputs[\"attention_mask\"].shape"
   ]
  },
  {
   "cell_type": "code",
   "execution_count": 30,
   "id": "1ab36320-65ba-4198-8bb0-74aeaccfea9b",
   "metadata": {},
   "outputs": [
    {
     "data": {
      "text/plain": [
       "torch.Size([2, 30, 768])"
      ]
     },
     "execution_count": 30,
     "metadata": {},
     "output_type": "execute_result"
    }
   ],
   "source": [
    "with torch.no_grad():\n",
    "    sample_hidden_state = model(**inputs).last_hidden_state\n",
    "sample_hidden_state.shape"
   ]
  },
  {
   "cell_type": "markdown",
   "id": "e4a2cc5f-047f-40ad-a02b-f4bebfa24cbd",
   "metadata": {},
   "source": [
    "Here, we got 30 as the dimention because the sequence lenght of these inputs is **30**.\n",
    "But, we only need a single set of features only.\n",
    "\n",
    "So, in this case we will pick the first item. That's fine because all the words in the sequence will be used to calculate the attention."
   ]
  },
  {
   "cell_type": "code",
   "execution_count": 31,
   "id": "31fff03d-06f5-4f27-abce-f42179dfa37a",
   "metadata": {},
   "outputs": [
    {
     "data": {
      "text/plain": [
       "torch.Size([2, 768])"
      ]
     },
     "execution_count": 31,
     "metadata": {},
     "output_type": "execute_result"
    }
   ],
   "source": [
    "## So, our hidden state will be\n",
    "sample_hidden_state[:, 0, :].shape"
   ]
  },
  {
   "cell_type": "markdown",
   "id": "44abd4c2-e857-41fa-9eb2-2f746ec99a3e",
   "metadata": {},
   "source": [
    "### Get All Hidden States"
   ]
  },
  {
   "cell_type": "code",
   "execution_count": 32,
   "id": "b84e7533-1db4-4cfc-9609-597576daeb07",
   "metadata": {},
   "outputs": [],
   "source": [
    "ds_emotions.set_format(\"torch\")"
   ]
  },
  {
   "cell_type": "code",
   "execution_count": 33,
   "id": "43e20c82-737d-49de-a2b2-26551c176e88",
   "metadata": {},
   "outputs": [
    {
     "name": "stderr",
     "output_type": "stream",
     "text": [
      "Loading cached processed dataset at /home/.cache/huggingface/datasets/tweet_eval/emotion/1.1.0/12aee5282b8784f3e95459466db4cdf45c6bf49719c25cdb0743d71ed0410343/cache-e5c92de8fc114c23.arrow\n",
      "Loading cached processed dataset at /home/.cache/huggingface/datasets/tweet_eval/emotion/1.1.0/12aee5282b8784f3e95459466db4cdf45c6bf49719c25cdb0743d71ed0410343/cache-05d5cc6f173c55cb.arrow\n",
      "Loading cached processed dataset at /home/.cache/huggingface/datasets/tweet_eval/emotion/1.1.0/12aee5282b8784f3e95459466db4cdf45c6bf49719c25cdb0743d71ed0410343/cache-31cc373a6ce5c9fd.arrow\n"
     ]
    }
   ],
   "source": [
    "def extract_hidden_state(a):\n",
    "    token_info = tokenizer(a[\"text\"], padding=True, truncation=True)\n",
    "    input_ids = torch.tensor(token_info.input_ids).to(device)\n",
    "    attention_mask = torch.tensor(token_info.attention_mask).to(device)\n",
    "    \n",
    "    hidden_state = model(input_ids=input_ids, attention_mask=attention_mask).last_hidden_state[:, 0, :]\n",
    "    return {\"hidden_state\": hidden_state}\n",
    "    \n",
    "ds_train_with_hidden = ds_emotions.map(extract_hidden_state, batched=True, batch_size=64)"
   ]
  },
  {
   "cell_type": "code",
   "execution_count": 34,
   "id": "687ef943-d711-44f2-8701-6eb46054c0ab",
   "metadata": {},
   "outputs": [
    {
     "data": {
      "text/plain": [
       "torch.Size([10, 768])"
      ]
     },
     "execution_count": 34,
     "metadata": {},
     "output_type": "execute_result"
    }
   ],
   "source": [
    "ds_train_with_hidden[\"train\"][0:10][\"hidden_state\"].shape"
   ]
  },
  {
   "cell_type": "markdown",
   "id": "0939c0c0-4903-4b49-9259-c3fa051b4fd1",
   "metadata": {},
   "source": [
    "## Visualizing Hidden State & Labels\n",
    "\n",
    "Before we do any sorts of training, it's good idea to visualize our dataset.\n",
    "\n",
    "Since we use our hidden state as features, we got abour **768** features. So, we need some way to visualize these."
   ]
  },
  {
   "cell_type": "code",
   "execution_count": 35,
   "id": "98d5702b-7e1f-4b83-b78f-84fcd6c71dec",
   "metadata": {},
   "outputs": [
    {
     "data": {
      "text/plain": [
       "((3257, 768), (3257,))"
      ]
     },
     "execution_count": 35,
     "metadata": {},
     "output_type": "execute_result"
    }
   ],
   "source": [
    "X_train = ds_train_with_hidden[\"train\"][\"hidden_state\"].numpy()\n",
    "Y_train = ds_train_with_hidden[\"train\"][\"label\"].numpy()\n",
    "X_valid = ds_train_with_hidden[\"test\"][\"hidden_state\"].numpy()\n",
    "Y_valid = ds_train_with_hidden[\"test\"][\"label\"].numpy()\n",
    "\n",
    "X_train.shape, Y_train.shape"
   ]
  },
  {
   "cell_type": "code",
   "execution_count": 36,
   "id": "17575ea2-af44-49df-a02f-8e182b14cc14",
   "metadata": {},
   "outputs": [],
   "source": [
    "from umap import UMAP\n",
    "from sklearn.preprocessing import MinMaxScaler"
   ]
  },
  {
   "cell_type": "code",
   "execution_count": 37,
   "id": "17aabd8a-ded8-4544-82f6-e265e2940be1",
   "metadata": {},
   "outputs": [],
   "source": [
    "# Get X_train features into 0-1 range\n",
    "X_train_uniform = MinMaxScaler().fit_transform(X_train)"
   ]
  },
  {
   "cell_type": "code",
   "execution_count": 38,
   "id": "6354573e-96f4-490b-a609-e3721f3e0ee8",
   "metadata": {},
   "outputs": [],
   "source": [
    "# Create the mapping\n",
    "mapper = UMAP(n_components=2, metric=\"cosine\").fit(X_train_uniform)"
   ]
  },
  {
   "cell_type": "code",
   "execution_count": 39,
   "id": "5ede6303-9f3f-4b94-8f8b-43973253df3d",
   "metadata": {},
   "outputs": [],
   "source": [
    "# Move this into a dataframe\n",
    "df_train = pd.DataFrame(mapper.embedding_, columns=[\"X\", \"Y\"])\n",
    "df_train[\"label\"] = Y_train"
   ]
  },
  {
   "cell_type": "code",
   "execution_count": 40,
   "id": "f05e6ff2-9018-4c93-b0b3-0b54edcd9f6a",
   "metadata": {},
   "outputs": [
    {
     "data": {
      "image/png": "[encoded data removed]",
      "text/plain": [
       "<Figure size 1440x288 with 4 Axes>"
      ]
     },
     "metadata": {
      "needs_background": "light"
     },
     "output_type": "display_data"
    }
   ],
   "source": [
    "# Let's plot these\n",
    "labels = ds_train.features['label'].names\n",
    "cmaps = [\"Greys\", \"Blues\", \"Greens\", \"Reds\"]\n",
    "\n",
    "fig, ax = plt.subplots(1, 4, figsize=(20, 4))\n",
    "\n",
    "for index, (label, cmap) in enumerate(zip(labels, cmaps)):\n",
    "    df_label = df_train.query(f\"label == {index}\")\n",
    "    ax[index].hexbin(df_label[\"X\"], df_label[\"Y\"], gridsize=20, cmap=cmap)\n",
    "    ax[index].set_title(label)"
   ]
  },
  {
   "cell_type": "markdown",
   "id": "b1f7b467-a556-41e9-a40d-f4e6ee03a009",
   "metadata": {},
   "source": [
    "**Yep.**\n",
    "\n",
    "They seems to have some sort of different clusterization. Hope we can do something great with a decent classifier."
   ]
  },
  {
   "cell_type": "markdown",
   "id": "f68dd6e4-8fd6-491b-8c6f-0b3da62a136d",
   "metadata": {},
   "source": [
    "# Training a Classifier\n",
    "\n",
    "Now we use these hidden states as the features. Let's try train some classifiers and see how they perform."
   ]
  },
  {
   "cell_type": "markdown",
   "id": "7b10374b-b29d-4aec-be73-c2d31bb3092c",
   "metadata": {},
   "source": [
    "## Baseline\n",
    "\n",
    "This is random classifier, which randomly select something."
   ]
  },
  {
   "cell_type": "code",
   "execution_count": 41,
   "id": "94786a87-2cbc-4291-ac77-85fa90bdaa95",
   "metadata": {},
   "outputs": [
    {
     "data": {
      "text/plain": [
       "0.39268121041520054"
      ]
     },
     "execution_count": 41,
     "metadata": {},
     "output_type": "execute_result"
    }
   ],
   "source": [
    "from sklearn.dummy import DummyClassifier\n",
    "\n",
    "clf_dummy = DummyClassifier(strategy=\"most_frequent\")\n",
    "clf_dummy.fit(X_train, Y_train)\n",
    "clf_dummy.score(X_valid, Y_valid)"
   ]
  },
  {
   "cell_type": "markdown",
   "id": "b2f0b969-ee09-40a5-bcc3-95cd19061e7c",
   "metadata": {},
   "source": [
    "## Using Hidden State Features"
   ]
  },
  {
   "cell_type": "code",
   "execution_count": 42,
   "id": "01a587a8-1b4c-4d6b-8ce2-0fec5761070e",
   "metadata": {},
   "outputs": [
    {
     "data": {
      "text/plain": [
       "0.7417311752287121"
      ]
     },
     "execution_count": 42,
     "metadata": {},
     "output_type": "execute_result"
    }
   ],
   "source": [
    "from sklearn.linear_model import LogisticRegression\n",
    "\n",
    "clf_lr = LogisticRegression(max_iter=3000)\n",
    "clf_lr.fit(X_train, Y_train)\n",
    "clf_lr.score(X_valid, Y_valid)"
   ]
  },
  {
   "cell_type": "markdown",
   "id": "16f01e33-50b0-4f08-9ad8-67d87f5f3393",
   "metadata": {},
   "source": [
    "**Okay we get a really good accuracy here.**"
   ]
  },
  {
   "cell_type": "markdown",
   "id": "1d9a4a4d-fa38-4464-8b07-1ac5bc921410",
   "metadata": {},
   "source": [
    "## Let's Plot a Confusion Matrix"
   ]
  },
  {
   "cell_type": "code",
   "execution_count": 43,
   "id": "0116b369-4d52-4e19-82d7-c5b384f91f11",
   "metadata": {},
   "outputs": [],
   "source": [
    "ds_emotions.set_format(\"pandas\")"
   ]
  },
  {
   "cell_type": "code",
   "execution_count": 44,
   "id": "7b6e4d3e-cf67-4964-bbc6-047b5a98379c",
   "metadata": {},
   "outputs": [],
   "source": [
    "df_train, df_valid = ds_emotions[\"train\"][:], ds_emotions[\"validation\"][:]\n",
    "df_train[\"label_text\"] = df_train[\"label\"].apply(lambda x: labels[x])\n",
    "df_valid[\"label_text\"] = df_valid[\"label\"].apply(lambda x: labels[x])"
   ]
  },
  {
   "cell_type": "code",
   "execution_count": 45,
   "id": "46db700e-3371-409c-ad14-fc3859541ce3",
   "metadata": {},
   "outputs": [
    {
     "data": {
      "text/plain": [
       "<AxesSubplot: >"
      ]
     },
     "execution_count": 45,
     "metadata": {},
     "output_type": "execute_result"
    },
    {
     "data": {
      "image/png": "[encoded data removed]",
      "text/plain": [
       "<Figure size 432x288 with 1 Axes>"
      ]
     },
     "metadata": {
      "needs_background": "light"
     },
     "output_type": "display_data"
    }
   ],
   "source": [
    "df_train[\"label_text\"].value_counts().plot.barh()"
   ]
  },
  {
   "cell_type": "code",
   "execution_count": 46,
   "id": "b7b224ad-a7dd-4cc6-ae1f-35b8ef5993eb",
   "metadata": {},
   "outputs": [
    {
     "data": {
      "text/plain": [
       "<AxesSubplot: >"
      ]
     },
     "execution_count": 46,
     "metadata": {},
     "output_type": "execute_result"
    },
    {
     "data": {
      "image/png": "[encoded data removed]",
      "text/plain": [
       "<Figure size 432x288 with 1 Axes>"
      ]
     },
     "metadata": {
      "needs_background": "light"
     },
     "output_type": "display_data"
    }
   ],
   "source": [
    "df_valid[\"label_text\"].value_counts().plot.barh()"
   ]
  },
  {
   "cell_type": "code",
   "execution_count": 48,
   "id": "d1a2fe29-398d-4da6-a9a3-830b6e0bad40",
   "metadata": {},
   "outputs": [
    {
     "data": {
      "text/plain": [
       "<sklearn.metrics._plot.confusion_matrix.ConfusionMatrixDisplay at 0x7f49966e6fd0>"
      ]
     },
     "execution_count": 48,
     "metadata": {},
     "output_type": "execute_result"
    },
    {
     "data": {
      "image/png": "[encoded data removed]",
      "text/plain": [
       "<Figure size 576x576 with 2 Axes>"
      ]
     },
     "metadata": {
      "needs_background": "light"
     },
     "output_type": "display_data"
    }
   ],
   "source": [
    "from sklearn.metrics import plot_confusion_matrix\n",
    "_, ax = plt.subplots(figsize=(8, 8))\n",
    "plot_confusion_matrix(clf_lr, X_valid, Y_valid, cmap=\"Blues\", display_labels=labels, ax=ax, normalize=\"true\")"
   ]
  },
  {
   "cell_type": "markdown",
   "id": "9fa013dd-1863-40e6-833c-212cd52d9cf8",
   "metadata": {},
   "source": [
    "**Conclusion**\n",
    "\n",
    "* Here sometimes, anger is mostly mistaken to sadness & wise verse\n",
    "* Joy is generally okay\n",
    "* optimism was bit confused with others\n",
    "* There is also lesser amount of optimism & joy samples, that could be a reason too.\n",
    "\n",
    "Overall, this method is a success with very little effort. Let's see how fine tuning can help us more as the next stage."
   ]
  },
  {
   "cell_type": "code",
   "execution_count": null,
   "id": "b26eafbc-e134-4504-acd0-e3b27f507898",
   "metadata": {},
   "outputs": [],
   "source": []
  }
 ],
 "metadata": {
  "kernelspec": {
   "display_name": "Python 3",
   "language": "python",
   "name": "python3"
  },
  "language_info": {
   "codemirror_mode": {
    "name": "ipython",
    "version": 3
   },
   "file_extension": ".py",
   "mimetype": "text/x-python",
   "name": "python",
   "nbconvert_exporter": "python",
   "pygments_lexer": "ipython3",
   "version": "3.8.12"
  }
 },
 "nbformat": 4,
 "nbformat_minor": 5
}
