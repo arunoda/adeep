{
 "cells": [
  {
   "cell_type": "markdown",
   "id": "20f10238-c4d9-4e2c-a16e-51f185cf64e2",
   "metadata": {},
   "source": [
    "# Text Classification With Hidden State\n",
    "\n",
    "Here we are going to do some text classification based on a hiddenstate of a transformer(BERT) language model.\n",
    "\n",
    "This can be a form of transfer-learning, but we do not finetune the model with the new data. Instead, we extract features from the lanhuage model & use simple LinearRegression model for the classification task."
   ]
  },
  {
   "cell_type": "code",
   "execution_count": 4,
   "id": "150c262f-5543-40e4-b166-afee4b0c7a58",
   "metadata": {},
   "outputs": [],
   "source": [
    "# !pip install transformers datasets"
   ]
  },
  {
   "cell_type": "markdown",
   "id": "c6da3b55-beac-4563-8cf7-7414787cf55d",
   "metadata": {},
   "source": [
    "## Load the Dataset\n",
    "\n",
    "Here we are going to load the following dataset with some [twitter data](https://huggingface.co/datasets/tweet_eval)."
   ]
  },
  {
   "cell_type": "code",
   "execution_count": 6,
   "id": "a18b8a45-424e-40a4-8946-07e4f2f52593",
   "metadata": {},
   "outputs": [],
   "source": [
    "from datasets import load_dataset"
   ]
  },
  {
   "cell_type": "code",
   "execution_count": 11,
   "id": "7b006e3c-b500-4848-a395-eb5e768aa78c",
   "metadata": {},
   "outputs": [
    {
     "name": "stderr",
     "output_type": "stream",
     "text": [
      "Found cached dataset tweet_eval (/home/.cache/huggingface/datasets/tweet_eval/emotion/1.1.0/12aee5282b8784f3e95459466db4cdf45c6bf49719c25cdb0743d71ed0410343)\n"
     ]
    },
    {
     "data": {
      "application/json": {
       "ascii": false,
       "bar_format": null,
       "colour": null,
       "elapsed": 0.02423095703125,
       "initial": 0,
       "n": 0,
       "ncols": null,
       "nrows": null,
       "postfix": null,
       "prefix": "",
       "rate": null,
       "total": 3,
       "unit": "it",
       "unit_divisor": 1000,
       "unit_scale": false
      },
      "application/vnd.jupyter.widget-view+json": {
       "model_id": "6ba90bb7acd34b1b806ed2d0806dd660",
       "version_major": 2,
       "version_minor": 0
      },
      "text/plain": [
       "  0%|          | 0/3 [00:00<?, ?it/s]"
      ]
     },
     "metadata": {},
     "output_type": "display_data"
    },
    {
     "data": {
      "text/plain": [
       "DatasetDict({\n",
       "    train: Dataset({\n",
       "        features: ['text', 'label'],\n",
       "        num_rows: 3257\n",
       "    })\n",
       "    test: Dataset({\n",
       "        features: ['text', 'label'],\n",
       "        num_rows: 1421\n",
       "    })\n",
       "    validation: Dataset({\n",
       "        features: ['text', 'label'],\n",
       "        num_rows: 374\n",
       "    })\n",
       "})"
      ]
     },
     "execution_count": 11,
     "metadata": {},
     "output_type": "execute_result"
    }
   ],
   "source": [
    "ds_emotions = load_dataset(\"tweet_eval\", \"emotion\")\n",
    "ds_emotions"
   ]
  },
  {
   "cell_type": "code",
   "execution_count": 18,
   "id": "b240f712-bf00-4b0a-bd7e-710e18e04ad2",
   "metadata": {},
   "outputs": [],
   "source": [
    "ds_train = ds_emotions[\"train\"]\n",
    "ds_valid = ds_emotions[\"validation\"]"
   ]
  },
  {
   "cell_type": "code",
   "execution_count": 21,
   "id": "aa8f99b4-55ed-4ceb-a14b-c55974b6915b",
   "metadata": {},
   "outputs": [
    {
     "data": {
      "text/plain": [
       "{'text': \"“Worry is a down payment on a problem you may never have'. \\xa0Joyce Meyer.  #motivation #leadership #worry\",\n",
       " 'label': 2}"
      ]
     },
     "execution_count": 21,
     "metadata": {},
     "output_type": "execute_result"
    }
   ],
   "source": [
    "ds_train[0]"
   ]
  },
  {
   "cell_type": "code",
   "execution_count": 22,
   "id": "4e3e188a-8de0-4762-828b-81b19cc8342a",
   "metadata": {},
   "outputs": [
    {
     "data": {
      "text/plain": [
       "{'text': Value(dtype='string', id=None),\n",
       " 'label': ClassLabel(names=['anger', 'joy', 'optimism', 'sadness'], id=None)}"
      ]
     },
     "execution_count": 22,
     "metadata": {},
     "output_type": "execute_result"
    }
   ],
   "source": [
    "ds_train.features"
   ]
  },
  {
   "cell_type": "code",
   "execution_count": 24,
   "id": "d9ba1c59-503e-45ca-a1e8-1bdbc6098a1e",
   "metadata": {},
   "outputs": [
    {
     "data": {
      "text/plain": [
       "[\"“Worry is a down payment on a problem you may never have'. \\xa0Joyce Meyer.  #motivation #leadership #worry\",\n",
       " \"My roommate: it's okay that we can't spell because we have autocorrect. #terrible #firstworldprobs\",\n",
       " \"No but that's so cute. Atsu was probably shy about photos before but cherry helped her out uwu\",\n",
       " \"Rooneys fucking untouchable isn't he? Been fucking dreadful again, depay has looked decent(ish)tonight\",\n",
       " \"it's pretty depressing when u hit pan on ur favourite highlighter\"]"
      ]
     },
     "execution_count": 24,
     "metadata": {},
     "output_type": "execute_result"
    }
   ],
   "source": [
    "ds_train[\"text\"][0:5]"
   ]
  },
  {
   "cell_type": "code",
   "execution_count": 25,
   "id": "01d3f2ea-3ad7-4408-b836-4b1c73e07211",
   "metadata": {},
   "outputs": [
    {
     "data": {
      "text/plain": [
       "[2, 0, 1, 0, 3]"
      ]
     },
     "execution_count": 25,
     "metadata": {},
     "output_type": "execute_result"
    }
   ],
   "source": [
    "ds_train[\"label\"][0:5]"
   ]
  },
  {
   "cell_type": "markdown",
   "id": "af721e21-9b23-425c-ac34-f9cb583adf3b",
   "metadata": {},
   "source": [
    "## Data Visualization\n",
    "\n",
    "It's a super idea to see what's going on here in our dataset. So, let's convert this dataset to pandas & try to visualize it a bit."
   ]
  },
  {
   "cell_type": "code",
   "execution_count": 54,
   "id": "91597879-d7c5-4689-8b6f-b67acd81e184",
   "metadata": {},
   "outputs": [],
   "source": [
    "import pandas as pd\n",
    "import matplotlib.pyplot as plt"
   ]
  },
  {
   "cell_type": "code",
   "execution_count": 28,
   "id": "d26585e2-29a3-45b8-aee9-48fee49ccead",
   "metadata": {},
   "outputs": [],
   "source": [
    "ds_train.set_format(type=\"pandas\")"
   ]
  },
  {
   "cell_type": "code",
   "execution_count": 42,
   "id": "34a7b885-d08b-42ef-8fee-fad9d50cf559",
   "metadata": {},
   "outputs": [
    {
     "data": {
      "text/html": [
       "<div>\n",
       "<style scoped>\n",
       "    .dataframe tbody tr th:only-of-type {\n",
       "        vertical-align: middle;\n",
       "    }\n",
       "\n",
       "    .dataframe tbody tr th {\n",
       "        vertical-align: top;\n",
       "    }\n",
       "\n",
       "    .dataframe thead th {\n",
       "        text-align: right;\n",
       "    }\n",
       "</style>\n",
       "<table border=\"1\" class=\"dataframe\">\n",
       "  <thead>\n",
       "    <tr style=\"text-align: right;\">\n",
       "      <th></th>\n",
       "      <th>text</th>\n",
       "      <th>label</th>\n",
       "    </tr>\n",
       "  </thead>\n",
       "  <tbody>\n",
       "    <tr>\n",
       "      <th>0</th>\n",
       "      <td>“Worry is a down payment on a problem you may ...</td>\n",
       "      <td>2</td>\n",
       "    </tr>\n",
       "    <tr>\n",
       "      <th>1</th>\n",
       "      <td>My roommate: it's okay that we can't spell bec...</td>\n",
       "      <td>0</td>\n",
       "    </tr>\n",
       "    <tr>\n",
       "      <th>2</th>\n",
       "      <td>No but that's so cute. Atsu was probably shy a...</td>\n",
       "      <td>1</td>\n",
       "    </tr>\n",
       "    <tr>\n",
       "      <th>3</th>\n",
       "      <td>Rooneys fucking untouchable isn't he? Been fuc...</td>\n",
       "      <td>0</td>\n",
       "    </tr>\n",
       "    <tr>\n",
       "      <th>4</th>\n",
       "      <td>it's pretty depressing when u hit pan on ur fa...</td>\n",
       "      <td>3</td>\n",
       "    </tr>\n",
       "  </tbody>\n",
       "</table>\n",
       "</div>"
      ],
      "text/plain": [
       "                                                text  label\n",
       "0  “Worry is a down payment on a problem you may ...      2\n",
       "1  My roommate: it's okay that we can't spell bec...      0\n",
       "2  No but that's so cute. Atsu was probably shy a...      1\n",
       "3  Rooneys fucking untouchable isn't he? Been fuc...      0\n",
       "4  it's pretty depressing when u hit pan on ur fa...      3"
      ]
     },
     "execution_count": 42,
     "metadata": {},
     "output_type": "execute_result"
    }
   ],
   "source": [
    "df = ds_train[:]\n",
    "df.head()"
   ]
  },
  {
   "cell_type": "code",
   "execution_count": 47,
   "id": "5c366844-f138-4cf4-b63c-fe899eff5751",
   "metadata": {},
   "outputs": [
    {
     "data": {
      "text/html": [
       "<div>\n",
       "<style scoped>\n",
       "    .dataframe tbody tr th:only-of-type {\n",
       "        vertical-align: middle;\n",
       "    }\n",
       "\n",
       "    .dataframe tbody tr th {\n",
       "        vertical-align: top;\n",
       "    }\n",
       "\n",
       "    .dataframe thead th {\n",
       "        text-align: right;\n",
       "    }\n",
       "</style>\n",
       "<table border=\"1\" class=\"dataframe\">\n",
       "  <thead>\n",
       "    <tr style=\"text-align: right;\">\n",
       "      <th></th>\n",
       "      <th>text</th>\n",
       "      <th>label</th>\n",
       "      <th>label_text</th>\n",
       "    </tr>\n",
       "  </thead>\n",
       "  <tbody>\n",
       "    <tr>\n",
       "      <th>0</th>\n",
       "      <td>“Worry is a down payment on a problem you may ...</td>\n",
       "      <td>2</td>\n",
       "      <td>optimism</td>\n",
       "    </tr>\n",
       "    <tr>\n",
       "      <th>1</th>\n",
       "      <td>My roommate: it's okay that we can't spell bec...</td>\n",
       "      <td>0</td>\n",
       "      <td>anger</td>\n",
       "    </tr>\n",
       "    <tr>\n",
       "      <th>2</th>\n",
       "      <td>No but that's so cute. Atsu was probably shy a...</td>\n",
       "      <td>1</td>\n",
       "      <td>joy</td>\n",
       "    </tr>\n",
       "    <tr>\n",
       "      <th>3</th>\n",
       "      <td>Rooneys fucking untouchable isn't he? Been fuc...</td>\n",
       "      <td>0</td>\n",
       "      <td>anger</td>\n",
       "    </tr>\n",
       "    <tr>\n",
       "      <th>4</th>\n",
       "      <td>it's pretty depressing when u hit pan on ur fa...</td>\n",
       "      <td>3</td>\n",
       "      <td>sadness</td>\n",
       "    </tr>\n",
       "    <tr>\n",
       "      <th>5</th>\n",
       "      <td>@user but your pussy was weak from what I hear...</td>\n",
       "      <td>0</td>\n",
       "      <td>anger</td>\n",
       "    </tr>\n",
       "    <tr>\n",
       "      <th>6</th>\n",
       "      <td>Making that yearly transition from excited and...</td>\n",
       "      <td>3</td>\n",
       "      <td>sadness</td>\n",
       "    </tr>\n",
       "    <tr>\n",
       "      <th>7</th>\n",
       "      <td>Tiller and breezy should do a collab album. Ra...</td>\n",
       "      <td>1</td>\n",
       "      <td>joy</td>\n",
       "    </tr>\n",
       "    <tr>\n",
       "      <th>8</th>\n",
       "      <td>@user broadband is shocking regretting signing...</td>\n",
       "      <td>0</td>\n",
       "      <td>anger</td>\n",
       "    </tr>\n",
       "    <tr>\n",
       "      <th>9</th>\n",
       "      <td>@user Look at those teef! #growl</td>\n",
       "      <td>0</td>\n",
       "      <td>anger</td>\n",
       "    </tr>\n",
       "  </tbody>\n",
       "</table>\n",
       "</div>"
      ],
      "text/plain": [
       "                                                text  label label_text\n",
       "0  “Worry is a down payment on a problem you may ...      2   optimism\n",
       "1  My roommate: it's okay that we can't spell bec...      0      anger\n",
       "2  No but that's so cute. Atsu was probably shy a...      1        joy\n",
       "3  Rooneys fucking untouchable isn't he? Been fuc...      0      anger\n",
       "4  it's pretty depressing when u hit pan on ur fa...      3    sadness\n",
       "5  @user but your pussy was weak from what I hear...      0      anger\n",
       "6  Making that yearly transition from excited and...      3    sadness\n",
       "7  Tiller and breezy should do a collab album. Ra...      1        joy\n",
       "8  @user broadband is shocking regretting signing...      0      anger\n",
       "9                   @user Look at those teef! #growl      0      anger"
      ]
     },
     "execution_count": 47,
     "metadata": {},
     "output_type": "execute_result"
    }
   ],
   "source": [
    "## let's add a text columns as the label\n",
    "df[\"label_text\"] = df[\"label\"].apply(lambda x: ds_train.features[\"label\"].int2str(x))\n",
    "df.head(10)"
   ]
  },
  {
   "cell_type": "code",
   "execution_count": 56,
   "id": "dc95b08f-58bd-4ba2-aa06-d7596d959ec9",
   "metadata": {},
   "outputs": [
    {
     "data": {
      "image/png": "[encoded data removed]",
      "text/plain": [
       "<Figure size 432x288 with 1 Axes>"
      ]
     },
     "metadata": {
      "needs_background": "light"
     },
     "output_type": "display_data"
    }
   ],
   "source": [
    "## Visalizing label's class distribution\n",
    "df[\"label_text\"].value_counts().plot.barh()\n",
    "plt.title(\"Frequency of Label classes\")\n",
    "plt.show()"
   ]
  },
  {
   "cell_type": "markdown",
   "id": "dd85ca15-33a7-4501-aca6-2060499beaee",
   "metadata": {},
   "source": [
    "**Based on this, it's clear that we have more anger, sadness  tweets.**\n",
    "\n",
    "If we have imblance classes, we should try to use a tool like [imbalance-learn](https://imbalanced-learn.org/stable/introduction.html) for any sort of production use."
   ]
  },
  {
   "cell_type": "code",
   "execution_count": 82,
   "id": "18f2d8df-ef3d-48ef-95d0-cc436352feb7",
   "metadata": {},
   "outputs": [
    {
     "data": {
      "image/png": "[encoded data removed]",
      "text/plain": [
       "<Figure size 432x288 with 1 Axes>"
      ]
     },
     "metadata": {
      "needs_background": "light"
     },
     "output_type": "display_data"
    }
   ],
   "source": [
    "## Plotting the number of words in text\n",
    "df[\"no_of_words\"] = df[\"text\"].str.split().apply(len)\n",
    "df.boxplot(column=[\"no_of_words\"], by=[\"label_text\"])\n",
    "plt.suptitle(\"\")\n",
    "plt.xlabel(\"\")\n",
    "plt.show()"
   ]
  },
  {
   "cell_type": "markdown",
   "id": "ef67f037-574c-44f9-8816-c6411bac246b",
   "metadata": {},
   "source": [
    "**Okay. No of words are under 25 for most of the cases. So, we don't have issues with no of tokens in these tweets.**\n",
    "<br/>\n",
    "That's because there are some limitations for the lenght of tokens."
   ]
  },
  {
   "cell_type": "code",
   "execution_count": null,
   "id": "00405d54-71f6-449b-ae25-abbb9d088b04",
   "metadata": {},
   "outputs": [],
   "source": []
  }
 ],
 "metadata": {
  "kernelspec": {
   "display_name": "Python 3",
   "language": "python",
   "name": "python3"
  },
  "language_info": {
   "codemirror_mode": {
    "name": "ipython",
    "version": 3
   },
   "file_extension": ".py",
   "mimetype": "text/x-python",
   "name": "python",
   "nbconvert_exporter": "python",
   "pygments_lexer": "ipython3",
   "version": "3.8.12"
  }
 },
 "nbformat": 4,
 "nbformat_minor": 5
}
